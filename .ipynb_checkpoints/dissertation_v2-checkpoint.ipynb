{
 "cells": [
  {
   "cell_type": "code",
   "execution_count": 1,
   "metadata": {},
   "outputs": [],
   "source": [
    "import re\n",
    "from pprint import pprint\n",
    "\n",
    "import matplotlib.pyplot as plt\n",
    "import nltk\n",
    "import numpy as np\n",
    "import pandas as pd\n",
    "import seaborn as sns\n",
    "import spacy\n",
    "from gensim.models import KeyedVectors, Word2Vec\n",
    "from nltk.corpus import stopwords\n",
    "from sklearn.cluster import KMeans\n",
    "from sklearn.decomposition import PCA\n",
    "from sklearn.metrics.pairwise import cosine_similarity\n",
    "\n",
    "\n",
    "pd.set_option('display.max_colwidth', None)\n",
    "SPECIAL_CHARS = '[^A-Za-z0-9 ]+'\n",
    "STOP_WORDS = stopwords.words('english')"
   ]
  },
  {
   "cell_type": "markdown",
   "metadata": {},
   "source": [
    "# 2. Functions"
   ]
  },
  {
   "cell_type": "code",
   "execution_count": 2,
   "metadata": {},
   "outputs": [],
   "source": [
    "def preprocess_text(text):\n",
    "    \"\"\"\n",
    "    Take out stopwords.\n",
    "    Take out punctuations and special characters.\n",
    "    \"\"\"\n",
    "    SPECIAL_CHARS = '[^A-Za-z0-9 ]+'\n",
    "    STOP_WORDS = stopwords.words('english')\n",
    "    text = text.lower().split(' ')\n",
    "    temp = [word for word in text if word not in STOP_WORDS]\n",
    "    text = ' '.join(temp)\n",
    "    text = re.sub(SPECIAL_CHARS, '', text)\n",
    "    return text"
   ]
  },
  {
   "cell_type": "code",
   "execution_count": 3,
   "metadata": {},
   "outputs": [],
   "source": [
    "def tokenise(doc):\n",
    "    return [token.text for token in nlp(doc)]"
   ]
  },
  {
   "cell_type": "code",
   "execution_count": 4,
   "metadata": {},
   "outputs": [],
   "source": [
    "def tokenise_lemma(doc):\n",
    "    \"\"\"\n",
    "    Use spacy as the nlp object to tokenise each doc\n",
    "    Lemmatise each words\n",
    "    \"\"\"\n",
    "    return ' '.join([token.lemma_ for token in nlp(doc)])"
   ]
  },
  {
   "cell_type": "code",
   "execution_count": 5,
   "metadata": {},
   "outputs": [],
   "source": [
    "# this is one way to get each title's vector representation\n",
    "# more investagtion is needed later.\n",
    "\n",
    "def get_vectors(first_map, second_map):\n",
    "    \"\"\"\n",
    "    Use tokenised words to get vectors representations from the pretrained model (i.e. second_map).\n",
    "    Average the vector representation of the description as the representation of the document \n",
    "    (i.e. each movie title's representation is the mean of vectors of each words in its description)\n",
    "    \"\"\"\n",
    "    first_vec  = dict()\n",
    "    for title, description in first_map.items():\n",
    "        temp = list()\n",
    "        for element in description: #element = tokenised words\n",
    "            try:\n",
    "                temp.append(second_map[element]) #secondmap is w2v model which should have a responding word vecotr for the tokenise word\n",
    "            except KeyError:\n",
    "                pass\n",
    "        first_vec[title] = np.mean(temp, axis=0)\n",
    "    \n",
    "    return first_vec"
   ]
  },
  {
   "cell_type": "code",
   "execution_count": 6,
   "metadata": {},
   "outputs": [],
   "source": [
    "def search(name, df):\n",
    "    return df.loc[df['title'].str.lower()==name.lower()]"
   ]
  },
  {
   "cell_type": "code",
   "execution_count": 31,
   "metadata": {},
   "outputs": [],
   "source": [
    "def get_topN_similar(lookup_id, title_vec, df, N=10):\n",
    "    lookup_id = lookup_id.lower()\n",
    "    sim = list()\n",
    "    lookup_map = title_vec\n",
    "    subject_map = title_vec \n",
    "        \n",
    "    for uid, vec in lookup_map.items():\n",
    "        thisSim = cosine_similarity(vec.reshape(1, -1), subject_map[lookup_id].reshape(1, -1))\n",
    "        org = search(uid, df).originals.values\n",
    "        gen = search(uid, df).genres.values\n",
    "        sim.append((uid, thisSim[0][0], org, gen))\n",
    "    sim = sorted(sim, key=lambda x: x[1], reverse=True)[:N+1]\n",
    "    returnDf = pd.DataFrame(columns=['title','similarity','originals','genres'],\n",
    "                           data = sim)\n",
    "    return returnDf"
   ]
  },
  {
   "cell_type": "code",
   "execution_count": 8,
   "metadata": {},
   "outputs": [],
   "source": [
    "def get_most_similar(lookup_id, title_vec, df):\n",
    "\n",
    "    sim = list()\n",
    "    lookup_map = title_vec\n",
    "    subject_map = title_vec \n",
    "        \n",
    "    for uid, vec in lookup_map.items():\n",
    "        thisSim = cosine_similarity(vec.reshape(1, -1), subject_map[lookup_id].reshape(1, -1))\n",
    "        org = search(uid, df).originals.values\n",
    "        gen = search(uid, df).genres.values\n",
    "        sim.append((uid, thisSim[0][0], org, gen))\n",
    "\n",
    "    return sorted(sim, key=lambda x: x[1], reverse=True)"
   ]
  },
  {
   "cell_type": "code",
   "execution_count": 9,
   "metadata": {},
   "outputs": [],
   "source": [
    "def filter_df(keyword):\n",
    "    \"\"\"\n",
    "    Return a dataframe with the filtered result.\n",
    "    The input value is case-insensitive. \n",
    "    \"\"\"\n",
    "    if type(keyword) == list:\n",
    "        return netflixDf.loc[netflixDf['title'].isin(keyword)]\n",
    "    else:\n",
    "        return netflixDf.loc[netflixDf['title'].str.lower().isin([keyword.lower()])]"
   ]
  },
  {
   "cell_type": "code",
   "execution_count": 10,
   "metadata": {},
   "outputs": [],
   "source": [
    "def markerX(key, values):\n",
    "    return netflixDf.loc[netflixDf[key].str.lower().isin(values)].sort_values(by='pca_2', ascending=False)\n",
    "\n",
    "def others(key, values):\n",
    "    return netflixDf.loc[~netflixDf[key].str.lower().isin(values)]"
   ]
  },
  {
   "cell_type": "markdown",
   "metadata": {},
   "source": [
    "# 3. Analyse Pipeline"
   ]
  },
  {
   "cell_type": "markdown",
   "metadata": {},
   "source": [
    "## Terms explained\n",
    "Document -> a bunch of texts <br>\n",
    "Corpus -> a bunch of documents <br>\n",
    "Vectors -> a mathematically convenience representation of a document (a bunch of textx) <br>\n",
    "Models -> an algorithm for transforming vectors from one representation to another <br>"
   ]
  },
  {
   "cell_type": "markdown",
   "metadata": {},
   "source": [
    "## Read the dataset/ Load the spacy pretrained model"
   ]
  },
  {
   "cell_type": "code",
   "execution_count": 87,
   "metadata": {},
   "outputs": [],
   "source": [
    "netflixDf = pd.read_csv('finalDataset_v2.csv', usecols=['title','type','description','genres','originals', 'year'])"
   ]
  },
  {
   "cell_type": "code",
   "execution_count": 88,
   "metadata": {},
   "outputs": [],
   "source": [
    "df = pd.read_csv('debugged.csv', usecols=['cleaned'])"
   ]
  },
  {
   "cell_type": "code",
   "execution_count": 89,
   "metadata": {},
   "outputs": [],
   "source": [
    "netflixDf = pd.concat([netflixDf,df], axis=1)"
   ]
  },
  {
   "cell_type": "code",
   "execution_count": 14,
   "metadata": {},
   "outputs": [],
   "source": [
    "# np.where(pd.isnull(df.cleaned))"
   ]
  },
  {
   "cell_type": "code",
   "execution_count": 15,
   "metadata": {},
   "outputs": [],
   "source": [
    "# use pre-trained corpus to help tokenise words\n",
    "nlp = spacy.load('en_core_web_sm')"
   ]
  },
  {
   "cell_type": "markdown",
   "metadata": {},
   "source": [
    "## Analyse Descriptive Data"
   ]
  },
  {
   "cell_type": "code",
   "execution_count": 63,
   "metadata": {},
   "outputs": [],
   "source": [
    "movieDf = netflixDf.loc[netflixDf['type']=='movie']\n",
    "tvshowDf = netflixDf.loc[netflixDf['type']=='tvshow']"
   ]
  },
  {
   "cell_type": "markdown",
   "metadata": {},
   "source": [
    "## Create Corpus and apply word embedding"
   ]
  },
  {
   "cell_type": "code",
   "execution_count": 64,
   "metadata": {},
   "outputs": [],
   "source": [
    "movieCorpus = movieDf.cleaned.values.tolist() #list of docs\n",
    "tvshowCorpus = tvshowDf.cleaned.values.tolist() #list of docs"
   ]
  },
  {
   "cell_type": "code",
   "execution_count": 65,
   "metadata": {},
   "outputs": [],
   "source": [
    "movieTkDocs = [tokenise(doc) for doc in movieCorpus] #tokenise \n",
    "tvshowTkDocs = [tokenise(doc) for doc in tvshowCorpus] #tokenise "
   ]
  },
  {
   "cell_type": "code",
   "execution_count": 66,
   "metadata": {},
   "outputs": [],
   "source": [
    "# mapping out the title and each description. so later on i can search \n",
    "movieMap = dict(zip(movieDf['title'].str.lower().tolist(), movieTkDocs))\n",
    "tvshowMap = dict(zip(tvshowDf['title'].str.lower().tolist(), tvshowTkDocs))\n",
    "# lower the title (easy for search)"
   ]
  },
  {
   "cell_type": "code",
   "execution_count": 21,
   "metadata": {},
   "outputs": [],
   "source": [
    "path = \"GoogleNews-vectors-negative300.bin\"\n",
    "w2v = KeyedVectors.load_word2vec_format(path, binary=True)\n",
    "# It is much faster take less than 2 minutes"
   ]
  },
  {
   "cell_type": "code",
   "execution_count": 67,
   "metadata": {},
   "outputs": [],
   "source": [
    "movieTitleVec = get_vectors(movieMap, w2v)"
   ]
  },
  {
   "cell_type": "code",
   "execution_count": 68,
   "metadata": {},
   "outputs": [],
   "source": [
    "tvshowTitleVec = get_vectors(tvshowMap, w2v)"
   ]
  },
  {
   "cell_type": "code",
   "execution_count": 26,
   "metadata": {},
   "outputs": [
    {
     "data": {
      "text/html": [
       "<div>\n",
       "<style scoped>\n",
       "    .dataframe tbody tr th:only-of-type {\n",
       "        vertical-align: middle;\n",
       "    }\n",
       "\n",
       "    .dataframe tbody tr th {\n",
       "        vertical-align: top;\n",
       "    }\n",
       "\n",
       "    .dataframe thead th {\n",
       "        text-align: right;\n",
       "    }\n",
       "</style>\n",
       "<table border=\"1\" class=\"dataframe\">\n",
       "  <thead>\n",
       "    <tr style=\"text-align: right;\">\n",
       "      <th></th>\n",
       "      <th>title</th>\n",
       "      <th>similarity</th>\n",
       "      <th>originals</th>\n",
       "      <th>genres</th>\n",
       "    </tr>\n",
       "  </thead>\n",
       "  <tbody>\n",
       "    <tr>\n",
       "      <th>0</th>\n",
       "      <td>you</td>\n",
       "      <td>1.000000</td>\n",
       "      <td>[0]</td>\n",
       "      <td>[crime,drama,romance,thriller]</td>\n",
       "    </tr>\n",
       "    <tr>\n",
       "      <th>1</th>\n",
       "      <td>man down</td>\n",
       "      <td>0.851182</td>\n",
       "      <td>[0]</td>\n",
       "      <td>[comedy]</td>\n",
       "    </tr>\n",
       "    <tr>\n",
       "      <th>2</th>\n",
       "      <td>sword art online alternative: gun gale online</td>\n",
       "      <td>0.850906</td>\n",
       "      <td>[0]</td>\n",
       "      <td>[animation,anime,action-and-adventure,fantasy,science-fiction]</td>\n",
       "    </tr>\n",
       "    <tr>\n",
       "      <th>3</th>\n",
       "      <td>love alarm</td>\n",
       "      <td>0.843957</td>\n",
       "      <td>[1]</td>\n",
       "      <td>[drama,comedy,romance]</td>\n",
       "    </tr>\n",
       "    <tr>\n",
       "      <th>4</th>\n",
       "      <td>the mysteries of laura</td>\n",
       "      <td>0.832644</td>\n",
       "      <td>[0]</td>\n",
       "      <td>[comedy,crime,drama,mystery]</td>\n",
       "    </tr>\n",
       "    <tr>\n",
       "      <th>5</th>\n",
       "      <td>love, chunibyo &amp; other delusions</td>\n",
       "      <td>0.832444</td>\n",
       "      <td>[0]</td>\n",
       "      <td>[animation,anime,comedy,drama,romance,fantasy]</td>\n",
       "    </tr>\n",
       "    <tr>\n",
       "      <th>6</th>\n",
       "      <td>no tomorrow</td>\n",
       "      <td>0.828042</td>\n",
       "      <td>[0]</td>\n",
       "      <td>[drama,comedy,romance]</td>\n",
       "    </tr>\n",
       "    <tr>\n",
       "      <th>7</th>\n",
       "      <td>the good place</td>\n",
       "      <td>0.827645</td>\n",
       "      <td>[0]</td>\n",
       "      <td>[comedy,drama,fantasy,romance,science-fiction]</td>\n",
       "    </tr>\n",
       "    <tr>\n",
       "      <th>8</th>\n",
       "      <td>london spy</td>\n",
       "      <td>0.825912</td>\n",
       "      <td>[0]</td>\n",
       "      <td>[drama,lgbtq,crime,mystery,romance,thriller]</td>\n",
       "    </tr>\n",
       "    <tr>\n",
       "      <th>9</th>\n",
       "      <td>servant of the people</td>\n",
       "      <td>0.825141</td>\n",
       "      <td>[0]</td>\n",
       "      <td>[comedy]</td>\n",
       "    </tr>\n",
       "    <tr>\n",
       "      <th>10</th>\n",
       "      <td>monthly girls' nozaki-kun</td>\n",
       "      <td>0.822389</td>\n",
       "      <td>[0]</td>\n",
       "      <td>[animation,anime,comedy,romance]</td>\n",
       "    </tr>\n",
       "  </tbody>\n",
       "</table>\n",
       "</div>"
      ],
      "text/plain": [
       "                                            title  similarity originals  \\\n",
       "0                                             you    1.000000       [0]   \n",
       "1                                        man down    0.851182       [0]   \n",
       "2   sword art online alternative: gun gale online    0.850906       [0]   \n",
       "3                                      love alarm    0.843957       [1]   \n",
       "4                          the mysteries of laura    0.832644       [0]   \n",
       "5                love, chunibyo & other delusions    0.832444       [0]   \n",
       "6                                     no tomorrow    0.828042       [0]   \n",
       "7                                  the good place    0.827645       [0]   \n",
       "8                                      london spy    0.825912       [0]   \n",
       "9                           servant of the people    0.825141       [0]   \n",
       "10                      monthly girls' nozaki-kun    0.822389       [0]   \n",
       "\n",
       "                                                            genres  \n",
       "0                                   [crime,drama,romance,thriller]  \n",
       "1                                                         [comedy]  \n",
       "2   [animation,anime,action-and-adventure,fantasy,science-fiction]  \n",
       "3                                           [drama,comedy,romance]  \n",
       "4                                     [comedy,crime,drama,mystery]  \n",
       "5                   [animation,anime,comedy,drama,romance,fantasy]  \n",
       "6                                           [drama,comedy,romance]  \n",
       "7                   [comedy,drama,fantasy,romance,science-fiction]  \n",
       "8                     [drama,lgbtq,crime,mystery,romance,thriller]  \n",
       "9                                                         [comedy]  \n",
       "10                                [animation,anime,comedy,romance]  "
      ]
     },
     "execution_count": 26,
     "metadata": {},
     "output_type": "execute_result"
    }
   ],
   "source": [
    "get_topN_similar('you', tvshowTitleVec, tvshowDf)"
   ]
  },
  {
   "cell_type": "code",
   "execution_count": 69,
   "metadata": {},
   "outputs": [
    {
     "data": {
      "text/html": [
       "<div>\n",
       "<style scoped>\n",
       "    .dataframe tbody tr th:only-of-type {\n",
       "        vertical-align: middle;\n",
       "    }\n",
       "\n",
       "    .dataframe tbody tr th {\n",
       "        vertical-align: top;\n",
       "    }\n",
       "\n",
       "    .dataframe thead th {\n",
       "        text-align: right;\n",
       "    }\n",
       "</style>\n",
       "<table border=\"1\" class=\"dataframe\">\n",
       "  <thead>\n",
       "    <tr style=\"text-align: right;\">\n",
       "      <th></th>\n",
       "      <th>title</th>\n",
       "      <th>genres</th>\n",
       "      <th>description</th>\n",
       "      <th>type</th>\n",
       "      <th>originals</th>\n",
       "      <th>cleaned</th>\n",
       "    </tr>\n",
       "  </thead>\n",
       "  <tbody>\n",
       "    <tr>\n",
       "      <th>2819</th>\n",
       "      <td>Splatter</td>\n",
       "      <td>horror,drama</td>\n",
       "      <td>https://www.themoviedb.org/tv/39633-splatterSplatter is streaming with subscription on Netflix. It's a drama and horror movie with a very low IMDb audience rating of 3.1 (456 votes).</td>\n",
       "      <td>movie</td>\n",
       "      <td>0</td>\n",
       "      <td>Johnny Splatter accumulated as many hit records as he did enemies on his climb up the fame ladder. His sudden death, ruled a suicide, brings a small circle of professional parasites and hangers-on to his Hollywood Hills mansion for the reading of his last will and testament. But as his “frenemies” come to pick the bones clean, Johnny has returned for a deadly encore long after what they thought was his final curtain.</td>\n",
       "    </tr>\n",
       "  </tbody>\n",
       "</table>\n",
       "</div>"
      ],
      "text/plain": [
       "         title        genres  \\\n",
       "2819  Splatter  horror,drama   \n",
       "\n",
       "                                                                                                                                                                                 description  \\\n",
       "2819  https://www.themoviedb.org/tv/39633-splatterSplatter is streaming with subscription on Netflix. It's a drama and horror movie with a very low IMDb audience rating of 3.1 (456 votes).   \n",
       "\n",
       "       type  originals  \\\n",
       "2819  movie          0   \n",
       "\n",
       "                                                                                                                                                                                                                                                                                                                                                                                                                                   cleaned  \n",
       "2819  Johnny Splatter accumulated as many hit records as he did enemies on his climb up the fame ladder. His sudden death, ruled a suicide, brings a small circle of professional parasites and hangers-on to his Hollywood Hills mansion for the reading of his last will and testament. But as his “frenemies” come to pick the bones clean, Johnny has returned for a deadly encore long after what they thought was his final curtain.  "
      ]
     },
     "execution_count": 69,
     "metadata": {},
     "output_type": "execute_result"
    }
   ],
   "source": [
    "search('splatter',movieDf)"
   ]
  },
  {
   "cell_type": "code",
   "execution_count": 70,
   "metadata": {},
   "outputs": [
    {
     "data": {
      "text/plain": [
       "array([[0.79452443]], dtype=float32)"
      ]
     },
     "execution_count": 70,
     "metadata": {},
     "output_type": "execute_result"
    }
   ],
   "source": [
    "x = movieTitleVec['splatter']\n",
    "y = movieTitleVec['tall girl']\n",
    "cosine_similarity(x.reshape(1, -1), y.reshape(1, -1))"
   ]
  },
  {
   "cell_type": "code",
   "execution_count": 56,
   "metadata": {},
   "outputs": [],
   "source": [
    "def get_topN_similar(lookup_id, title_vec, df, N=10):\n",
    "    lookup_id = lookup_id.lower()\n",
    "    sim = list()\n",
    "    lookup_map = title_vec\n",
    "    subject_map = title_vec \n",
    "        \n",
    "    for uid, vec in lookup_map.items():\n",
    "        try:\n",
    "            thisSim = cosine_similarity(vec.reshape(1, -1), subject_map[lookup_id].reshape(1, -1))\n",
    "            org = search(uid, df).originals.values\n",
    "            gen = search(uid, df).genres.values\n",
    "            sim.append((uid, thisSim[0][0], org, gen))\n",
    "        except:\n",
    "            print(uid)\n",
    "    sim = sorted(sim, key=lambda x: x[1], reverse=True)[:N+1]\n",
    "    returnDf = pd.DataFrame(columns=['title','similarity','originals','genres'],\n",
    "                           data = sim)\n",
    "    return returnDf"
   ]
  },
  {
   "cell_type": "code",
   "execution_count": 72,
   "metadata": {},
   "outputs": [
    {
     "data": {
      "text/html": [
       "<div>\n",
       "<style scoped>\n",
       "    .dataframe tbody tr th:only-of-type {\n",
       "        vertical-align: middle;\n",
       "    }\n",
       "\n",
       "    .dataframe tbody tr th {\n",
       "        vertical-align: top;\n",
       "    }\n",
       "\n",
       "    .dataframe thead th {\n",
       "        text-align: right;\n",
       "    }\n",
       "</style>\n",
       "<table border=\"1\" class=\"dataframe\">\n",
       "  <thead>\n",
       "    <tr style=\"text-align: right;\">\n",
       "      <th></th>\n",
       "      <th>title</th>\n",
       "      <th>similarity</th>\n",
       "      <th>originals</th>\n",
       "      <th>genres</th>\n",
       "    </tr>\n",
       "  </thead>\n",
       "  <tbody>\n",
       "    <tr>\n",
       "      <th>0</th>\n",
       "      <td>the perfect date</td>\n",
       "      <td>1.000000</td>\n",
       "      <td>[1]</td>\n",
       "      <td>[romance,comedy]</td>\n",
       "    </tr>\n",
       "    <tr>\n",
       "      <th>1</th>\n",
       "      <td>my birthday song</td>\n",
       "      <td>0.788607</td>\n",
       "      <td>[0]</td>\n",
       "      <td>[thriller]</td>\n",
       "    </tr>\n",
       "    <tr>\n",
       "      <th>2</th>\n",
       "      <td>swiped</td>\n",
       "      <td>0.783935</td>\n",
       "      <td>[0]</td>\n",
       "      <td>[comedy,romance,drama]</td>\n",
       "    </tr>\n",
       "    <tr>\n",
       "      <th>3</th>\n",
       "      <td>social animals</td>\n",
       "      <td>0.780966</td>\n",
       "      <td>[0]</td>\n",
       "      <td>[documentary,comedy,romance]</td>\n",
       "    </tr>\n",
       "    <tr>\n",
       "      <th>4</th>\n",
       "      <td>yes or no</td>\n",
       "      <td>0.780705</td>\n",
       "      <td>[0]</td>\n",
       "      <td>[comedy,romance]</td>\n",
       "    </tr>\n",
       "    <tr>\n",
       "      <th>5</th>\n",
       "      <td>kaake da viyah</td>\n",
       "      <td>0.777043</td>\n",
       "      <td>[0]</td>\n",
       "      <td>[comedy,romance]</td>\n",
       "    </tr>\n",
       "    <tr>\n",
       "      <th>6</th>\n",
       "      <td>kicking and screaming</td>\n",
       "      <td>0.777026</td>\n",
       "      <td>[0]</td>\n",
       "      <td>[comedy,drama,romance]</td>\n",
       "    </tr>\n",
       "    <tr>\n",
       "      <th>7</th>\n",
       "      <td>68 kill</td>\n",
       "      <td>0.776625</td>\n",
       "      <td>[0]</td>\n",
       "      <td>[comedy,romance,thriller,crime,mystery]</td>\n",
       "    </tr>\n",
       "    <tr>\n",
       "      <th>8</th>\n",
       "      <td>can't hardly wait</td>\n",
       "      <td>0.776468</td>\n",
       "      <td>[0]</td>\n",
       "      <td>[comedy,romance,drama]</td>\n",
       "    </tr>\n",
       "    <tr>\n",
       "      <th>9</th>\n",
       "      <td>french dirty</td>\n",
       "      <td>0.775756</td>\n",
       "      <td>[0]</td>\n",
       "      <td>[comedy,drama]</td>\n",
       "    </tr>\n",
       "    <tr>\n",
       "      <th>10</th>\n",
       "      <td>lady-like</td>\n",
       "      <td>0.775296</td>\n",
       "      <td>[0]</td>\n",
       "      <td>[comedy,romance]</td>\n",
       "    </tr>\n",
       "  </tbody>\n",
       "</table>\n",
       "</div>"
      ],
      "text/plain": [
       "                    title  similarity originals  \\\n",
       "0        the perfect date    1.000000       [1]   \n",
       "1        my birthday song    0.788607       [0]   \n",
       "2                  swiped    0.783935       [0]   \n",
       "3          social animals    0.780966       [0]   \n",
       "4               yes or no    0.780705       [0]   \n",
       "5          kaake da viyah    0.777043       [0]   \n",
       "6   kicking and screaming    0.777026       [0]   \n",
       "7                 68 kill    0.776625       [0]   \n",
       "8       can't hardly wait    0.776468       [0]   \n",
       "9            french dirty    0.775756       [0]   \n",
       "10              lady-like    0.775296       [0]   \n",
       "\n",
       "                                     genres  \n",
       "0                          [romance,comedy]  \n",
       "1                                [thriller]  \n",
       "2                    [comedy,romance,drama]  \n",
       "3              [documentary,comedy,romance]  \n",
       "4                          [comedy,romance]  \n",
       "5                          [comedy,romance]  \n",
       "6                    [comedy,drama,romance]  \n",
       "7   [comedy,romance,thriller,crime,mystery]  \n",
       "8                    [comedy,romance,drama]  \n",
       "9                            [comedy,drama]  \n",
       "10                         [comedy,romance]  "
      ]
     },
     "execution_count": 72,
     "metadata": {},
     "output_type": "execute_result"
    }
   ],
   "source": [
    "get_topN_similar('The Perfect Date', movieTitleVec, movieDf)"
   ]
  },
  {
   "cell_type": "code",
   "execution_count": 150,
   "metadata": {},
   "outputs": [
    {
     "data": {
      "text/html": [
       "<div>\n",
       "<style scoped>\n",
       "    .dataframe tbody tr th:only-of-type {\n",
       "        vertical-align: middle;\n",
       "    }\n",
       "\n",
       "    .dataframe tbody tr th {\n",
       "        vertical-align: top;\n",
       "    }\n",
       "\n",
       "    .dataframe thead th {\n",
       "        text-align: right;\n",
       "    }\n",
       "</style>\n",
       "<table border=\"1\" class=\"dataframe\">\n",
       "  <thead>\n",
       "    <tr style=\"text-align: right;\">\n",
       "      <th></th>\n",
       "      <th>title</th>\n",
       "      <th>similarity</th>\n",
       "      <th>originals</th>\n",
       "      <th>genres</th>\n",
       "    </tr>\n",
       "  </thead>\n",
       "  <tbody>\n",
       "    <tr>\n",
       "      <th>0</th>\n",
       "      <td>the perfect date</td>\n",
       "      <td>1.000000</td>\n",
       "      <td>[1]</td>\n",
       "      <td>[romance,comedy]</td>\n",
       "    </tr>\n",
       "    <tr>\n",
       "      <th>1</th>\n",
       "      <td>swiped</td>\n",
       "      <td>0.821608</td>\n",
       "      <td>[0]</td>\n",
       "      <td>[comedy,romance,drama]</td>\n",
       "    </tr>\n",
       "    <tr>\n",
       "      <th>2</th>\n",
       "      <td>yes or no</td>\n",
       "      <td>0.810153</td>\n",
       "      <td>[0]</td>\n",
       "      <td>[comedy,romance]</td>\n",
       "    </tr>\n",
       "    <tr>\n",
       "      <th>3</th>\n",
       "      <td>lady-like</td>\n",
       "      <td>0.809170</td>\n",
       "      <td>[0]</td>\n",
       "      <td>[comedy,romance]</td>\n",
       "    </tr>\n",
       "    <tr>\n",
       "      <th>4</th>\n",
       "      <td>can't hardly wait</td>\n",
       "      <td>0.807135</td>\n",
       "      <td>[0]</td>\n",
       "      <td>[comedy,romance,drama]</td>\n",
       "    </tr>\n",
       "    <tr>\n",
       "      <th>5</th>\n",
       "      <td>social animals</td>\n",
       "      <td>0.806844</td>\n",
       "      <td>[0]</td>\n",
       "      <td>[documentary,comedy,romance]</td>\n",
       "    </tr>\n",
       "    <tr>\n",
       "      <th>6</th>\n",
       "      <td>#friendbutmarried</td>\n",
       "      <td>0.805303</td>\n",
       "      <td>[0]</td>\n",
       "      <td>[biography,drama,romance,comedy]</td>\n",
       "    </tr>\n",
       "    <tr>\n",
       "      <th>7</th>\n",
       "      <td>68 kill</td>\n",
       "      <td>0.802554</td>\n",
       "      <td>[0]</td>\n",
       "      <td>[comedy,romance,thriller,crime,mystery]</td>\n",
       "    </tr>\n",
       "    <tr>\n",
       "      <th>8</th>\n",
       "      <td>the new romantic</td>\n",
       "      <td>0.801927</td>\n",
       "      <td>[0]</td>\n",
       "      <td>[drama,comedy,romance]</td>\n",
       "    </tr>\n",
       "    <tr>\n",
       "      <th>9</th>\n",
       "      <td>yes or no 2.5</td>\n",
       "      <td>0.800287</td>\n",
       "      <td>[0]</td>\n",
       "      <td>[romance,comedy]</td>\n",
       "    </tr>\n",
       "    <tr>\n",
       "      <th>10</th>\n",
       "      <td>the half of it</td>\n",
       "      <td>0.795348</td>\n",
       "      <td>[1]</td>\n",
       "      <td>[comedy,romance,drama]</td>\n",
       "    </tr>\n",
       "  </tbody>\n",
       "</table>\n",
       "</div>"
      ],
      "text/plain": [
       "                title  similarity originals  \\\n",
       "0    the perfect date    1.000000       [1]   \n",
       "1              swiped    0.821608       [0]   \n",
       "2           yes or no    0.810153       [0]   \n",
       "3           lady-like    0.809170       [0]   \n",
       "4   can't hardly wait    0.807135       [0]   \n",
       "5      social animals    0.806844       [0]   \n",
       "6   #friendbutmarried    0.805303       [0]   \n",
       "7             68 kill    0.802554       [0]   \n",
       "8    the new romantic    0.801927       [0]   \n",
       "9       yes or no 2.5    0.800287       [0]   \n",
       "10     the half of it    0.795348       [1]   \n",
       "\n",
       "                                     genres  \n",
       "0                          [romance,comedy]  \n",
       "1                    [comedy,romance,drama]  \n",
       "2                          [comedy,romance]  \n",
       "3                          [comedy,romance]  \n",
       "4                    [comedy,romance,drama]  \n",
       "5              [documentary,comedy,romance]  \n",
       "6          [biography,drama,romance,comedy]  \n",
       "7   [comedy,romance,thriller,crime,mystery]  \n",
       "8                    [drama,comedy,romance]  \n",
       "9                          [romance,comedy]  \n",
       "10                   [comedy,romance,drama]  "
      ]
     },
     "execution_count": 150,
     "metadata": {},
     "output_type": "execute_result"
    }
   ],
   "source": [
    "get_topN_similar('The Perfect Date', movieTitleVec, mvevt)"
   ]
  },
  {
   "cell_type": "code",
   "execution_count": 54,
   "metadata": {},
   "outputs": [],
   "source": [
    "for key, value in movieTitleVec.items():\n",
    "    if np.isfinite(value.all()) == False:\n",
    "        print(key)"
   ]
  },
  {
   "cell_type": "markdown",
   "metadata": {},
   "source": [
    "## What if I include genre information"
   ]
  },
  {
   "cell_type": "code",
   "execution_count": 123,
   "metadata": {},
   "outputs": [],
   "source": [
    "movieDf_gen = netflixDf.loc[netflixDf['type']=='movie'].copy()"
   ]
  },
  {
   "cell_type": "code",
   "execution_count": 90,
   "metadata": {
    "jupyter": {
     "source_hidden": true
    }
   },
   "outputs": [],
   "source": [
    "# netflixDf['genres'].fillna('No info', inplace=True)"
   ]
  },
  {
   "cell_type": "code",
   "execution_count": 109,
   "metadata": {
    "jupyter": {
     "source_hidden": true
    }
   },
   "outputs": [],
   "source": [
    "y = []\n",
    "for i in netflixDf.year.values.tolist():\n",
    "    if len(i)==4:\n",
    "        y.append(i)\n",
    "    else:\n",
    "        y.append('No info')"
   ]
  },
  {
   "cell_type": "code",
   "execution_count": 112,
   "metadata": {
    "jupyter": {
     "source_hidden": true
    }
   },
   "outputs": [],
   "source": [
    "netflixDf['year'] = y"
   ]
  },
  {
   "cell_type": "code",
   "execution_count": 114,
   "metadata": {
    "jupyter": {
     "source_hidden": true
    }
   },
   "outputs": [],
   "source": [
    "# netflixDf.to_csv('finaldataset_v3.csv')"
   ]
  },
  {
   "cell_type": "code",
   "execution_count": 131,
   "metadata": {},
   "outputs": [],
   "source": [
    "temp = pd.read_csv('finaldataset_v3.csv', usecols=['title','genres','year','type','originals','cleaned'])\n",
    "mvevt = temp.loc[temp['type']=='movie'].copy()"
   ]
  },
  {
   "cell_type": "code",
   "execution_count": 132,
   "metadata": {},
   "outputs": [
    {
     "data": {
      "text/html": [
       "<div>\n",
       "<style scoped>\n",
       "    .dataframe tbody tr th:only-of-type {\n",
       "        vertical-align: middle;\n",
       "    }\n",
       "\n",
       "    .dataframe tbody tr th {\n",
       "        vertical-align: top;\n",
       "    }\n",
       "\n",
       "    .dataframe thead th {\n",
       "        text-align: right;\n",
       "    }\n",
       "</style>\n",
       "<table border=\"1\" class=\"dataframe\">\n",
       "  <thead>\n",
       "    <tr style=\"text-align: right;\">\n",
       "      <th></th>\n",
       "      <th>title</th>\n",
       "      <th>genres</th>\n",
       "      <th>year</th>\n",
       "      <th>type</th>\n",
       "      <th>originals</th>\n",
       "      <th>cleaned</th>\n",
       "    </tr>\n",
       "  </thead>\n",
       "  <tbody>\n",
       "    <tr>\n",
       "      <th>0</th>\n",
       "      <td>1000 Mabrouk</td>\n",
       "      <td>comedy,drama,fantasy,thriller</td>\n",
       "      <td>2009</td>\n",
       "      <td>movie</td>\n",
       "      <td>0</td>\n",
       "      <td>About a man who wakes up one morning to discover that the day repeats, a carbon copy of the day before, trapping him in an inescapable vicious circle. This man has a dream to live for 100 years, however he is living for one day only and that day keep repeating to show him the negative and positive things in his life.</td>\n",
       "    </tr>\n",
       "  </tbody>\n",
       "</table>\n",
       "</div>"
      ],
      "text/plain": [
       "          title                         genres  year   type  originals  \\\n",
       "0  1000 Mabrouk  comedy,drama,fantasy,thriller  2009  movie          0   \n",
       "\n",
       "                                                                                                                                                                                                                                                                                                                          cleaned  \n",
       "0  About a man who wakes up one morning to discover that the day repeats, a carbon copy of the day before, trapping him in an inescapable vicious circle. This man has a dream to live for 100 years, however he is living for one day only and that day keep repeating to show him the negative and positive things in his life.  "
      ]
     },
     "execution_count": 132,
     "metadata": {},
     "output_type": "execute_result"
    }
   ],
   "source": [
    "mvevt.head(1)"
   ]
  },
  {
   "cell_type": "code",
   "execution_count": 135,
   "metadata": {},
   "outputs": [
    {
     "data": {
      "text/plain": [
       "0"
      ]
     },
     "execution_count": 135,
     "metadata": {},
     "output_type": "execute_result"
    }
   ],
   "source": [
    "mvevt['genres'].isnull().sum()"
   ]
  },
  {
   "cell_type": "code",
   "execution_count": 138,
   "metadata": {},
   "outputs": [],
   "source": [
    "everything = list()\n",
    "for ix in range(3770):\n",
    "    everything.append(mvevt.iloc[ix,5]+ ' ' +mvevt.iloc[ix,1])\n",
    "    "
   ]
  },
  {
   "cell_type": "code",
   "execution_count": 139,
   "metadata": {},
   "outputs": [
    {
     "data": {
      "text/plain": [
       "'About a man who wakes up one morning to discover that the day repeats, a carbon copy of the day before, trapping him in an inescapable vicious circle. This man has a dream to live for 100 years, however he is living for one day only and that day keep repeating to show him the negative and positive things in his life. comedy,drama,fantasy,thriller'"
      ]
     },
     "execution_count": 139,
     "metadata": {},
     "output_type": "execute_result"
    }
   ],
   "source": [
    "everything[0]"
   ]
  },
  {
   "cell_type": "code",
   "execution_count": 140,
   "metadata": {},
   "outputs": [],
   "source": [
    "mvevt['everything'] = everything"
   ]
  },
  {
   "cell_type": "code",
   "execution_count": 144,
   "metadata": {},
   "outputs": [],
   "source": [
    "mvevtTkDocs = [tokenise(doc) for doc in mvevt.everything.values.tolist()] #tokenise "
   ]
  },
  {
   "cell_type": "code",
   "execution_count": 145,
   "metadata": {},
   "outputs": [],
   "source": [
    "# mapping out the title and each description. so later on i can search \n",
    "movieMap = dict(zip(mvevt['title'].str.lower().tolist(), mvevtTkDocs))\n",
    "# lower the title (easy for search)"
   ]
  },
  {
   "cell_type": "code",
   "execution_count": 146,
   "metadata": {},
   "outputs": [],
   "source": [
    "movieTitleVec = get_vectors(movieMap, w2v)"
   ]
  },
  {
   "cell_type": "code",
   "execution_count": 149,
   "metadata": {},
   "outputs": [
    {
     "data": {
      "text/html": [
       "<div>\n",
       "<style scoped>\n",
       "    .dataframe tbody tr th:only-of-type {\n",
       "        vertical-align: middle;\n",
       "    }\n",
       "\n",
       "    .dataframe tbody tr th {\n",
       "        vertical-align: top;\n",
       "    }\n",
       "\n",
       "    .dataframe thead th {\n",
       "        text-align: right;\n",
       "    }\n",
       "</style>\n",
       "<table border=\"1\" class=\"dataframe\">\n",
       "  <thead>\n",
       "    <tr style=\"text-align: right;\">\n",
       "      <th></th>\n",
       "      <th>title</th>\n",
       "      <th>similarity</th>\n",
       "      <th>originals</th>\n",
       "      <th>genres</th>\n",
       "    </tr>\n",
       "  </thead>\n",
       "  <tbody>\n",
       "    <tr>\n",
       "      <th>0</th>\n",
       "      <td>tall girl</td>\n",
       "      <td>1.000000</td>\n",
       "      <td>[1]</td>\n",
       "      <td>[comedy,drama,romance]</td>\n",
       "    </tr>\n",
       "    <tr>\n",
       "      <th>1</th>\n",
       "      <td>laggies</td>\n",
       "      <td>0.889598</td>\n",
       "      <td>[0]</td>\n",
       "      <td>[comedy,romance,drama]</td>\n",
       "    </tr>\n",
       "    <tr>\n",
       "      <th>2</th>\n",
       "      <td>love is blind</td>\n",
       "      <td>0.888021</td>\n",
       "      <td>[1]</td>\n",
       "      <td>[comedy,drama,romance]</td>\n",
       "    </tr>\n",
       "    <tr>\n",
       "      <th>3</th>\n",
       "      <td>social animals</td>\n",
       "      <td>0.873785</td>\n",
       "      <td>[0]</td>\n",
       "      <td>[documentary,comedy,romance]</td>\n",
       "    </tr>\n",
       "    <tr>\n",
       "      <th>4</th>\n",
       "      <td>ugly aur pagli</td>\n",
       "      <td>0.872610</td>\n",
       "      <td>[0]</td>\n",
       "      <td>[comedy,drama,romance]</td>\n",
       "    </tr>\n",
       "    <tr>\n",
       "      <th>5</th>\n",
       "      <td>next enti?</td>\n",
       "      <td>0.871522</td>\n",
       "      <td>[0]</td>\n",
       "      <td>[comedy,drama,romance]</td>\n",
       "    </tr>\n",
       "    <tr>\n",
       "      <th>6</th>\n",
       "      <td>deliha 2</td>\n",
       "      <td>0.867681</td>\n",
       "      <td>[0]</td>\n",
       "      <td>[comedy]</td>\n",
       "    </tr>\n",
       "    <tr>\n",
       "      <th>7</th>\n",
       "      <td>isoken</td>\n",
       "      <td>0.867054</td>\n",
       "      <td>[0]</td>\n",
       "      <td>[romance]</td>\n",
       "    </tr>\n",
       "    <tr>\n",
       "      <th>8</th>\n",
       "      <td>rainbow time</td>\n",
       "      <td>0.864650</td>\n",
       "      <td>[0]</td>\n",
       "      <td>[comedy,drama]</td>\n",
       "    </tr>\n",
       "    <tr>\n",
       "      <th>9</th>\n",
       "      <td>jessica darling's it list</td>\n",
       "      <td>0.864558</td>\n",
       "      <td>[0]</td>\n",
       "      <td>[family]</td>\n",
       "    </tr>\n",
       "    <tr>\n",
       "      <th>10</th>\n",
       "      <td>i'll see you in my dreams</td>\n",
       "      <td>0.864552</td>\n",
       "      <td>[0]</td>\n",
       "      <td>[romance,comedy,drama]</td>\n",
       "    </tr>\n",
       "  </tbody>\n",
       "</table>\n",
       "</div>"
      ],
      "text/plain": [
       "                        title  similarity originals  \\\n",
       "0                   tall girl    1.000000       [1]   \n",
       "1                     laggies    0.889598       [0]   \n",
       "2               love is blind    0.888021       [1]   \n",
       "3              social animals    0.873785       [0]   \n",
       "4              ugly aur pagli    0.872610       [0]   \n",
       "5                  next enti?    0.871522       [0]   \n",
       "6                    deliha 2    0.867681       [0]   \n",
       "7                      isoken    0.867054       [0]   \n",
       "8                rainbow time    0.864650       [0]   \n",
       "9   jessica darling's it list    0.864558       [0]   \n",
       "10  i'll see you in my dreams    0.864552       [0]   \n",
       "\n",
       "                          genres  \n",
       "0         [comedy,drama,romance]  \n",
       "1         [comedy,romance,drama]  \n",
       "2         [comedy,drama,romance]  \n",
       "3   [documentary,comedy,romance]  \n",
       "4         [comedy,drama,romance]  \n",
       "5         [comedy,drama,romance]  \n",
       "6                       [comedy]  \n",
       "7                      [romance]  \n",
       "8                 [comedy,drama]  \n",
       "9                       [family]  \n",
       "10        [romance,comedy,drama]  "
      ]
     },
     "execution_count": 149,
     "metadata": {},
     "output_type": "execute_result"
    }
   ],
   "source": [
    "get_topN_similar('tall girl', movieTitleVec, mvevt)"
   ]
  },
  {
   "cell_type": "markdown",
   "metadata": {},
   "source": [
    "## It is clear that adding genres into corpus improves accuracy"
   ]
  },
  {
   "cell_type": "markdown",
   "metadata": {},
   "source": [
    "# Descriptive analysis"
   ]
  },
  {
   "cell_type": "code",
   "execution_count": 151,
   "metadata": {},
   "outputs": [],
   "source": [
    "# genres count\n",
    "mv = temp.loc[temp['type']=='movie'].copy()"
   ]
  },
  {
   "cell_type": "code",
   "execution_count": 158,
   "metadata": {},
   "outputs": [],
   "source": [
    "from collections import defaultdict"
   ]
  },
  {
   "cell_type": "code",
   "execution_count": 250,
   "metadata": {},
   "outputs": [],
   "source": [
    "def count_genres(genre_list):\n",
    "    \"\"\"\n",
    "    genre_list is pd sereis\n",
    "    return a dataframe\n",
    "    \"\"\"\n",
    "    genres_count = defaultdict(int)\n",
    "    for movie in genre_list:\n",
    "        for genre in movie.split(','):\n",
    "            genres_count[genre] += 1\n",
    "    df = pd.DataFrame(data=[genres_count])\n",
    "    df = df.transpose().reset_index().rename(columns={'index':'genres',0:'counts'}).sort_values(by = 'counts', ascending=False).reset_index(drop=True)\n",
    "    return df"
   ]
  },
  {
   "cell_type": "code",
   "execution_count": 168,
   "metadata": {
    "collapsed": true,
    "jupyter": {
     "outputs_hidden": true
    }
   },
   "outputs": [
    {
     "data": {
      "text/plain": [
       "defaultdict(int,\n",
       "            {'comedy': 1489,\n",
       "             'drama': 1779,\n",
       "             'fantasy': 296,\n",
       "             'thriller': 795,\n",
       "             'documentary': 628,\n",
       "             'biography': 201,\n",
       "             'action-and-adventure': 824,\n",
       "             'romance': 678,\n",
       "             'horror': 291,\n",
       "             'sport': 105,\n",
       "             'crime': 441,\n",
       "             'mystery': 650,\n",
       "             'history': 168,\n",
       "             'musical': 162,\n",
       "             'science-fiction': 215,\n",
       "             'No info': 116,\n",
       "             'lgbtq': 46,\n",
       "             'family': 408,\n",
       "             'animation': 240,\n",
       "             'cult': 17,\n",
       "             'stand-up-and-talk': 204,\n",
       "             'anime': 47,\n",
       "             'food': 5,\n",
       "             'independent': 13,\n",
       "             'children': 14,\n",
       "             'travel': 3,\n",
       "             'reality': 1})"
      ]
     },
     "execution_count": 168,
     "metadata": {},
     "output_type": "execute_result"
    }
   ],
   "source": [
    "genres_count"
   ]
  },
  {
   "cell_type": "code",
   "execution_count": 185,
   "metadata": {},
   "outputs": [],
   "source": [
    "genres_df = pd.DataFrame(data = [genres_count])"
   ]
  },
  {
   "cell_type": "code",
   "execution_count": 186,
   "metadata": {},
   "outputs": [],
   "source": [
    "genres_df = genres_df.transpose().reset_index().rename(columns={'index':'genres',0:'counts'}).sort_values(by = 'counts', ascending=False)"
   ]
  },
  {
   "cell_type": "code",
   "execution_count": 237,
   "metadata": {},
   "outputs": [],
   "source": [
    "def show_values_on_bars(axs, h_v=\"v\", space=0.4):\n",
    "    def _show_on_single_plot(ax):\n",
    "        if h_v == \"v\":\n",
    "            for p in ax.patches:\n",
    "                _x = p.get_x() + p.get_width() / 2\n",
    "                _y = p.get_y() + p.get_height()\n",
    "                value = int(p.get_height())\n",
    "                ax.text(_x, _y, value, ha=\"center\") \n",
    "        elif h_v == \"h\":\n",
    "            for p in ax.patches:\n",
    "                _x = p.get_x() + p.get_width() + float(space)\n",
    "                _y = p.get_y() + p.get_height()\n",
    "                value = int(p.get_width())\n",
    "                ax.text(_x, _y, value, ha=\"left\", va='bottom')\n",
    "\n",
    "    if isinstance(axs, np.ndarray):\n",
    "        for idx, ax in np.ndenumerate(axs):\n",
    "            _show_on_single_plot(ax)\n",
    "    else:\n",
    "        _show_on_single_plot(axs)"
   ]
  },
  {
   "cell_type": "code",
   "execution_count": 245,
   "metadata": {},
   "outputs": [],
   "source": [
    "mv_org = mv.loc[mv['originals']==1].copy()"
   ]
  },
  {
   "cell_type": "code",
   "execution_count": 251,
   "metadata": {},
   "outputs": [],
   "source": [
    "mv_org_genres_count = count_genres(mv_org.genres.values.tolist())"
   ]
  },
  {
   "cell_type": "code",
   "execution_count": 252,
   "metadata": {
    "collapsed": true,
    "jupyter": {
     "outputs_hidden": true
    }
   },
   "outputs": [
    {
     "data": {
      "text/html": [
       "<div>\n",
       "<style scoped>\n",
       "    .dataframe tbody tr th:only-of-type {\n",
       "        vertical-align: middle;\n",
       "    }\n",
       "\n",
       "    .dataframe tbody tr th {\n",
       "        vertical-align: top;\n",
       "    }\n",
       "\n",
       "    .dataframe thead th {\n",
       "        text-align: right;\n",
       "    }\n",
       "</style>\n",
       "<table border=\"1\" class=\"dataframe\">\n",
       "  <thead>\n",
       "    <tr style=\"text-align: right;\">\n",
       "      <th></th>\n",
       "      <th>genres</th>\n",
       "      <th>counts</th>\n",
       "    </tr>\n",
       "  </thead>\n",
       "  <tbody>\n",
       "    <tr>\n",
       "      <th>0</th>\n",
       "      <td>comedy</td>\n",
       "      <td>408</td>\n",
       "    </tr>\n",
       "    <tr>\n",
       "      <th>1</th>\n",
       "      <td>drama</td>\n",
       "      <td>272</td>\n",
       "    </tr>\n",
       "    <tr>\n",
       "      <th>2</th>\n",
       "      <td>documentary</td>\n",
       "      <td>178</td>\n",
       "    </tr>\n",
       "    <tr>\n",
       "      <th>3</th>\n",
       "      <td>stand-up-and-talk</td>\n",
       "      <td>146</td>\n",
       "    </tr>\n",
       "    <tr>\n",
       "      <th>4</th>\n",
       "      <td>thriller</td>\n",
       "      <td>140</td>\n",
       "    </tr>\n",
       "    <tr>\n",
       "      <th>5</th>\n",
       "      <td>action-and-adventure</td>\n",
       "      <td>113</td>\n",
       "    </tr>\n",
       "    <tr>\n",
       "      <th>6</th>\n",
       "      <td>mystery</td>\n",
       "      <td>107</td>\n",
       "    </tr>\n",
       "    <tr>\n",
       "      <th>7</th>\n",
       "      <td>romance</td>\n",
       "      <td>86</td>\n",
       "    </tr>\n",
       "    <tr>\n",
       "      <th>8</th>\n",
       "      <td>crime</td>\n",
       "      <td>82</td>\n",
       "    </tr>\n",
       "    <tr>\n",
       "      <th>9</th>\n",
       "      <td>family</td>\n",
       "      <td>56</td>\n",
       "    </tr>\n",
       "    <tr>\n",
       "      <th>10</th>\n",
       "      <td>animation</td>\n",
       "      <td>49</td>\n",
       "    </tr>\n",
       "    <tr>\n",
       "      <th>11</th>\n",
       "      <td>science-fiction</td>\n",
       "      <td>45</td>\n",
       "    </tr>\n",
       "    <tr>\n",
       "      <th>12</th>\n",
       "      <td>horror</td>\n",
       "      <td>44</td>\n",
       "    </tr>\n",
       "    <tr>\n",
       "      <th>13</th>\n",
       "      <td>fantasy</td>\n",
       "      <td>41</td>\n",
       "    </tr>\n",
       "    <tr>\n",
       "      <th>14</th>\n",
       "      <td>biography</td>\n",
       "      <td>40</td>\n",
       "    </tr>\n",
       "    <tr>\n",
       "      <th>15</th>\n",
       "      <td>history</td>\n",
       "      <td>27</td>\n",
       "    </tr>\n",
       "    <tr>\n",
       "      <th>16</th>\n",
       "      <td>musical</td>\n",
       "      <td>24</td>\n",
       "    </tr>\n",
       "    <tr>\n",
       "      <th>17</th>\n",
       "      <td>sport</td>\n",
       "      <td>15</td>\n",
       "    </tr>\n",
       "    <tr>\n",
       "      <th>18</th>\n",
       "      <td>No info</td>\n",
       "      <td>10</td>\n",
       "    </tr>\n",
       "    <tr>\n",
       "      <th>19</th>\n",
       "      <td>anime</td>\n",
       "      <td>9</td>\n",
       "    </tr>\n",
       "    <tr>\n",
       "      <th>20</th>\n",
       "      <td>lgbtq</td>\n",
       "      <td>9</td>\n",
       "    </tr>\n",
       "    <tr>\n",
       "      <th>21</th>\n",
       "      <td>independent</td>\n",
       "      <td>3</td>\n",
       "    </tr>\n",
       "    <tr>\n",
       "      <th>22</th>\n",
       "      <td>food</td>\n",
       "      <td>1</td>\n",
       "    </tr>\n",
       "    <tr>\n",
       "      <th>23</th>\n",
       "      <td>reality</td>\n",
       "      <td>1</td>\n",
       "    </tr>\n",
       "    <tr>\n",
       "      <th>24</th>\n",
       "      <td>cult</td>\n",
       "      <td>1</td>\n",
       "    </tr>\n",
       "  </tbody>\n",
       "</table>\n",
       "</div>"
      ],
      "text/plain": [
       "                  genres  counts\n",
       "0                 comedy     408\n",
       "1                  drama     272\n",
       "2            documentary     178\n",
       "3      stand-up-and-talk     146\n",
       "4               thriller     140\n",
       "5   action-and-adventure     113\n",
       "6                mystery     107\n",
       "7                romance      86\n",
       "8                  crime      82\n",
       "9                 family      56\n",
       "10             animation      49\n",
       "11       science-fiction      45\n",
       "12                horror      44\n",
       "13               fantasy      41\n",
       "14             biography      40\n",
       "15               history      27\n",
       "16               musical      24\n",
       "17                 sport      15\n",
       "18               No info      10\n",
       "19                 anime       9\n",
       "20                 lgbtq       9\n",
       "21           independent       3\n",
       "22                  food       1\n",
       "23               reality       1\n",
       "24                  cult       1"
      ]
     },
     "execution_count": 252,
     "metadata": {},
     "output_type": "execute_result"
    }
   ],
   "source": [
    "mv_org_genres_count"
   ]
  },
  {
   "cell_type": "code",
   "execution_count": 262,
   "metadata": {},
   "outputs": [
    {
     "data": {
      "image/png": "[encoded data removed]",
      "text/plain": [
       "<Figure size 1152x576 with 2 Axes>"
      ]
     },
     "metadata": {
      "needs_background": "light"
     },
     "output_type": "display_data"
    }
   ],
   "source": [
    "fig, ax = plt.subplots(1,2,figsize=(16,8))\n",
    "genres = genres_df.genres.values.tolist()\n",
    "bar = sns.barplot(x = 'counts',\n",
    "                  y = 'genres',\n",
    "                  data = genres_df,\n",
    "                  ax = ax[0],\n",
    "                  orient = 'h')\n",
    "# bar.set_xticklabels(bar.get_xticklabels(), rotation=90, horizontalalignment='right', size=14)\n",
    "show_values_on_bars(bar, h_v='h', space=0.3)\n",
    "ax[0].set_title('The distribution of Netflix movies')\n",
    "\n",
    "bar = sns.barplot(x = 'counts',\n",
    "                  y = 'genres',\n",
    "                  data = mv_org_genres_count,\n",
    "                  ax = ax[1],\n",
    "                  orient = 'h')\n",
    "show_values_on_bars(bar, h_v='h', space=0.3)\n",
    "ax[1].set_title('The distribution of Netflix Originals movies')\n",
    "plt.show()"
   ]
  },
  {
   "cell_type": "code",
   "execution_count": 254,
   "metadata": {},
   "outputs": [
    {
     "data": {
      "image/png": "[encoded data removed]",
      "text/plain": [
       "<Figure size 720x504 with 1 Axes>"
      ]
     },
     "metadata": {
      "needs_background": "light"
     },
     "output_type": "display_data"
    }
   ],
   "source": [
    "fig, ax = plt.subplots(figsize=(10,7))\n",
    "bar = sns.barplot(x = 'counts',\n",
    "                  y = 'genres',\n",
    "                  data = mv_org_genres_count,\n",
    "                  ax = ax,\n",
    "                  orient = 'h')\n",
    "show_values_on_bars(bar, h_v='h', space=0.3)\n",
    "ax.set_title('The distribution of Netflix Originals movies')\n",
    "plt.show()"
   ]
  },
  {
   "cell_type": "code",
   "execution_count": null,
   "metadata": {},
   "outputs": [],
   "source": []
  }
 ],
 "metadata": {
  "kernelspec": {
   "display_name": "Python 3",
   "language": "python",
   "name": "python3"
  },
  "language_info": {
   "codemirror_mode": {
    "name": "ipython",
    "version": 3
   },
   "file_extension": ".py",
   "mimetype": "text/x-python",
   "name": "python",
   "nbconvert_exporter": "python",
   "pygments_lexer": "ipython3",
   "version": "3.8.3"
  }
 },
 "nbformat": 4,
 "nbformat_minor": 4
}
