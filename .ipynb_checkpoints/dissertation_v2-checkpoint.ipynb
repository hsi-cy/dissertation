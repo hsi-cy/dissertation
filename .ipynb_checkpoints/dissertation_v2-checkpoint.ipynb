{
 "cells": [
  {
   "cell_type": "code",
   "execution_count": 1,
   "metadata": {},
   "outputs": [],
   "source": [
    "import re\n",
    "from pprint import pprint\n",
    "\n",
    "import matplotlib.pyplot as plt\n",
    "import nltk\n",
    "import numpy as np\n",
    "import pandas as pd\n",
    "import seaborn as sns\n",
    "import spacy\n",
    "from gensim.models import KeyedVectors\n",
    "from nltk.corpus import stopwords\n",
    "from sklearn.cluster import KMeans\n",
    "from sklearn.decomposition import PCA\n",
    "from sklearn.metrics.pairwise import cosine_similarity\n",
    "\n",
    "\n",
    "pd.set_option('display.max_colwidth', None)\n",
    "SPECIAL_CHARS = '[^A-Za-z0-9 ]+'\n",
    "STOP_WORDS = stopwords.words('english')"
   ]
  },
  {
   "cell_type": "markdown",
   "metadata": {},
   "source": [
    "# 2. Functions"
   ]
  },
  {
   "cell_type": "code",
   "execution_count": 2,
   "metadata": {},
   "outputs": [],
   "source": [
    "def preprocess_text(text):\n",
    "    \"\"\"\n",
    "    Take out stopwords.\n",
    "    Take out punctuations and special characters.\n",
    "    \"\"\"\n",
    "    SPECIAL_CHARS = '[^A-Za-z0-9 ]+'\n",
    "    STOP_WORDS = stopwords.words('english')\n",
    "    text = text.lower().split(' ')\n",
    "    temp = [word for word in text if word not in STOP_WORDS]\n",
    "    text = ' '.join(temp)\n",
    "    text = re.sub(SPECIAL_CHARS, '', text)\n",
    "    return text"
   ]
  },
  {
   "cell_type": "code",
   "execution_count": 278,
   "metadata": {},
   "outputs": [],
   "source": [
    "def tokenise(doc):\n",
    "    return [token.text for token in nlp(doc)]"
   ]
  },
  {
   "cell_type": "code",
   "execution_count": 279,
   "metadata": {},
   "outputs": [],
   "source": [
    "def tokenise_lemma(doc):\n",
    "    \"\"\"\n",
    "    Use spacy as the nlp object to tokenise each doc\n",
    "    Lemmatise each words\n",
    "    \"\"\"\n",
    "    return ' '.join([token.lemma_ for token in nlp(doc)])"
   ]
  },
  {
   "cell_type": "code",
   "execution_count": 13,
   "metadata": {},
   "outputs": [],
   "source": [
    "# this is one way to get each title's vector representation\n",
    "# more investagtion is needed later.\n",
    "\n",
    "def get_vectors(first_map, second_map):\n",
    "    \"\"\"\n",
    "    Use tokenised words to get vectors representations from the pretrained model (i.e. second_map).\n",
    "    Average the vector representation of the description as the representation of the document \n",
    "    (i.e. each movie title's representation is the mean of vectors of each words in its description)\n",
    "    \"\"\"\n",
    "    first_vec  = dict()\n",
    "    for title, description in first_map.items():\n",
    "        temp = list()\n",
    "        for element in description: #element = tokenised words\n",
    "            try:\n",
    "                temp.append(second_map[element]) #secondmap is w2v model which should have a responding word vecotr for the tokenise word\n",
    "            except KeyError:\n",
    "                pass\n",
    "        first_vec[title] = np.mean(temp, axis=0)\n",
    "    \n",
    "    return first_vec"
   ]
  },
  {
   "cell_type": "code",
   "execution_count": 288,
   "metadata": {},
   "outputs": [],
   "source": [
    "def get_most_similar(lookup_id, title_vec):\n",
    "\n",
    "    sim = list()\n",
    "    lookup_map = title_vec\n",
    "    subject_map = title_vec \n",
    "        \n",
    "    for uid, vec in lookup_map.items():\n",
    "        thisSim = cosine_similarity(vec.reshape(1, -1), subject_map[lookup_id].reshape(1, -1))\n",
    "        sim.append((uid, thisSim[0][0], search(uid).originals))\n",
    "\n",
    "    return sorted(sim, key=lambda x: x[1], reverse=True)"
   ]
  },
  {
   "cell_type": "code",
   "execution_count": 79,
   "metadata": {},
   "outputs": [],
   "source": [
    "def filter_df(keyword):\n",
    "    \"\"\"\n",
    "    Return a dataframe with the filtered result.\n",
    "    The input value is case-insensitive. \n",
    "    \"\"\"\n",
    "    if type(keyword) == list:\n",
    "        return netflixDf.loc[netflixDf['title'].isin(keyword)]\n",
    "    else:\n",
    "        return netflixDf.loc[netflixDf['title'].str.lower().isin([keyword.lower()])]"
   ]
  },
  {
   "cell_type": "code",
   "execution_count": 103,
   "metadata": {},
   "outputs": [],
   "source": [
    "def markerX(key, values):\n",
    "    return netflixDf.loc[netflixDf[key].str.lower().isin(values)].sort_values(by='pca_2', ascending=False)\n",
    "\n",
    "def others(key, values):\n",
    "    return netflixDf.loc[~netflixDf[key].str.lower().isin(values)]"
   ]
  },
  {
   "cell_type": "markdown",
   "metadata": {},
   "source": [
    "# 3. Analyse Pipeline"
   ]
  },
  {
   "cell_type": "markdown",
   "metadata": {},
   "source": [
    "## Terms explained\n",
    "Document -> a bunch of texts <br>\n",
    "Corpus -> a bunch of documents <br>\n",
    "Vectors -> a mathematically convenience representation of a document (a bunch of textx) <br>\n",
    "Models -> an algorithm for transforming vectors from one representation to another <br>"
   ]
  },
  {
   "cell_type": "markdown",
   "metadata": {},
   "source": [
    "## Read the dataset/ Load the spacy pretrained model"
   ]
  },
  {
   "cell_type": "code",
   "execution_count": 272,
   "metadata": {},
   "outputs": [],
   "source": [
    "netflixDf = pd.read_csv('finalDataset_v2.csv', usecols=['title','type','description','genres','originals'])"
   ]
  },
  {
   "cell_type": "code",
   "execution_count": 4,
   "metadata": {},
   "outputs": [],
   "source": [
    "# use pre-trained corpus to help tokenise words\n",
    "nlp = spacy.load('en_core_web_sm')"
   ]
  },
  {
   "cell_type": "markdown",
   "metadata": {},
   "source": [
    "## Create the Corpus <br><br>Take out the special characters and stopwords. Lemmatise the words. <br><br>Mapping the corpus with title name"
   ]
  },
  {
   "cell_type": "code",
   "execution_count": 273,
   "metadata": {},
   "outputs": [],
   "source": [
    "corpus = netflixDf.description.values.tolist() #list of docs"
   ]
  },
  {
   "cell_type": "code",
   "execution_count": 280,
   "metadata": {},
   "outputs": [],
   "source": [
    "corpus_with_tkdocs = [tokenise(doc) for doc in corpus] #tokenise and lemmatise the pp_corpus"
   ]
  },
  {
   "cell_type": "code",
   "execution_count": 281,
   "metadata": {},
   "outputs": [],
   "source": [
    "# mapping out the title and each description. so later on i can search \n",
    "title_text = dict(zip(netflixDf['title'].str.lower().tolist(), corpus_with_tkdocs))\n",
    "# lower the title (easy for search)"
   ]
  },
  {
   "cell_type": "markdown",
   "metadata": {},
   "source": [
    "### Compare google news and wiki\n",
    "It might take a few seconds to train"
   ]
  },
  {
   "cell_type": "code",
   "execution_count": 8,
   "metadata": {},
   "outputs": [],
   "source": [
    "# path = \"GoogleNews-vectors-negative300.bin\"\n",
    "# w2v = KeyedVectors.load_word2vec_format(path, binary=True)"
   ]
  },
  {
   "cell_type": "code",
   "execution_count": 17,
   "metadata": {},
   "outputs": [],
   "source": [
    "# Use wikipedia trained model. It spends around 20 mins to load the model.\n",
    "# MODEL_FILE = \"enwiki_20180420_300d.txt\"\n",
    "# w2v = KeyedVectors.load_word2vec_format(MODEL_FILE)"
   ]
  }
 ],
 "metadata": {
  "kernelspec": {
   "display_name": "Python 3",
   "language": "python",
   "name": "python3"
  },
  "language_info": {
   "codemirror_mode": {
    "name": "ipython",
    "version": 3
   },
   "file_extension": ".py",
   "mimetype": "text/x-python",
   "name": "python",
   "nbconvert_exporter": "python",
   "pygments_lexer": "ipython3",
   "version": "3.8.3"
  }
 },
 "nbformat": 4,
 "nbformat_minor": 4
}
