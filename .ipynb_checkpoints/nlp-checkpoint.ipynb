{
 "cells": [
  {
   "cell_type": "code",
   "execution_count": 34,
   "metadata": {
    "collapsed": true,
    "jupyter": {
     "outputs_hidden": true
    }
   },
   "outputs": [
    {
     "name": "stderr",
     "output_type": "stream",
     "text": [
      "[nltk_data] Downloading package punkt to\n",
      "[nltk_data]     /Users/hsichengyun/nltk_data...\n",
      "[nltk_data]   Package punkt is already up-to-date!\n",
      "[nltk_data] Downloading package stopwords to\n",
      "[nltk_data]     /Users/hsichengyun/nltk_data...\n",
      "[nltk_data]   Package stopwords is already up-to-date!\n"
     ]
    }
   ],
   "source": [
    "import pandas as pd\n",
    "import numpy as np\n",
    "import re\n",
    "from sklearn.manifold import TSNE\n",
    "from sklearn.metrics.pairwise import cosine_similarity\n",
    "import nltk\n",
    "import ssl\n",
    "try:\n",
    "    _create_unverified_https_context = ssl._create_unverified_context\n",
    "except AttributeError:\n",
    "    pass\n",
    "else:\n",
    "    ssl._create_default_https_context = _create_unverified_https_context\n",
    "\n",
    "nltk.download('punkt')\n",
    "nltk.download('stopwords')\n",
    "from nltk.corpus import stopwords\n",
    "from gensim.models import KeyedVectors, Word2Vec\n",
    "\n",
    "SPECIAL_CHARS = '[^A-Za-z0-9 ]+'"
   ]
  },
  {
   "cell_type": "code",
   "execution_count": 35,
   "metadata": {},
   "outputs": [],
   "source": [
    "def preprocess(text):\n",
    "    tokenized = [word for sent in [re.sub(SPECIAL_CHARS, '', element).split(' ') for \n",
    "                                   element in nltk.sent_tokenize(text)] for word in sent]\n",
    "    lowered = [word.lower() for word in tokenized]\n",
    "    return lowered"
   ]
  },
  {
   "cell_type": "code",
   "execution_count": 4,
   "metadata": {},
   "outputs": [],
   "source": [
    "dataset = pd.read_csv('dataset.csv')"
   ]
  },
  {
   "cell_type": "code",
   "execution_count": 25,
   "metadata": {
    "collapsed": true,
    "jupyter": {
     "outputs_hidden": true
    }
   },
   "outputs": [
    {
     "data": {
      "text/html": [
       "<div>\n",
       "<style scoped>\n",
       "    .dataframe tbody tr th:only-of-type {\n",
       "        vertical-align: middle;\n",
       "    }\n",
       "\n",
       "    .dataframe tbody tr th {\n",
       "        vertical-align: top;\n",
       "    }\n",
       "\n",
       "    .dataframe thead th {\n",
       "        text-align: right;\n",
       "    }\n",
       "</style>\n",
       "<table border=\"1\" class=\"dataframe\">\n",
       "  <thead>\n",
       "    <tr style=\"text-align: right;\">\n",
       "      <th></th>\n",
       "      <th>title</th>\n",
       "      <th>type</th>\n",
       "      <th>release_year</th>\n",
       "      <th>rating</th>\n",
       "      <th>runtime</th>\n",
       "      <th>description</th>\n",
       "      <th>genres</th>\n",
       "      <th>cast</th>\n",
       "      <th>director</th>\n",
       "      <th>country</th>\n",
       "      <th>imdb_link</th>\n",
       "      <th>date_added</th>\n",
       "      <th>rating_value</th>\n",
       "      <th>votes</th>\n",
       "    </tr>\n",
       "  </thead>\n",
       "  <tbody>\n",
       "    <tr>\n",
       "      <th>0</th>\n",
       "      <td>#realityhigh</td>\n",
       "      <td>movies</td>\n",
       "      <td>2017</td>\n",
       "      <td>TV-14</td>\n",
       "      <td>99 min</td>\n",
       "      <td>When nerdy high schooler Dani finally attracts...</td>\n",
       "      <td>Comedies</td>\n",
       "      <td>Nesta Cooper,Kate Walsh,John Michael Higgins,K...</td>\n",
       "      <td>Fernando Lebrija</td>\n",
       "      <td>United States</td>\n",
       "      <td>https://www.imdb.com/title/tt6119504/?ref_=plg...</td>\n",
       "      <td>Added to Netflix:September 8, 2017</td>\n",
       "      <td>5.2</td>\n",
       "      <td>5,178</td>\n",
       "    </tr>\n",
       "    <tr>\n",
       "      <th>1</th>\n",
       "      <td>13TH</td>\n",
       "      <td>movies</td>\n",
       "      <td>2016</td>\n",
       "      <td>TV-MA</td>\n",
       "      <td>101 min</td>\n",
       "      <td>In this thought-provoking documentary, scholar...</td>\n",
       "      <td>Documentaries</td>\n",
       "      <td>NaN</td>\n",
       "      <td>Ava DuVernay</td>\n",
       "      <td>United States</td>\n",
       "      <td>https://www.imdb.com/title/tt5895028/?ref_=plg...</td>\n",
       "      <td>Added to Netflix:October 7, 2016</td>\n",
       "      <td>8.2</td>\n",
       "      <td>27,040</td>\n",
       "    </tr>\n",
       "    <tr>\n",
       "      <th>2</th>\n",
       "      <td>15 August</td>\n",
       "      <td>movies</td>\n",
       "      <td>2019</td>\n",
       "      <td>TV-14</td>\n",
       "      <td>124 min</td>\n",
       "      <td>On India's Independence Day, a zany mishap in ...</td>\n",
       "      <td>Comedies,Dramas,Independent Movies</td>\n",
       "      <td>Rahul Pethe,Mrunmayee Deshpande,Adinath Kothar...</td>\n",
       "      <td>Swapnaneel Jayakar</td>\n",
       "      <td>India</td>\n",
       "      <td>https://www.imdb.com/title/tt9817300/?ref_=plg...</td>\n",
       "      <td>Added to Netflix:March 29, 2019</td>\n",
       "      <td>5.8</td>\n",
       "      <td>187</td>\n",
       "    </tr>\n",
       "    <tr>\n",
       "      <th>3</th>\n",
       "      <td>1922</td>\n",
       "      <td>movies</td>\n",
       "      <td>2017</td>\n",
       "      <td>TV-MA</td>\n",
       "      <td>103 min</td>\n",
       "      <td>A farmer pens a confession admitting to his wi...</td>\n",
       "      <td>Dramas,Thrillers</td>\n",
       "      <td>Thomas Jane,Molly Parker,Dylan Schmid,Kaitlyn ...</td>\n",
       "      <td>Zak Hilditch</td>\n",
       "      <td>United States</td>\n",
       "      <td>https://www.imdb.com/title/tt6214928/?ref_=plg...</td>\n",
       "      <td>Added to Netflix:October 20, 2017</td>\n",
       "      <td>6.3</td>\n",
       "      <td>47,947</td>\n",
       "    </tr>\n",
       "    <tr>\n",
       "      <th>4</th>\n",
       "      <td>22 July</td>\n",
       "      <td>movies</td>\n",
       "      <td>2018</td>\n",
       "      <td>R</td>\n",
       "      <td>144 min</td>\n",
       "      <td>After devastating terror attacks in Norway, a ...</td>\n",
       "      <td>Dramas,Thrillers</td>\n",
       "      <td>Anders Danielsen Lie,Jon Øigarden,Jonas Strand...</td>\n",
       "      <td>Paul Greengrass</td>\n",
       "      <td>Norway,Iceland,United States</td>\n",
       "      <td>https://www.imdb.com/title/tt7280898/?ref_=plg...</td>\n",
       "      <td>Added to Netflix:October 10, 2018</td>\n",
       "      <td>6.8</td>\n",
       "      <td>25,203</td>\n",
       "    </tr>\n",
       "    <tr>\n",
       "      <th>...</th>\n",
       "      <td>...</td>\n",
       "      <td>...</td>\n",
       "      <td>...</td>\n",
       "      <td>...</td>\n",
       "      <td>...</td>\n",
       "      <td>...</td>\n",
       "      <td>...</td>\n",
       "      <td>...</td>\n",
       "      <td>...</td>\n",
       "      <td>...</td>\n",
       "      <td>...</td>\n",
       "      <td>...</td>\n",
       "      <td>...</td>\n",
       "      <td>...</td>\n",
       "    </tr>\n",
       "    <tr>\n",
       "      <th>1406</th>\n",
       "      <td>YG Future Strategy Office</td>\n",
       "      <td>tvshow</td>\n",
       "      <td>2018</td>\n",
       "      <td>TV-MA</td>\n",
       "      <td>1 Season</td>\n",
       "      <td>K-pop star Seungri, BIGBANG's youngest member,...</td>\n",
       "      <td>International TV Shows,Korean TV Shows,TV Come...</td>\n",
       "      <td>Seungri,Yoo Byung Jae,Lee Jai-jin,Jinu,Son Se-...</td>\n",
       "      <td>NaN</td>\n",
       "      <td>South Korea</td>\n",
       "      <td>https://www.imdb.com/title/tt8129694/?ref_=plg...</td>\n",
       "      <td>Added to Netflix:October 5, 2018</td>\n",
       "      <td>7.1</td>\n",
       "      <td>170</td>\n",
       "    </tr>\n",
       "    <tr>\n",
       "      <th>1407</th>\n",
       "      <td>You vs. Wild</td>\n",
       "      <td>tvshow</td>\n",
       "      <td>2019</td>\n",
       "      <td>TV-PG</td>\n",
       "      <td>1 Season</td>\n",
       "      <td>In this interactive series, you'll make key de...</td>\n",
       "      <td>Kids' TV,Reality TV,Science &amp; Nature TV</td>\n",
       "      <td>Bear Grylls</td>\n",
       "      <td>NaN</td>\n",
       "      <td>United States</td>\n",
       "      <td>https://www.imdb.com/title/tt10044952/?ref_=pl...</td>\n",
       "      <td>Added to Netflix:April 10, 2019</td>\n",
       "      <td>6.7</td>\n",
       "      <td>1,872</td>\n",
       "    </tr>\n",
       "    <tr>\n",
       "      <th>1408</th>\n",
       "      <td>Yummy Mummies</td>\n",
       "      <td>tvshow</td>\n",
       "      <td>2019</td>\n",
       "      <td>TV-MA</td>\n",
       "      <td>2 Seasons</td>\n",
       "      <td>It's drama Down Under when expectant mothers w...</td>\n",
       "      <td>International TV Shows,Reality TV</td>\n",
       "      <td>Lorinska Merrington,Jane Scandizzo,Rachel Watt...</td>\n",
       "      <td>NaN</td>\n",
       "      <td>Australia</td>\n",
       "      <td>https://www.imdb.com/title/tt7172230/?ref_=plg...</td>\n",
       "      <td>New Season Added:July 3, 2019</td>\n",
       "      <td>4.0</td>\n",
       "      <td>514</td>\n",
       "    </tr>\n",
       "    <tr>\n",
       "      <th>1409</th>\n",
       "      <td>Zona Rosa</td>\n",
       "      <td>tvshow</td>\n",
       "      <td>2019</td>\n",
       "      <td>TV-MA</td>\n",
       "      <td>1 Season</td>\n",
       "      <td>An assortment of talent takes the stage for a ...</td>\n",
       "      <td>International TV Shows,Spanish-Language TV Sho...</td>\n",
       "      <td>Manu NNa,Ana Julia Yeyé,Ray Contreras,Pablo Morán</td>\n",
       "      <td>NaN</td>\n",
       "      <td>Mexico</td>\n",
       "      <td>https://www.imdb.com/title/tt11194518/?ref_=pl...</td>\n",
       "      <td>Added to Netflix:November 26, 2019</td>\n",
       "      <td>5.9</td>\n",
       "      <td>31</td>\n",
       "    </tr>\n",
       "    <tr>\n",
       "      <th>1410</th>\n",
       "      <td>Zumbo's Just Desserts</td>\n",
       "      <td>tvshow</td>\n",
       "      <td>2019</td>\n",
       "      <td>TV-PG</td>\n",
       "      <td>2 Seasons</td>\n",
       "      <td>Dessert wizard Adriano Zumbo looks for the nex...</td>\n",
       "      <td>International TV Shows,Reality TV</td>\n",
       "      <td>Adriano Zumbo,Rachel Khoo</td>\n",
       "      <td>NaN</td>\n",
       "      <td>Australia</td>\n",
       "      <td>https://www.imdb.com/title/tt7239256/?ref_=plg...</td>\n",
       "      <td>New Season Added:January 10, 2020</td>\n",
       "      <td>6.9</td>\n",
       "      <td>1,637</td>\n",
       "    </tr>\n",
       "  </tbody>\n",
       "</table>\n",
       "<p>1411 rows × 14 columns</p>\n",
       "</div>"
      ],
      "text/plain": [
       "                          title    type  release_year rating    runtime  \\\n",
       "0                  #realityhigh  movies          2017  TV-14     99 min   \n",
       "1                          13TH  movies          2016  TV-MA    101 min   \n",
       "2                     15 August  movies          2019  TV-14    124 min   \n",
       "3                          1922  movies          2017  TV-MA    103 min   \n",
       "4                       22 July  movies          2018      R    144 min   \n",
       "...                         ...     ...           ...    ...        ...   \n",
       "1406  YG Future Strategy Office  tvshow          2018  TV-MA   1 Season   \n",
       "1407               You vs. Wild  tvshow          2019  TV-PG   1 Season   \n",
       "1408              Yummy Mummies  tvshow          2019  TV-MA  2 Seasons   \n",
       "1409                  Zona Rosa  tvshow          2019  TV-MA   1 Season   \n",
       "1410      Zumbo's Just Desserts  tvshow          2019  TV-PG  2 Seasons   \n",
       "\n",
       "                                            description  \\\n",
       "0     When nerdy high schooler Dani finally attracts...   \n",
       "1     In this thought-provoking documentary, scholar...   \n",
       "2     On India's Independence Day, a zany mishap in ...   \n",
       "3     A farmer pens a confession admitting to his wi...   \n",
       "4     After devastating terror attacks in Norway, a ...   \n",
       "...                                                 ...   \n",
       "1406  K-pop star Seungri, BIGBANG's youngest member,...   \n",
       "1407  In this interactive series, you'll make key de...   \n",
       "1408  It's drama Down Under when expectant mothers w...   \n",
       "1409  An assortment of talent takes the stage for a ...   \n",
       "1410  Dessert wizard Adriano Zumbo looks for the nex...   \n",
       "\n",
       "                                                 genres  \\\n",
       "0                                              Comedies   \n",
       "1                                         Documentaries   \n",
       "2                    Comedies,Dramas,Independent Movies   \n",
       "3                                      Dramas,Thrillers   \n",
       "4                                      Dramas,Thrillers   \n",
       "...                                                 ...   \n",
       "1406  International TV Shows,Korean TV Shows,TV Come...   \n",
       "1407            Kids' TV,Reality TV,Science & Nature TV   \n",
       "1408                  International TV Shows,Reality TV   \n",
       "1409  International TV Shows,Spanish-Language TV Sho...   \n",
       "1410                  International TV Shows,Reality TV   \n",
       "\n",
       "                                                   cast            director  \\\n",
       "0     Nesta Cooper,Kate Walsh,John Michael Higgins,K...    Fernando Lebrija   \n",
       "1                                                   NaN        Ava DuVernay   \n",
       "2     Rahul Pethe,Mrunmayee Deshpande,Adinath Kothar...  Swapnaneel Jayakar   \n",
       "3     Thomas Jane,Molly Parker,Dylan Schmid,Kaitlyn ...        Zak Hilditch   \n",
       "4     Anders Danielsen Lie,Jon Øigarden,Jonas Strand...     Paul Greengrass   \n",
       "...                                                 ...                 ...   \n",
       "1406  Seungri,Yoo Byung Jae,Lee Jai-jin,Jinu,Son Se-...                 NaN   \n",
       "1407                                        Bear Grylls                 NaN   \n",
       "1408  Lorinska Merrington,Jane Scandizzo,Rachel Watt...                 NaN   \n",
       "1409  Manu NNa,Ana Julia Yeyé,Ray Contreras,Pablo Morán                 NaN   \n",
       "1410                          Adriano Zumbo,Rachel Khoo                 NaN   \n",
       "\n",
       "                           country  \\\n",
       "0                    United States   \n",
       "1                    United States   \n",
       "2                            India   \n",
       "3                    United States   \n",
       "4     Norway,Iceland,United States   \n",
       "...                            ...   \n",
       "1406                   South Korea   \n",
       "1407                 United States   \n",
       "1408                     Australia   \n",
       "1409                        Mexico   \n",
       "1410                     Australia   \n",
       "\n",
       "                                              imdb_link  \\\n",
       "0     https://www.imdb.com/title/tt6119504/?ref_=plg...   \n",
       "1     https://www.imdb.com/title/tt5895028/?ref_=plg...   \n",
       "2     https://www.imdb.com/title/tt9817300/?ref_=plg...   \n",
       "3     https://www.imdb.com/title/tt6214928/?ref_=plg...   \n",
       "4     https://www.imdb.com/title/tt7280898/?ref_=plg...   \n",
       "...                                                 ...   \n",
       "1406  https://www.imdb.com/title/tt8129694/?ref_=plg...   \n",
       "1407  https://www.imdb.com/title/tt10044952/?ref_=pl...   \n",
       "1408  https://www.imdb.com/title/tt7172230/?ref_=plg...   \n",
       "1409  https://www.imdb.com/title/tt11194518/?ref_=pl...   \n",
       "1410  https://www.imdb.com/title/tt7239256/?ref_=plg...   \n",
       "\n",
       "                              date_added  rating_value   votes  \n",
       "0     Added to Netflix:September 8, 2017           5.2   5,178  \n",
       "1       Added to Netflix:October 7, 2016           8.2  27,040  \n",
       "2        Added to Netflix:March 29, 2019           5.8     187  \n",
       "3      Added to Netflix:October 20, 2017           6.3  47,947  \n",
       "4      Added to Netflix:October 10, 2018           6.8  25,203  \n",
       "...                                  ...           ...     ...  \n",
       "1406    Added to Netflix:October 5, 2018           7.1     170  \n",
       "1407     Added to Netflix:April 10, 2019           6.7   1,872  \n",
       "1408       New Season Added:July 3, 2019           4.0     514  \n",
       "1409  Added to Netflix:November 26, 2019           5.9      31  \n",
       "1410   New Season Added:January 10, 2020           6.9   1,637  \n",
       "\n",
       "[1411 rows x 14 columns]"
      ]
     },
     "execution_count": 25,
     "metadata": {},
     "output_type": "execute_result"
    }
   ],
   "source": [
    "dataset"
   ]
  },
  {
   "cell_type": "code",
   "execution_count": 29,
   "metadata": {},
   "outputs": [],
   "source": [
    "ls = list()\n",
    "for ix in range(dataset.shape[0]):\n",
    "    content = list()\n",
    "    for e in dataset.iloc[ix,4:9]:\n",
    "        content.append(str(e))\n",
    "    s = ','.join(content)\n",
    "    ls.append(s)"
   ]
  },
  {
   "cell_type": "code",
   "execution_count": 32,
   "metadata": {},
   "outputs": [],
   "source": [
    "dataset['everything'] = ls"
   ]
  },
  {
   "cell_type": "code",
   "execution_count": 36,
   "metadata": {},
   "outputs": [],
   "source": [
    "description_texts = [preprocess(text) for text in dataset['everything'].tolist()]"
   ]
  },
  {
   "cell_type": "code",
   "execution_count": 37,
   "metadata": {},
   "outputs": [],
   "source": [
    "# Take out the stopwords\n",
    "for i in range(len(description_texts)):\n",
    "    description_texts[i] = [word for word in description_texts[i] if word not in stopwords.words('english')]\n",
    "\n",
    "# I use movie title as unique key. So I map out the title and the tokenised sentences\n",
    "\n",
    "title_text = dict(zip(dataset['title'].tolist(), description_texts))"
   ]
  },
  {
   "cell_type": "code",
   "execution_count": 38,
   "metadata": {},
   "outputs": [],
   "source": [
    "model = Word2Vec(description_texts, min_count=1)"
   ]
  },
  {
   "cell_type": "code",
   "execution_count": 39,
   "metadata": {},
   "outputs": [],
   "source": [
    "def get_vectors(first_map, second_map):\n",
    "    first_vec  = dict()\n",
    "    for uid, content in first_map.items():\n",
    "        temp = list()\n",
    "        for element in content:\n",
    "            try:\n",
    "                temp.append(second_map[element])\n",
    "            except KeyError:\n",
    "                pass\n",
    "        first_vec[uid] = np.mean(temp, axis=0)\n",
    "    \n",
    "    return first_vec\n",
    "\n",
    "\n",
    "def get_most_similar(lookup_id):\n",
    "\n",
    "    sim = list()\n",
    "    \n",
    "    lookup_map = title_vec\n",
    "    subject_map = title_vec\n",
    "#     else:\n",
    "#         raise ValueError('Invalid value for parameter kind.')\n",
    "        \n",
    "    for uid, vec in lookup_map.items():\n",
    "        thisSim = cosine_similarity(vec.reshape(1, -1), subject_map[lookup_id].reshape(1, -1))\n",
    "        sim.append((uid, thisSim[0][0]))\n",
    "\n",
    "    return sorted(sim, key=lambda x: x[1], reverse=True)\n",
    "\n",
    "def top_10_similar(title):\n",
    "    \n",
    "    x = get_most_similar(title)[1:11]\n",
    "#     for e in x:\n",
    "# #         rating = dataset.loc[dataset['title']==e[0]]['rating_value'].values.tolist()[0]\n",
    "# #         votes = dataset.loc[dataset['title']==e[0]]['votes'].values.tolist()[0]\n",
    "# #         print(f\"Movie title: {e[0]}\\nScores: {rating}\\nVotes: {votes}\\nSimilarity: {e[1]}\\n\")\n",
    "#         genres = test.loc[test['title']==e[0]['genres'].values.tolist()]\n",
    "#         print(f\"Movie title: {e[0]}\\nGenres: {genres}\\nSimilarity: {e[1]}\\n\")\n",
    "    print(x)"
   ]
  },
  {
   "cell_type": "code",
   "execution_count": 40,
   "metadata": {
    "collapsed": true,
    "jupyter": {
     "outputs_hidden": true
    }
   },
   "outputs": [
    {
     "name": "stderr",
     "output_type": "stream",
     "text": [
      "<ipython-input-39-a9b8b1c55ccc>:7: DeprecationWarning: Call to deprecated `__getitem__` (Method will be removed in 4.0.0, use self.wv.__getitem__() instead).\n",
      "  temp.append(second_map[element])\n"
     ]
    }
   ],
   "source": [
    "title_vec = get_vectors(title_text, model)"
   ]
  },
  {
   "cell_type": "code",
   "execution_count": 43,
   "metadata": {},
   "outputs": [
    {
     "name": "stdout",
     "output_type": "stream",
     "text": [
      "[('Battlefish', 0.43060258), ('Mob Psycho 100', 0.42099154), ('Netflix Presents: The Characters', 0.40469477), ('1983', 0.40332985), ('Arthdal Chronicles', 0.39989364), ('Jen Kirkman: Just Keep Livin’?', 0.39660197), ('Frontier', 0.39487755), ('Welcome to the Family', 0.39192244), ('GHOUL', 0.3917403), ('Tiffany Haddish Presents: They Ready', 0.38686258)]\n"
     ]
    }
   ],
   "source": [
    "top_10_similar('House of Cards')"
   ]
  },
  {
   "cell_type": "markdown",
   "metadata": {},
   "source": [
    "# Test 6k dataset"
   ]
  },
  {
   "cell_type": "code",
   "execution_count": 45,
   "metadata": {},
   "outputs": [],
   "source": [
    "data6k = pd.read_csv('netflixMovieDb.csv')\n",
    "data6k = data6k.append(pd.read_csv('netflixTvshowDb.csv')).append(pd.read_csv('dMoviesDb.csv')).append(pd.read_csv('dTvshowsDb.csv'))"
   ]
  },
  {
   "cell_type": "code",
   "execution_count": 46,
   "metadata": {},
   "outputs": [
    {
     "data": {
      "text/plain": [
       "(6525, 13)"
      ]
     },
     "execution_count": 46,
     "metadata": {},
     "output_type": "execute_result"
    }
   ],
   "source": [
    "data6k.shape"
   ]
  },
  {
   "cell_type": "code",
   "execution_count": 47,
   "metadata": {},
   "outputs": [],
   "source": [
    "ls = list()\n",
    "for ix in range(data6k.shape[0]):\n",
    "    content = list()\n",
    "    for e in data6k.iloc[ix,4:9]:\n",
    "        content.append(str(e))\n",
    "    s = ','.join(content)\n",
    "    ls.append(s)\n",
    "    \n",
    "data6k['everything'] = ls"
   ]
  },
  {
   "cell_type": "code",
   "execution_count": 48,
   "metadata": {},
   "outputs": [],
   "source": [
    "description_texts = [preprocess(text) for text in data6k['everything'].tolist()]"
   ]
  },
  {
   "cell_type": "code",
   "execution_count": 49,
   "metadata": {},
   "outputs": [],
   "source": [
    "# Take out the stopwords\n",
    "for i in range(len(description_texts)):\n",
    "    description_texts[i] = [word for word in description_texts[i] if word not in stopwords.words('english')]\n",
    "\n",
    "# I use movie title as unique key. So I map out the title and the tokenised sentences\n",
    "\n",
    "title_text = dict(zip(data6k['title'].tolist(), description_texts))"
   ]
  },
  {
   "cell_type": "code",
   "execution_count": 53,
   "metadata": {},
   "outputs": [],
   "source": [
    "model = Word2Vec(description_texts, min_count=2)"
   ]
  },
  {
   "cell_type": "code",
   "execution_count": 54,
   "metadata": {},
   "outputs": [
    {
     "name": "stderr",
     "output_type": "stream",
     "text": [
      "<ipython-input-39-a9b8b1c55ccc>:7: DeprecationWarning: Call to deprecated `__getitem__` (Method will be removed in 4.0.0, use self.wv.__getitem__() instead).\n",
      "  temp.append(second_map[element])\n"
     ]
    }
   ],
   "source": [
    "title_vec = get_vectors(title_text, model)"
   ]
  },
  {
   "cell_type": "code",
   "execution_count": 56,
   "metadata": {},
   "outputs": [
    {
     "name": "stdout",
     "output_type": "stream",
     "text": [
      "[('Tayo the Little Bus', 0.99999493), ('Terrace House: Boys & Girls in the City', 0.99998957), ('My Big Night', 0.999984), ('Fairy Tail', 0.9999839), ('Magi: Adventure of Sinbad', 0.9999716), ('The Seven Deadly Sins', 0.9999638), ('Trinkets', 0.99995995), ('My Favorite Martian', 0.9999585), ('Evil Genius', 0.99992406), ('Hunter X Hunter (2011)', 0.9999192)]\n"
     ]
    }
   ],
   "source": [
    "top_10_similar('Ultraman')"
   ]
  },
  {
   "cell_type": "code",
   "execution_count": 55,
   "metadata": {},
   "outputs": [
    {
     "name": "stdout",
     "output_type": "stream",
     "text": [
      "[(\"101 Dalmatians II: Patch's London Adventure\", 0.9999729), ('Top Grier', 0.99997014), ('Girl', 0.9999669), (\"Can't Help Falling in Love\", 0.99996614), ('Sofía Niño de Rivera: Selección Natural', 0.99996245), ('Francesco De Carlo: Cose di Questo Mondo', 0.9999608), ('Sofía Niño de Rivera: Exposed', 0.99995977), ('Maniac', 0.99995625), ('Life With Mikey', 0.99995387), ('Mea Culpa', 0.9999532)]\n"
     ]
    }
   ],
   "source": [
    "top_10_similar('House of Cards')"
   ]
  },
  {
   "cell_type": "markdown",
   "metadata": {},
   "source": [
    "Spacy"
   ]
  },
  {
   "cell_type": "code",
   "execution_count": 58,
   "metadata": {},
   "outputs": [],
   "source": [
    "import spacy\n",
    "from spacy import displacy\n",
    "from spacy.matcher import Matcher"
   ]
  },
  {
   "cell_type": "code",
   "execution_count": 60,
   "metadata": {},
   "outputs": [
    {
     "ename": "OSError",
     "evalue": "[E050] Can't find model 'en_core_web_sm'. It doesn't seem to be a shortcut link, a Python package or a valid path to a data directory.",
     "output_type": "error",
     "traceback": [
      "\u001b[0;31m---------------------------------------------------------------------------\u001b[0m",
      "\u001b[0;31mOSError\u001b[0m                                   Traceback (most recent call last)",
      "\u001b[0;32m<ipython-input-60-12102ff9e1a9>\u001b[0m in \u001b[0;36m<module>\u001b[0;34m\u001b[0m\n\u001b[0;32m----> 1\u001b[0;31m \u001b[0mnlp\u001b[0m \u001b[0;34m=\u001b[0m \u001b[0mspacy\u001b[0m\u001b[0;34m.\u001b[0m\u001b[0mload\u001b[0m\u001b[0;34m(\u001b[0m\u001b[0;34m'en_core_web_sm'\u001b[0m\u001b[0;34m)\u001b[0m\u001b[0;34m\u001b[0m\u001b[0;34m\u001b[0m\u001b[0m\n\u001b[0m",
      "\u001b[0;32m~/MSc/Dissertation/data/crawler/venv/lib/python3.8/site-packages/spacy/__init__.py\u001b[0m in \u001b[0;36mload\u001b[0;34m(name, **overrides)\u001b[0m\n\u001b[1;32m     28\u001b[0m     \u001b[0;32mif\u001b[0m \u001b[0mdepr_path\u001b[0m \u001b[0;32mnot\u001b[0m \u001b[0;32min\u001b[0m \u001b[0;34m(\u001b[0m\u001b[0;32mTrue\u001b[0m\u001b[0;34m,\u001b[0m \u001b[0;32mFalse\u001b[0m\u001b[0;34m,\u001b[0m \u001b[0;32mNone\u001b[0m\u001b[0;34m)\u001b[0m\u001b[0;34m:\u001b[0m\u001b[0;34m\u001b[0m\u001b[0;34m\u001b[0m\u001b[0m\n\u001b[1;32m     29\u001b[0m         \u001b[0mwarnings\u001b[0m\u001b[0;34m.\u001b[0m\u001b[0mwarn\u001b[0m\u001b[0;34m(\u001b[0m\u001b[0mWarnings\u001b[0m\u001b[0;34m.\u001b[0m\u001b[0mW001\u001b[0m\u001b[0;34m.\u001b[0m\u001b[0mformat\u001b[0m\u001b[0;34m(\u001b[0m\u001b[0mpath\u001b[0m\u001b[0;34m=\u001b[0m\u001b[0mdepr_path\u001b[0m\u001b[0;34m)\u001b[0m\u001b[0;34m,\u001b[0m \u001b[0mDeprecationWarning\u001b[0m\u001b[0;34m)\u001b[0m\u001b[0;34m\u001b[0m\u001b[0;34m\u001b[0m\u001b[0m\n\u001b[0;32m---> 30\u001b[0;31m     \u001b[0;32mreturn\u001b[0m \u001b[0mutil\u001b[0m\u001b[0;34m.\u001b[0m\u001b[0mload_model\u001b[0m\u001b[0;34m(\u001b[0m\u001b[0mname\u001b[0m\u001b[0;34m,\u001b[0m \u001b[0;34m**\u001b[0m\u001b[0moverrides\u001b[0m\u001b[0;34m)\u001b[0m\u001b[0;34m\u001b[0m\u001b[0;34m\u001b[0m\u001b[0m\n\u001b[0m\u001b[1;32m     31\u001b[0m \u001b[0;34m\u001b[0m\u001b[0m\n\u001b[1;32m     32\u001b[0m \u001b[0;34m\u001b[0m\u001b[0m\n",
      "\u001b[0;32m~/MSc/Dissertation/data/crawler/venv/lib/python3.8/site-packages/spacy/util.py\u001b[0m in \u001b[0;36mload_model\u001b[0;34m(name, **overrides)\u001b[0m\n\u001b[1;32m    173\u001b[0m     \u001b[0;32melif\u001b[0m \u001b[0mhasattr\u001b[0m\u001b[0;34m(\u001b[0m\u001b[0mname\u001b[0m\u001b[0;34m,\u001b[0m \u001b[0;34m\"exists\"\u001b[0m\u001b[0;34m)\u001b[0m\u001b[0;34m:\u001b[0m  \u001b[0;31m# Path or Path-like to model data\u001b[0m\u001b[0;34m\u001b[0m\u001b[0;34m\u001b[0m\u001b[0m\n\u001b[1;32m    174\u001b[0m         \u001b[0;32mreturn\u001b[0m \u001b[0mload_model_from_path\u001b[0m\u001b[0;34m(\u001b[0m\u001b[0mname\u001b[0m\u001b[0;34m,\u001b[0m \u001b[0;34m**\u001b[0m\u001b[0moverrides\u001b[0m\u001b[0;34m)\u001b[0m\u001b[0;34m\u001b[0m\u001b[0;34m\u001b[0m\u001b[0m\n\u001b[0;32m--> 175\u001b[0;31m     \u001b[0;32mraise\u001b[0m \u001b[0mIOError\u001b[0m\u001b[0;34m(\u001b[0m\u001b[0mErrors\u001b[0m\u001b[0;34m.\u001b[0m\u001b[0mE050\u001b[0m\u001b[0;34m.\u001b[0m\u001b[0mformat\u001b[0m\u001b[0;34m(\u001b[0m\u001b[0mname\u001b[0m\u001b[0;34m=\u001b[0m\u001b[0mname\u001b[0m\u001b[0;34m)\u001b[0m\u001b[0;34m)\u001b[0m\u001b[0;34m\u001b[0m\u001b[0;34m\u001b[0m\u001b[0m\n\u001b[0m\u001b[1;32m    176\u001b[0m \u001b[0;34m\u001b[0m\u001b[0m\n\u001b[1;32m    177\u001b[0m \u001b[0;34m\u001b[0m\u001b[0m\n",
      "\u001b[0;31mOSError\u001b[0m: [E050] Can't find model 'en_core_web_sm'. It doesn't seem to be a shortcut link, a Python package or a valid path to a data directory."
     ]
    }
   ],
   "source": [
    "nlp = spacy.load('en_core_web_sm')"
   ]
  },
  {
   "cell_type": "code",
   "execution_count": null,
   "metadata": {},
   "outputs": [],
   "source": []
  }
 ],
 "metadata": {
  "kernelspec": {
   "display_name": "Python 3",
   "language": "python",
   "name": "python3"
  },
  "language_info": {
   "codemirror_mode": {
    "name": "ipython",
    "version": 3
   },
   "file_extension": ".py",
   "mimetype": "text/x-python",
   "name": "python",
   "nbconvert_exporter": "python",
   "pygments_lexer": "ipython3",
   "version": "3.8.3"
  }
 },
 "nbformat": 4,
 "nbformat_minor": 4
}
