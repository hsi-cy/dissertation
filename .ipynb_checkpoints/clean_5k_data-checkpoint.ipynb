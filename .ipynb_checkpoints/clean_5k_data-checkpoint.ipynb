{
 "cells": [
  {
   "cell_type": "code",
   "execution_count": 58,
   "metadata": {},
   "outputs": [],
   "source": [
    "import pandas as pd\n",
    "import numpy as np\n",
    "from pprint import pprint"
   ]
  },
  {
   "cell_type": "code",
   "execution_count": 59,
   "metadata": {},
   "outputs": [],
   "source": [
    "cols = ['title', 'type', 'imdb_rating', 'tomato_rating', 'genres',\n",
    "       'maturity_rating', 'time_period', 'runtime', 'platform', 'tags',\n",
    "       'country', 'description', 'ps']\n",
    "\n",
    "movie = pd.read_csv('nMovieRg.csv', usecols=cols)\n",
    "# tvshow = pd.read_csv('nTvshowRg.csv')"
   ]
  },
  {
   "cell_type": "code",
   "execution_count": 60,
   "metadata": {},
   "outputs": [
    {
     "data": {
      "text/plain": [
       "Index(['title', 'type', 'imdb_rating', 'tomato_rating', 'genres',\n",
       "       'maturity_rating', 'time_period', 'runtime', 'platform', 'tags',\n",
       "       'country', 'description', 'ps'],\n",
       "      dtype='object')"
      ]
     },
     "execution_count": 60,
     "metadata": {},
     "output_type": "execute_result"
    }
   ],
   "source": [
    "movie.columns"
   ]
  },
  {
   "cell_type": "code",
   "execution_count": 25,
   "metadata": {},
   "outputs": [],
   "source": [
    "filt = movie['ps'] != 'All Clear'\n",
    "ix = list(movie.loc[filt]['ps'].index)"
   ]
  },
  {
   "cell_type": "code",
   "execution_count": 26,
   "metadata": {},
   "outputs": [],
   "source": [
    "# Get all ps not equals to all clear in a list, where 3 - 8 elements lie in it.\n",
    "ps = list()\n",
    "for elements in movie.loc[filt]['ps']:\n",
    "    ps.append(elements.replace('[','').replace(']','').split(','))"
   ]
  },
  {
   "cell_type": "code",
   "execution_count": 31,
   "metadata": {},
   "outputs": [
    {
     "data": {
      "text/plain": [
       "{2, 3, 4, 5, 6, 7, 8}"
      ]
     },
     "execution_count": 31,
     "metadata": {},
     "output_type": "execute_result"
    }
   ],
   "source": [
    "l = list()\n",
    "for i in range(len(ps)):\n",
    "    l.append(len(ps[i]))\n",
    "set(l)"
   ]
  },
  {
   "cell_type": "code",
   "execution_count": 32,
   "metadata": {},
   "outputs": [],
   "source": [
    "len8    = list()\n",
    "len8_ix = list()\n",
    "len7    = list()\n",
    "len7_ix = list()\n",
    "len6    = list()\n",
    "len6_ix = list()\n",
    "len5    = list()\n",
    "len5_ix = list()\n",
    "len4    = list()\n",
    "len4_ix = list()\n",
    "len3    = list()\n",
    "len3_ix = list()\n",
    "len2    = list()\n",
    "len2_ix = list()\n",
    "others  = list() #should not be anything inside\n",
    "\n",
    "for i in range(len(ps)):\n",
    "    if len(ps[i]) == 8:\n",
    "        len8.append(ps[i]) #get the whole string of len=8's ps\n",
    "        len8_ix.append(ix[i]) #get the title index\n",
    "    elif len(ps[i]) == 7:\n",
    "        len7.append(ps[i]) \n",
    "        len7_ix.append(ix[i]) \n",
    "    elif len(ps[i]) == 6:\n",
    "        len6.append(ps[i]) \n",
    "        len6_ix.append(ix[i]) \n",
    "    elif len(ps[i]) == 5:\n",
    "        len5.append(ps[i]) \n",
    "        len5_ix.append(ix[i]) \n",
    "    elif len(ps[i]) == 4:\n",
    "        len4.append(ps[i]) \n",
    "        len4_ix.append(ix[i]) \n",
    "    elif len(ps[i]) == 3:\n",
    "        len3.append(ps[i]) \n",
    "        len3_ix.append(ix[i]) \n",
    "    elif len(ps[i]) == 2:\n",
    "        len2.append(ps[i]) \n",
    "        len2_ix.append(ix[i]) \n",
    "    else:\n",
    "        others.append(ps[i])"
   ]
  },
  {
   "cell_type": "code",
   "execution_count": 28,
   "metadata": {},
   "outputs": [],
   "source": [
    "# clean data for len8\n",
    "for i in range(len(len8)):\n",
    "    movie.loc[len8_ix[i], 'imdb_rating']     = len8[i][0].replace(\"'\",\"\")\n",
    "    movie.loc[len8_ix[i], 'tomato_rating']   = len8[i][1].replace(\"'\",\"\")\n",
    "    movie.loc[len8_ix[i], 'maturity_rating'] = len8[i][2].replace(\"'\",\"\").replace('Rated: ','')\n",
    "    movie.loc[len8_ix[i], 'time_period']     = len8[i][3].replace(\"'\",\"\")\n",
    "    movie.loc[len8_ix[i], 'runtime']         = len8[i][4].replace(\"'\",\"\")\n",
    "    movie.loc[len8_ix[i], 'platform']        = len8[i][5].replace(\"'\",\"\").replace('On: ','').replace('\\\\xa0',' ').lstrip().rstrip()\n",
    "    movie.loc[len8_ix[i], 'tags']            = len8[i][6].replace(\"'\",\"\").replace('Tags:','').replace('\\\\xa0',' ').lstrip().rstrip()\n",
    "    movie.loc[len8_ix[i], 'country']         = len8[i][7].replace(\"'\",\"\").replace('Country:','').replace('\\\\xa0',' ').lstrip().rstrip()"
   ]
  },
  {
   "cell_type": "code",
   "execution_count": 39,
   "metadata": {},
   "outputs": [],
   "source": [
    "for i in range(len(len7)):\n",
    "    movie.loc[len7_ix[i], 'imdb_rating']     = len7[i][0].replace(\"'\",\"\")\n",
    "    movie.loc[len7_ix[i], 'tomato_rating']   = len7[i][1].replace(\"'\",\"\")\n",
    "    movie.loc[len7_ix[i], 'genres']          = len7[i][2].replace(\"'\",\"\").replace('\\\\xa0',' ').lstrip().rstrip().replace('...','')\n",
    "    movie.loc[len7_ix[i], 'maturity_rating'] = len7[i][3].replace(\"'\",\"\").replace('Rated: ','')\n",
    "    movie.loc[len7_ix[i], 'time_period']     = len7[i][4].replace(\"'\",\"\")\n",
    "    movie.loc[len7_ix[i], 'runtime']         = len7[i][5].replace(\"'\",\"\")\n",
    "    movie.loc[len7_ix[i], 'platform']        = len7[i][6].replace(\"'\",\"\").replace('On: ','').replace('\\\\xa0',' ').lstrip().rstrip()\n",
    "#     movie.loc[len7_ix[i], 'tags']            = len7[i][6].replace(\"'\",\"\").replace('Tags:','').replace('\\\\xa0',' ').lstrip().rstrip()\n",
    "#     movie.loc[len7_ix[i], 'country']         = len7[i][7].replace(\"'\",\"\").replace('Country:','').replace('\\\\xa0',' ').lstrip().rstrip()"
   ]
  },
  {
   "cell_type": "code",
   "execution_count": 45,
   "metadata": {},
   "outputs": [],
   "source": [
    "for i in range(len(len6)):\n",
    "    movie.loc[len6_ix[i], 'imdb_rating']     = len6[i][0].replace(\"'\",\"\")\n",
    "    movie.loc[len6_ix[i], 'tomato_rating']   = len6[i][1].replace(\"'\",\"\")\n",
    "    movie.loc[len6_ix[i], 'genres']          = len6[i][2].replace(\"'\",\"\").replace('\\\\xa0',' ').lstrip().rstrip().replace('...','')\n",
    "    movie.loc[len6_ix[i], 'time_period']     = len6[i][3].replace(\"'\",\"\")\n",
    "    movie.loc[len6_ix[i], 'runtime']         = len6[i][4].replace(\"'\",\"\")\n",
    "    movie.loc[len6_ix[i], 'platform']        = len6[i][5].replace(\"'\",\"\").replace('On: ','').replace('\\\\xa0',' ').lstrip().rstrip()"
   ]
  },
  {
   "cell_type": "code",
   "execution_count": 46,
   "metadata": {},
   "outputs": [
    {
     "name": "stdout",
     "output_type": "stream",
     "text": [
      "1096\n"
     ]
    },
    {
     "data": {
      "text/plain": [
       "[[\"'8.5/10'\",\n",
       "  \" 'Documentary\\\\xa0Stand-up & Talk\\\\xa0...More GenresDocumentaryStand-up & TalkComedy'\",\n",
       "  \" '2010'\",\n",
       "  \" '1h 24m'\",\n",
       "  \" 'On: Netflix\\\\xa0'\"],\n",
       " [\"'7.9/10'\",\n",
       "  \" 'Action & Adventure\\\\xa0Drama\\\\xa0...More GenresAction & AdventureDramaThrillerCrimeMystery'\",\n",
       "  \" '2013'\",\n",
       "  \" '2h 10m'\",\n",
       "  \" 'On: Netflix\\\\xa0'\"],\n",
       " [\"'7.8/10'\", \" '86%'\", \" '2017'\", \" '1h 37m'\", \" 'On: Netflix\\\\xa0'\"]]"
      ]
     },
     "execution_count": 46,
     "metadata": {},
     "output_type": "execute_result"
    }
   ],
   "source": [
    "print(len(len5))\n",
    "len5[0:3]"
   ]
  },
  {
   "cell_type": "code",
   "execution_count": 20,
   "metadata": {},
   "outputs": [
    {
     "data": {
      "text/plain": [
       "Index(['title', 'type', 'imdb_rating', 'tomato_rating', 'genres',\n",
       "       'maturity_rating', 'time_period', 'runtime', 'platform', 'tags',\n",
       "       'country', 'description', 'ps'],\n",
       "      dtype='object')"
      ]
     },
     "execution_count": 20,
     "metadata": {},
     "output_type": "execute_result"
    }
   ],
   "source": [
    "movie.columns"
   ]
  },
  {
   "cell_type": "code",
   "execution_count": 57,
   "metadata": {},
   "outputs": [
    {
     "ename": "AttributeError",
     "evalue": "'str' object has no attribute 'head'",
     "output_type": "error",
     "traceback": [
      "\u001b[0;31m---------------------------------------------------------------------------\u001b[0m",
      "\u001b[0;31mAttributeError\u001b[0m                            Traceback (most recent call last)",
      "\u001b[0;32m<ipython-input-57-e97ac8b1bf9d>\u001b[0m in \u001b[0;36m<module>\u001b[0;34m\u001b[0m\n\u001b[0;32m----> 1\u001b[0;31m \u001b[0mmovie\u001b[0m\u001b[0;34m.\u001b[0m\u001b[0mhead\u001b[0m\u001b[0;34m(\u001b[0m\u001b[0;36m200\u001b[0m\u001b[0;34m)\u001b[0m\u001b[0;34m\u001b[0m\u001b[0;34m\u001b[0m\u001b[0m\n\u001b[0m",
      "\u001b[0;31mAttributeError\u001b[0m: 'str' object has no attribute 'head'"
     ]
    }
   ],
   "source": [
    "movie.head(200)"
   ]
  },
  {
   "cell_type": "code",
   "execution_count": null,
   "metadata": {},
   "outputs": [],
   "source": []
  }
 ],
 "metadata": {
  "kernelspec": {
   "display_name": "Python 3",
   "language": "python",
   "name": "python3"
  },
  "language_info": {
   "codemirror_mode": {
    "name": "ipython",
    "version": 3
   },
   "file_extension": ".py",
   "mimetype": "text/x-python",
   "name": "python",
   "nbconvert_exporter": "python",
   "pygments_lexer": "ipython3",
   "version": "3.8.3"
  }
 },
 "nbformat": 4,
 "nbformat_minor": 4
}
