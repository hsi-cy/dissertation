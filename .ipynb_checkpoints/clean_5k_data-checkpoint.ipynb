{
 "cells": [
  {
   "cell_type": "code",
   "execution_count": 1,
   "metadata": {},
   "outputs": [],
   "source": [
    "import pandas as pd\n",
    "import numpy as np\n",
    "from pprint import pprint"
   ]
  },
  {
   "cell_type": "code",
   "execution_count": 5,
   "metadata": {},
   "outputs": [],
   "source": [
    "cols = ['title', 'type', 'description']\n",
    "\n",
    "movie_with_description = pd.read_csv('nMovieRg.csv', usecols=cols)\n",
    "tvshow_with_description = pd.read_csv('nTvshowRg.csv', usecols=cols)"
   ]
  },
  {
   "cell_type": "code",
   "execution_count": 10,
   "metadata": {},
   "outputs": [],
   "source": [
    "df_with_genres = pd.read_csv('genreRg.csv')"
   ]
  },
  {
   "cell_type": "code",
   "execution_count": 19,
   "metadata": {},
   "outputs": [
    {
     "data": {
      "text/plain": [
       "(5649, 3)"
      ]
     },
     "execution_count": 19,
     "metadata": {},
     "output_type": "execute_result"
    }
   ],
   "source": [
    "df_with_genres.shape"
   ]
  },
  {
   "cell_type": "code",
   "execution_count": 8,
   "metadata": {},
   "outputs": [],
   "source": [
    "dataset_ttl_tp_dscp = movie_with_description.append(tvshow_with_description, ignore_index=True)"
   ]
  },
  {
   "cell_type": "code",
   "execution_count": 12,
   "metadata": {},
   "outputs": [
    {
     "data": {
      "text/plain": [
       "(5649, 3)"
      ]
     },
     "execution_count": 12,
     "metadata": {},
     "output_type": "execute_result"
    }
   ],
   "source": [
    "dataset_ttl_tp_dscp.shape"
   ]
  },
  {
   "cell_type": "code",
   "execution_count": 20,
   "metadata": {},
   "outputs": [],
   "source": [
    "df_all = dataset_ttl_tp_dscp.merge(df_with_genres, on='title').drop('Unnamed: 0', axis=1)"
   ]
  },
  {
   "cell_type": "code",
   "execution_count": 23,
   "metadata": {},
   "outputs": [],
   "source": [
    "df_all.to_csv('all.csv') "
   ]
  },
  {
   "cell_type": "code",
   "execution_count": 24,
   "metadata": {
    "collapsed": true,
    "jupyter": {
     "outputs_hidden": true
    }
   },
   "outputs": [
    {
     "data": {
      "text/html": [
       "<div>\n",
       "<style scoped>\n",
       "    .dataframe tbody tr th:only-of-type {\n",
       "        vertical-align: middle;\n",
       "    }\n",
       "\n",
       "    .dataframe tbody tr th {\n",
       "        vertical-align: top;\n",
       "    }\n",
       "\n",
       "    .dataframe thead th {\n",
       "        text-align: right;\n",
       "    }\n",
       "</style>\n",
       "<table border=\"1\" class=\"dataframe\">\n",
       "  <thead>\n",
       "    <tr style=\"text-align: right;\">\n",
       "      <th></th>\n",
       "      <th>title</th>\n",
       "      <th>type</th>\n",
       "      <th>description</th>\n",
       "      <th>genres</th>\n",
       "    </tr>\n",
       "  </thead>\n",
       "  <tbody>\n",
       "    <tr>\n",
       "      <th>0</th>\n",
       "      <td>Inception</td>\n",
       "      <td>movie</td>\n",
       "      <td>Cobb, a skilled thief who commits corporate es...</td>\n",
       "      <td>action-and-adventure,mystery,science-fiction,t...</td>\n",
       "    </tr>\n",
       "    <tr>\n",
       "      <th>1</th>\n",
       "      <td>Back to the Future</td>\n",
       "      <td>movie</td>\n",
       "      <td>Eighties teenager Marty McFly is accidentally ...</td>\n",
       "      <td>comedy,fantasy,science-fiction,action-and-adve...</td>\n",
       "    </tr>\n",
       "    <tr>\n",
       "      <th>2</th>\n",
       "      <td>The Matrix</td>\n",
       "      <td>movie</td>\n",
       "      <td>Set in the 22nd century, The Matrix tells the ...</td>\n",
       "      <td>action-and-adventure,science-fiction</td>\n",
       "    </tr>\n",
       "    <tr>\n",
       "      <th>3</th>\n",
       "      <td>The Good, the Bad and the Ugly</td>\n",
       "      <td>movie</td>\n",
       "      <td>While the Civil War rages between the Union an...</td>\n",
       "      <td>NaN</td>\n",
       "    </tr>\n",
       "    <tr>\n",
       "      <th>4</th>\n",
       "      <td>Avengers: Infinity War</td>\n",
       "      <td>movie</td>\n",
       "      <td>As the Avengers and their allies have continue...</td>\n",
       "      <td>action-and-adventure,fantasy,science-fiction</td>\n",
       "    </tr>\n",
       "    <tr>\n",
       "      <th>...</th>\n",
       "      <td>...</td>\n",
       "      <td>...</td>\n",
       "      <td>...</td>\n",
       "      <td>...</td>\n",
       "    </tr>\n",
       "    <tr>\n",
       "      <th>5764</th>\n",
       "      <td>Bal Ganesh</td>\n",
       "      <td>tvshow</td>\n",
       "      <td>Bal Ganesh has one or more episodes streaming ...</td>\n",
       "      <td>animation</td>\n",
       "    </tr>\n",
       "    <tr>\n",
       "      <th>5765</th>\n",
       "      <td>The Ultimatum</td>\n",
       "      <td>tvshow</td>\n",
       "      <td>The Ultimatum has one or more episodes streami...</td>\n",
       "      <td>drama</td>\n",
       "    </tr>\n",
       "    <tr>\n",
       "      <th>5766</th>\n",
       "      <td>Titipo Titipo</td>\n",
       "      <td>tvshow</td>\n",
       "      <td>Titipo Titipo has one or more episodes streami...</td>\n",
       "      <td>NaN</td>\n",
       "    </tr>\n",
       "    <tr>\n",
       "      <th>5767</th>\n",
       "      <td>The Underwear</td>\n",
       "      <td>tvshow</td>\n",
       "      <td>The Underwear has one or more episodes streami...</td>\n",
       "      <td>NaN</td>\n",
       "    </tr>\n",
       "    <tr>\n",
       "      <th>5768</th>\n",
       "      <td>Truth</td>\n",
       "      <td>tvshow</td>\n",
       "      <td>Truth has one or more episodes streaming with ...</td>\n",
       "      <td>NaN</td>\n",
       "    </tr>\n",
       "  </tbody>\n",
       "</table>\n",
       "<p>5760 rows × 4 columns</p>\n",
       "</div>"
      ],
      "text/plain": [
       "                               title    type  \\\n",
       "0                          Inception   movie   \n",
       "1                 Back to the Future   movie   \n",
       "2                         The Matrix   movie   \n",
       "3     The Good, the Bad and the Ugly   movie   \n",
       "4             Avengers: Infinity War   movie   \n",
       "...                              ...     ...   \n",
       "5764                      Bal Ganesh  tvshow   \n",
       "5765                   The Ultimatum  tvshow   \n",
       "5766                   Titipo Titipo  tvshow   \n",
       "5767                   The Underwear  tvshow   \n",
       "5768                           Truth  tvshow   \n",
       "\n",
       "                                            description  \\\n",
       "0     Cobb, a skilled thief who commits corporate es...   \n",
       "1     Eighties teenager Marty McFly is accidentally ...   \n",
       "2     Set in the 22nd century, The Matrix tells the ...   \n",
       "3     While the Civil War rages between the Union an...   \n",
       "4     As the Avengers and their allies have continue...   \n",
       "...                                                 ...   \n",
       "5764  Bal Ganesh has one or more episodes streaming ...   \n",
       "5765  The Ultimatum has one or more episodes streami...   \n",
       "5766  Titipo Titipo has one or more episodes streami...   \n",
       "5767  The Underwear has one or more episodes streami...   \n",
       "5768  Truth has one or more episodes streaming with ...   \n",
       "\n",
       "                                                 genres  \n",
       "0     action-and-adventure,mystery,science-fiction,t...  \n",
       "1     comedy,fantasy,science-fiction,action-and-adve...  \n",
       "2                  action-and-adventure,science-fiction  \n",
       "3                                                   NaN  \n",
       "4          action-and-adventure,fantasy,science-fiction  \n",
       "...                                                 ...  \n",
       "5764                                          animation  \n",
       "5765                                              drama  \n",
       "5766                                                NaN  \n",
       "5767                                                NaN  \n",
       "5768                                                NaN  \n",
       "\n",
       "[5760 rows x 4 columns]"
      ]
     },
     "execution_count": 24,
     "metadata": {},
     "output_type": "execute_result"
    }
   ],
   "source": [
    "df_all.drop_duplicates(inplace=True)"
   ]
  },
  {
   "cell_type": "code",
   "execution_count": 32,
   "metadata": {},
   "outputs": [],
   "source": [
    "orgtv = pd.read_csv('tvshow_titles.csv', usecols=['titles'])\n",
    "orgmv = pd.read_csv('movie_title.csv', usecols=['movie_title'])"
   ]
  },
  {
   "cell_type": "code",
   "execution_count": 40,
   "metadata": {},
   "outputs": [],
   "source": [
    "orgmv = orgmv.rename(columns={'movie_title':'titles'})"
   ]
  },
  {
   "cell_type": "code",
   "execution_count": 43,
   "metadata": {},
   "outputs": [],
   "source": [
    "all_org = orgmv.append(orgtv, ignore_index=True)"
   ]
  },
  {
   "cell_type": "code",
   "execution_count": 55,
   "metadata": {},
   "outputs": [],
   "source": [
    "orgLabel = []\n",
    "for t in df_all.title.str.lower().tolist():\n",
    "    if t not in all_org.titles.str.lower().tolist():\n",
    "        orgLabel.append(0)\n",
    "    else:\n",
    "        orgLabel.append(1)\n",
    "        "
   ]
  },
  {
   "cell_type": "code",
   "execution_count": 56,
   "metadata": {},
   "outputs": [
    {
     "data": {
      "text/plain": [
       "5769"
      ]
     },
     "execution_count": 56,
     "metadata": {},
     "output_type": "execute_result"
    }
   ],
   "source": [
    "len(orgLabel)"
   ]
  },
  {
   "cell_type": "code",
   "execution_count": 58,
   "metadata": {},
   "outputs": [],
   "source": [
    "df_all['originals'] = orgLabel"
   ]
  },
  {
   "cell_type": "code",
   "execution_count": 63,
   "metadata": {},
   "outputs": [],
   "source": [
    "df_all.to_csv('df_with_5cols.csv')"
   ]
  },
  {
   "cell_type": "code",
   "execution_count": null,
   "metadata": {},
   "outputs": [],
   "source": []
  }
 ],
 "metadata": {
  "kernelspec": {
   "display_name": "Python 3",
   "language": "python",
   "name": "python3"
  },
  "language_info": {
   "codemirror_mode": {
    "name": "ipython",
    "version": 3
   },
   "file_extension": ".py",
   "mimetype": "text/x-python",
   "name": "python",
   "nbconvert_exporter": "python",
   "pygments_lexer": "ipython3",
   "version": "3.8.3"
  }
 },
 "nbformat": 4,
 "nbformat_minor": 4
}
