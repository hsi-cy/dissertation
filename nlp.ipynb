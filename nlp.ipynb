{
 "cells": [
  {
   "cell_type": "code",
   "execution_count": null,
   "metadata": {},
   "outputs": [],
   "source": [
    "import pandas as pd\n",
    "import numpy as np\n",
    "import re\n",
    "from sklearn.manifold import TSNE\n",
    "from sklearn.metrics.pairwise import cosine_similarity\n",
    "# import nltk\n",
    "# import ssl\n",
    "# try:\n",
    "#     _create_unverified_https_context = ssl._create_unverified_context\n",
    "# except AttributeError:\n",
    "#     pass\n",
    "# else:\n",
    "#     ssl._create_default_https_context = _create_unverified_https_context\n",
    "\n",
    "# nltk.download('punkt')\n",
    "# nltk.download('stopwords')\n",
    "# from nltk.corpus import stopwords\n",
    "from gensim.models import KeyedVectors, Word2Vec\n",
    "\n",
    "SPECIAL_CHARS = '[^A-Za-z0-9 ]+'"
   ]
  },
  {
   "cell_type": "code",
   "execution_count": null,
   "metadata": {},
   "outputs": [],
   "source": [
    "def preprocess(text):\n",
    "    tokenized = [word for sent in [re.sub(SPECIAL_CHARS, '', element).split(' ') for \n",
    "                                   element in nltk.sent_tokenize(text)] for word in sent]\n",
    "    lowered = [word.lower() for word in tokenized]\n",
    "    return lowered"
   ]
  },
  {
   "cell_type": "code",
   "execution_count": null,
   "metadata": {},
   "outputs": [],
   "source": [
    "dataset = pd.read_csv('dataset.csv')"
   ]
  },
  {
   "cell_type": "code",
   "execution_count": null,
   "metadata": {},
   "outputs": [],
   "source": [
    "ls = list()\n",
    "for ix in range(dataset.shape[0]):\n",
    "    content = list()\n",
    "    for e in dataset.iloc[ix,4:9]:\n",
    "        content.append(str(e))\n",
    "    s = ','.join(content)\n",
    "    ls.append(s)"
   ]
  },
  {
   "cell_type": "code",
   "execution_count": null,
   "metadata": {},
   "outputs": [],
   "source": [
    "dataset['everything'] = ls"
   ]
  },
  {
   "cell_type": "code",
   "execution_count": null,
   "metadata": {},
   "outputs": [],
   "source": [
    "description_texts = [preprocess(text) for text in dataset['everything'].tolist()]"
   ]
  },
  {
   "cell_type": "code",
   "execution_count": null,
   "metadata": {},
   "outputs": [],
   "source": [
    "# # Take out the stopwords\n",
    "# for i in range(len(description_texts)):\n",
    "#     description_texts[i] = [word for word in description_texts[i] if word not in stopwords.words('english')]\n",
    "\n",
    "# I use movie title as unique key. So I map out the title and the tokenised sentences\n",
    "\n",
    "title_text = dict(zip(dataset['title'].tolist(), description_texts))"
   ]
  },
  {
   "cell_type": "code",
   "execution_count": null,
   "metadata": {},
   "outputs": [],
   "source": [
    "model = Word2Vec(min_count=20,\n",
    "                window=2,\n",
    "                size=300,\n",
    "                sample=6e-5,\n",
    "                alpha=0.03,\n",
    "                min_alpha=0.0007,\n",
    "                negative=20,\n",
    "                )"
   ]
  },
  {
   "cell_type": "code",
   "execution_count": null,
   "metadata": {},
   "outputs": [],
   "source": []
  },
  {
   "cell_type": "code",
   "execution_count": null,
   "metadata": {},
   "outputs": [],
   "source": [
    "def get_vectors(first_map, second_map):\n",
    "    first_vec  = dict()\n",
    "    for uid, content in first_map.items():\n",
    "        temp = list()\n",
    "        for element in content:\n",
    "            try:\n",
    "                temp.append(second_map[element])\n",
    "            except KeyError:\n",
    "                pass\n",
    "        first_vec[uid] = np.mean(temp, axis=0)\n",
    "    \n",
    "    return first_vec\n",
    "\n",
    "\n",
    "def get_most_similar(lookup_id):\n",
    "\n",
    "    sim = list()\n",
    "    \n",
    "    lookup_map = title_vec\n",
    "    subject_map = title_vec\n",
    "#     else:\n",
    "#         raise ValueError('Invalid value for parameter kind.')\n",
    "        \n",
    "    for uid, vec in lookup_map.items():\n",
    "        thisSim = cosine_similarity(vec.reshape(1, -1), subject_map[lookup_id].reshape(1, -1))\n",
    "        sim.append((uid, thisSim[0][0]))\n",
    "\n",
    "    return sorted(sim, key=lambda x: x[1], reverse=True)\n",
    "\n",
    "def top_10_similar(title):\n",
    "    \n",
    "    x = get_most_similar(title)[1:11]\n",
    "#     for e in x:\n",
    "# #         rating = dataset.loc[dataset['title']==e[0]]['rating_value'].values.tolist()[0]\n",
    "# #         votes = dataset.loc[dataset['title']==e[0]]['votes'].values.tolist()[0]\n",
    "# #         print(f\"Movie title: {e[0]}\\nScores: {rating}\\nVotes: {votes}\\nSimilarity: {e[1]}\\n\")\n",
    "#         genres = test.loc[test['title']==e[0]['genres'].values.tolist()]\n",
    "#         print(f\"Movie title: {e[0]}\\nGenres: {genres}\\nSimilarity: {e[1]}\\n\")\n",
    "    print(x)"
   ]
  },
  {
   "cell_type": "code",
   "execution_count": null,
   "metadata": {},
   "outputs": [],
   "source": [
    "title_vec = get_vectors(title_text, model)"
   ]
  },
  {
   "cell_type": "code",
   "execution_count": null,
   "metadata": {},
   "outputs": [],
   "source": [
    "top_10_similar('House of Cards')"
   ]
  },
  {
   "cell_type": "markdown",
   "metadata": {},
   "source": [
    "# Test 6k dataset"
   ]
  },
  {
   "cell_type": "code",
   "execution_count": null,
   "metadata": {},
   "outputs": [],
   "source": [
    "data6k = pd.read_csv('netflixMovieDb.csv')\n",
    "data6k = data6k.append(pd.read_csv('netflixTvshowDb.csv')).append(pd.read_csv('dMoviesDb.csv')).append(pd.read_csv('dTvshowsDb.csv'))"
   ]
  },
  {
   "cell_type": "code",
   "execution_count": null,
   "metadata": {},
   "outputs": [],
   "source": [
    "data6k.shape"
   ]
  },
  {
   "cell_type": "code",
   "execution_count": null,
   "metadata": {},
   "outputs": [],
   "source": [
    "ls = list()\n",
    "for ix in range(data6k.shape[0]):\n",
    "    content = list()\n",
    "    for e in data6k.iloc[ix,4:9]:\n",
    "        content.append(str(e))\n",
    "    s = ','.join(content)\n",
    "    ls.append(s)\n",
    "    \n",
    "data6k['everything'] = ls"
   ]
  },
  {
   "cell_type": "code",
   "execution_count": null,
   "metadata": {},
   "outputs": [],
   "source": [
    "description_texts = [preprocess(text) for text in data6k['everything'].tolist()]"
   ]
  },
  {
   "cell_type": "code",
   "execution_count": null,
   "metadata": {},
   "outputs": [],
   "source": [
    "# Take out the stopwords\n",
    "for i in range(len(description_texts)):\n",
    "    description_texts[i] = [word for word in description_texts[i] if word not in stopwords.words('english')]\n",
    "\n",
    "# I use movie title as unique key. So I map out the title and the tokenised sentences\n",
    "\n",
    "title_text = dict(zip(data6k['title'].tolist(), description_texts))"
   ]
  },
  {
   "cell_type": "code",
   "execution_count": null,
   "metadata": {},
   "outputs": [],
   "source": [
    "model = Word2Vec(description_texts, min_count=2)"
   ]
  },
  {
   "cell_type": "code",
   "execution_count": null,
   "metadata": {},
   "outputs": [],
   "source": [
    "title_vec = get_vectors(title_text, model)"
   ]
  },
  {
   "cell_type": "code",
   "execution_count": null,
   "metadata": {},
   "outputs": [],
   "source": [
    "top_10_similar('Ultraman')"
   ]
  },
  {
   "cell_type": "code",
   "execution_count": null,
   "metadata": {},
   "outputs": [],
   "source": [
    "top_10_similar('House of Cards')"
   ]
  },
  {
   "cell_type": "markdown",
   "metadata": {},
   "source": [
    "# Spacy test"
   ]
  },
  {
   "cell_type": "code",
   "execution_count": 59,
   "metadata": {},
   "outputs": [],
   "source": [
    "import spacy\n",
    "from spacy import displacy\n",
    "from spacy.matcher import Matcher\n",
    "import pandas as pd\n",
    "pd.set_option('display.max_colwidth', None)\n",
    "from sklearn.manifold import TSNE\n",
    "from sklearn.metrics.pairwise import cosine_similarity\n",
    "from gensim.models import KeyedVectors\n",
    "import re\n",
    "import numpy as np"
   ]
  },
  {
   "cell_type": "code",
   "execution_count": 2,
   "metadata": {},
   "outputs": [],
   "source": [
    "nlp = spacy.load('en_core_web_sm')"
   ]
  },
  {
   "cell_type": "code",
   "execution_count": 3,
   "metadata": {},
   "outputs": [],
   "source": [
    "net_originals = pd.read_csv('dataset.csv')"
   ]
  },
  {
   "cell_type": "code",
   "execution_count": 5,
   "metadata": {},
   "outputs": [],
   "source": [
    "corpus = net_originals.description.values.tolist() #list of docs\n"
   ]
  },
  {
   "cell_type": "code",
   "execution_count": 8,
   "metadata": {},
   "outputs": [],
   "source": [
    "def tokenise(doc):\n",
    "    return [token.text for token in nlp(doc)]"
   ]
  },
  {
   "cell_type": "code",
   "execution_count": 9,
   "metadata": {},
   "outputs": [],
   "source": [
    "token_corpus = [tokenise(doc) for doc in corpus]"
   ]
  },
  {
   "cell_type": "code",
   "execution_count": 14,
   "metadata": {},
   "outputs": [],
   "source": [
    "title_text = dict(zip(net_originals['title'].str.lower().tolist(), token_corpus))\n",
    "# lower the title (easy for search)"
   ]
  },
  {
   "cell_type": "code",
   "execution_count": 18,
   "metadata": {},
   "outputs": [],
   "source": [
    "path = \"GoogleNews-vectors-negative300.bin\"\n",
    "w2v = KeyedVectors.load_word2vec_format(path, binary=True)"
   ]
  },
  {
   "cell_type": "code",
   "execution_count": 31,
   "metadata": {},
   "outputs": [],
   "source": [
    "def get_vectors(first_map, second_map):\n",
    "    first_vec  = dict()\n",
    "    for uid, content in first_map.items():\n",
    "        temp = list()\n",
    "        for element in content:\n",
    "            try:\n",
    "                temp.append(second_map[element])\n",
    "            except KeyError:\n",
    "                pass\n",
    "        first_vec[uid] = np.mean(temp, axis=0)\n",
    "    \n",
    "    return first_vec"
   ]
  },
  {
   "cell_type": "code",
   "execution_count": 32,
   "metadata": {},
   "outputs": [],
   "source": [
    "def get_most_similar(lookup_id, title_vec):\n",
    "\n",
    "    sim = list()\n",
    "    lookup_map = title_vec\n",
    "    subject_map = title_vec \n",
    "        \n",
    "    for uid, vec in lookup_map.items():\n",
    "        thisSim = cosine_similarity(vec.reshape(1, -1), subject_map[lookup_id].reshape(1, -1))\n",
    "        sim.append((uid, thisSim[0][0]))\n",
    "\n",
    "    return sorted(sim, key=lambda x: x[1], reverse=True)"
   ]
  },
  {
   "cell_type": "code",
   "execution_count": 37,
   "metadata": {},
   "outputs": [],
   "source": [
    "title_vec = get_vectors(title_text, w2v)"
   ]
  },
  {
   "cell_type": "code",
   "execution_count": 42,
   "metadata": {},
   "outputs": [
    {
     "data": {
      "text/plain": [
       "[('orange is the new black', 0.693176),\n",
       " ('girlboss', 0.6802441),\n",
       " ('the crown', 0.66773325),\n",
       " (\"john leguizamo's latin history for morons\", 0.6632719),\n",
       " ('derek', 0.6610303),\n",
       " ('cuba and the cameraman', 0.6598381),\n",
       " ('haters back off', 0.6597925),\n",
       " ('pacific heat', 0.6597719),\n",
       " ('wanda sykes: not normal', 0.6593898),\n",
       " ('bomb scared', 0.6556132)]"
      ]
     },
     "execution_count": 42,
     "metadata": {},
     "output_type": "execute_result"
    }
   ],
   "source": [
    "get_most_similar('house of cards', title_vec)[1:11]"
   ]
  },
  {
   "cell_type": "code",
   "execution_count": 43,
   "metadata": {},
   "outputs": [
    {
     "data": {
      "text/plain": [
       "[('til death do us part', 0.77249855),\n",
       " ('marc maron: too real', 0.7058834),\n",
       " ('easy', 0.69845235),\n",
       " ('creeped out', 0.696932),\n",
       " ('rapture', 0.6834707),\n",
       " ('black mirror: bandersnatch', 0.6818516),\n",
       " ('comedians of the world', 0.67625797),\n",
       " ('i lost my body', 0.6690748),\n",
       " (\"bill burr: i'm sorry you feel that way\", 0.66618645),\n",
       " ('the adventures of puss in boots', 0.6503126)]"
      ]
     },
     "execution_count": 43,
     "metadata": {},
     "output_type": "execute_result"
    }
   ],
   "source": [
    "get_most_similar('black mirror', title_vec)[1:11]"
   ]
  },
  {
   "cell_type": "markdown",
   "metadata": {},
   "source": [
    "似乎是沒有很準 現在來試試看 6k dataset"
   ]
  },
  {
   "cell_type": "markdown",
   "metadata": {},
   "source": [
    "## same approach but with 6k dataset"
   ]
  },
  {
   "cell_type": "code",
   "execution_count": 44,
   "metadata": {},
   "outputs": [],
   "source": [
    "data6k = pd.read_csv('netflixMovieDb.csv')\n",
    "data6k = data6k.append(pd.read_csv('netflixTvshowDb.csv')).append(pd.read_csv('dMoviesDb.csv')).append(pd.read_csv('dTvshowsDb.csv'))"
   ]
  },
  {
   "cell_type": "code",
   "execution_count": 49,
   "metadata": {},
   "outputs": [
    {
     "data": {
      "text/plain": [
       "Index(['title', 'type', 'release_year', 'rating', 'runtime', 'description',\n",
       "       'genres', 'cast', 'director', 'country', 'imdb_link', 'date_added'],\n",
       "      dtype='object')"
      ]
     },
     "execution_count": 49,
     "metadata": {},
     "output_type": "execute_result"
    }
   ],
   "source": [
    "data6k.columns"
   ]
  },
  {
   "cell_type": "code",
   "execution_count": 50,
   "metadata": {},
   "outputs": [],
   "source": [
    "ls = list()\n",
    "for ix in range(data6k.shape[0]):\n",
    "    content = list()\n",
    "    for e in data6k.iloc[ix,5:9]:\n",
    "        content.append(str(e))\n",
    "    s = ','.join(content)\n",
    "    ls.append(s)\n",
    "    \n",
    "data6k['everything'] = ls"
   ]
  },
  {
   "cell_type": "code",
   "execution_count": 53,
   "metadata": {},
   "outputs": [],
   "source": [
    "corpus6k = data6k.description.values.tolist() #list of docs\n",
    "token_corpus6k = [tokenise(doc) for doc in corpus6k]\n",
    "title_text = dict(zip(data6k['title'].str.lower().tolist(), token_corpus6k))\n",
    "# lower the title (easy for search)"
   ]
  },
  {
   "cell_type": "code",
   "execution_count": 54,
   "metadata": {},
   "outputs": [],
   "source": [
    "title_vec6k = get_vectors(title_text, w2v)"
   ]
  },
  {
   "cell_type": "code",
   "execution_count": 68,
   "metadata": {},
   "outputs": [],
   "source": [
    "from pprint import pprint"
   ]
  },
  {
   "cell_type": "code",
   "execution_count": 69,
   "metadata": {},
   "outputs": [
    {
     "name": "stdout",
     "output_type": "stream",
     "text": [
      "[('newsies: the broadway musical', 0.707976),\n",
      " (\"marvel studios' captain america: the winter soldier\", 0.70431525),\n",
      " (\"blackbeard's ghost\", 0.6945638),\n",
      " ('orange is the new black', 0.693176),\n",
      " ('the even stevens movie', 0.68901473),\n",
      " ('the great muppet caper', 0.6858609),\n",
      " ('the rocketeer', 0.6857825),\n",
      " ('alpha dog', 0.6855821),\n",
      " ('atlantis rising', 0.6847112),\n",
      " (\"a kid in king arthur's court\", 0.68392557)]\n"
     ]
    }
   ],
   "source": [
    "title = \"house of cards\"\n",
    "sim = get_most_similar(title, title_vec6k)[1:11]\n",
    "pprint(sim)"
   ]
  },
  {
   "cell_type": "code",
   "execution_count": 82,
   "metadata": {},
   "outputs": [],
   "source": [
    "def sim_title_description(title, dataset):\n",
    "    \"\"\"Return the title description\"\"\"\n",
    "    filt = dataset['title'].str.lower() == title\n",
    "    return dataset.loc[filt]['description'].values.tolist()[0]"
   ]
  },
  {
   "cell_type": "code",
   "execution_count": 131,
   "metadata": {},
   "outputs": [],
   "source": [
    "def dscp_comparison(org, dataset, vec):\n",
    "    \n",
    "    org = org.lower()\n",
    "    org_dscp = dataset.loc[dataset['title'].str.lower() == org]['description'].values.tolist()[0]\n",
    "    print(f\"The input title name is '{org}'\\n\")\n",
    "    print(org_dscp, '\\n')\n",
    "    sim = get_most_similar(org, vec)[1:11]\n",
    "    \n",
    "    for i in range(len(sim)):\n",
    "        title = sim[i][0]\n",
    "        print(f\"The most similiar No.{i+1} is '{title}'\\n\")\n",
    "        print(sim_title_description(title, dataset),'\\n')"
   ]
  },
  {
   "cell_type": "code",
   "execution_count": 91,
   "metadata": {},
   "outputs": [
    {
     "name": "stdout",
     "output_type": "stream",
     "text": [
      "The input title name is 'star wars: the rise of skywalker (episode ix)'\n",
      "\n",
      "Lucasfilm and director J.J. Abrams join forces once more to take viewers on an epic journey to a galaxy far, far away with STAR WARS: THE RISE OF SKYWALKER. Experience the riveting conclusion of the landmark Skywalker saga, in which new legends will be born – and the final battle for freedom is yet to come. Some flashing lights sequences or patterns may affect photosensitive viewers. \n",
      "\n",
      "The most similiar No.1 is 'marvel studios' captain marvel'\n",
      "\n",
      "Marvel Studios’ Captain Marvel takes you on a spectacular adventure from the 1990s, tracing the path of Carol Danvers (Brie Larson) as she becomes one of the most powerful heroes in the universe. When a galactic war reaches Earth, she meets young agent Nick Fury (Samuel L. Jackson) at the center of a maelstrom, leading to her ultimate destiny as an Avenger! Some flashing lights sequences or patterns may affect photosensitive viewers. \n",
      "\n",
      "The most similiar No.2 is 'star wars: the last jedi (episode viii)'\n",
      "\n",
      "In Lucasfilm’s Star Wars: The Last Jedi, the Skywalker saga continues as the heroes of Star Wars: The Force Awakens join the galactic legends in an epic adventure that unlocks new mysteries of the Force and shocking revelations of the past. Some flashing lights sequences or patterns may affect photosensitive viewers. \n",
      "\n",
      "The most similiar No.3 is 'marvel studios' guardians of the galaxy vol. 2'\n",
      "\n",
      "Set to the sonic backdrop of Awesome Mixtape #2, Marvel Studios’ Guardians of the Galaxy Vol. 2 continues the team’s adventures as they traverse the outer reaches of the cosmos. The Guardians must fight to keep their newfound family together as they unravel the mystery of Peter Quill’s true parentage. Old foes become new allies, and characters from the classic comics come to their aid as the Marvel Cinematic Universe continues to expand. Some flashing lights sequences or patterns may affect photosensitive viewers. \n",
      "\n",
      "The most similiar No.4 is 'rogue one: a star wars story'\n",
      "\n",
      "From Lucasfilm comes the first of the Star Wars stand-alone films – Rogue One: A Star Wars Story. In a time of conflict, a group of unlikely heroes band together on a mission to steal the plans to the Death Star, the Empire’s ultimate weapon of destruction. This key event in the Star Wars timeline brings together ordinary people who choose to do extraordinary things, and in doing so, become part of something greater than themselves. Some flashing lights sequences or patterns may affect photosensitive viewers. \n",
      "\n",
      "The most similiar No.5 is 'star wars: the force awakens (episode vii)'\n",
      "\n",
      "Visionary director J.J. Abrams brings to life the motion picture event of a generation. As Kylo Ren and the sinister First Order rise from the ashes of the Empire, Luke Skywalker is missing when the galaxy needs him most. It's up to Rey, a desert scavenger, and Finn, a defecting stormtrooper, to join forces with Han Solo and Chewbacca in a desperate search for the one hope of restoring peace to the galaxy. Some flashing lights sequences or patterns may affect photosensitive viewers. \n",
      "\n",
      "The most similiar No.6 is 'empire of dreams: the story of the star wars trilogy'\n",
      "\n",
      "The story of the making of the Star Wars Trilogy is as epic and dramatic as the films themselves. Go behind the scenes and experience the journey from the earliest versions of the script to the blockbuster debuts of the films that forever changed the face of cinema. In the most comprehensive documentary ever created on the making of the movies, explore the creation of Star Wars, including the trials George Lucas and his team underwent to create a saga few thought could ever be made. \n",
      "\n",
      "The most similiar No.7 is 'the incredibles'\n",
      "\n",
      "From the creative minds behind the Toy Story films and Ratatouille comes this hilarious, action-packed animated adventure about a seemingly ordinary family with an incredible secret. Known to the world as Supers Mr. Incredible and Elastigirl, Bob Parr and his wife Helen were among the world's greatest crime fighters, saving lives and battling evil on a daily basis. Fifteen years later, they have been forced to adopt civilian identities and retreat to the suburbs to live \"normal\" lives with their three kids, Violet, Dash and Jack-Jack. Itching to get back into action, Bob gets his chance when a mysterious communication summons him to a remote island for a top-secret assignment. He soon discovers that it will take a super family effort to rescue the world from total destruction. Contains tobacco depictions. Some flashing lights sequences or patterns may affect photosensitive viewers. \n",
      "\n",
      "The most similiar No.8 is 'sanjay's super team'\n",
      "\n",
      "Sanjay is absorbed in the world of cartoons and comics, while his father tries to draw him into the traditions of his Hindu practice. Tedium and reluctance quickly turn into an awe-inspiring adventure as the boy embarks on a journey he never imagined, returning with a new perspective they can both embrace. Some flashing lights sequences or patterns may affect photosensitive viewers. \n",
      "\n",
      "The most similiar No.9 is 'marvel studios' doctor strange'\n",
      "\n",
      "From Marvel Studios comes the story of world-famous neurosurgeon Dr. Stephen Strange, whose life changes forever after a horrific car accident robs him of the use of his hands. When traditional medicine fails him, he's forced to look for healing, and hope, in a mysterious enclave known as Kamar-Taj. He quickly learns that this is not just a center for healing... it's also the front line of a battle against unseen dark forces bent on destroying our reality. Before long, Strange, armed with newly acquired magical powers, is forced to choose whether to return to his old life or leave it behind to defend the world as the most powerful sorcerer in existence. Some flashing lights sequences or patterns may affect photosensitive viewers. \n",
      "\n",
      "The most similiar No.10 is 'marvel studios' guardians of the galaxy'\n",
      "\n",
      "An action-packed, epic space adventure, Marvel Studios' Guardians of the Galaxy expands the Marvel Cinematic Universe into the cosmos, where brash adventurer Peter Quill finds himself the object of an unrelenting bounty hunt after stealing a mysterious orb coveted by Ronan, a powerful villain with ambitions that threaten the entire universe. To evade the ever-persistent Ronan, Quill is forced into an uneasy truce with a quartet of disparate misfits: Rocket, a gun-toting raccoon; Groot, a tree-like humanoid; the deadly and enigmatic Gamora; and revenge-driven Drax the Destroyer. But when Quill discovers the true power of the orb and the menace it poses to the cosmos, he must do his best to rally his ragtag rivals for a last, desperate stand – with the galaxy’s fate in the balance. Some flashing lights sequences or patterns may affect photosensitive viewers. \n",
      "\n"
     ]
    }
   ],
   "source": [
    "title = \"Star Wars: The Rise of Skywalker (Episode IX)\".lower()\n",
    "dscp_comparison(title, data6k, title_vec6k)"
   ]
  },
  {
   "cell_type": "code",
   "execution_count": 81,
   "metadata": {},
   "outputs": [
    {
     "name": "stdout",
     "output_type": "stream",
     "text": [
      "[(\"marvel studios' captain marvel\", 0.84679013),\n",
      " ('star wars: the last jedi (episode viii)', 0.84489995),\n",
      " (\"marvel studios' guardians of the galaxy vol. 2\", 0.841521),\n",
      " ('rogue one: a star wars story', 0.83434486),\n",
      " ('star wars: the force awakens (episode vii)', 0.83128947),\n",
      " ('empire of dreams: the story of the star wars trilogy', 0.82583207),\n",
      " ('the incredibles', 0.8181932),\n",
      " (\"sanjay's super team\", 0.81763077),\n",
      " (\"marvel studios' doctor strange\", 0.81403),\n",
      " (\"marvel studios' guardians of the galaxy\", 0.8101623)]\n"
     ]
    }
   ],
   "source": [
    "title = (\"Star Wars: The Rise of Skywalker (Episode IX)\").lower()\n",
    "sim = get_most_similar(title, title_vec6k)[1:11]\n",
    "pprint(sim)"
   ]
  },
  {
   "cell_type": "markdown",
   "metadata": {},
   "source": [
    "### 看起來迪士尼電影的預測蠻準的"
   ]
  },
  {
   "cell_type": "markdown",
   "metadata": {},
   "source": [
    "現在來試試看把genres也加進去會如何"
   ]
  },
  {
   "cell_type": "code",
   "execution_count": 114,
   "metadata": {},
   "outputs": [],
   "source": [
    "corpus6k_everything = data6k.everything.values.tolist() #list of docs\n",
    "token_corpus6k_eve = [tokenise(doc) for doc in corpus6k_everything]\n",
    "title_text_eve = dict(zip(data6k['title'].str.lower().tolist(), token_corpus6k_eve))\n",
    "# lower the title (easy for search)"
   ]
  },
  {
   "cell_type": "code",
   "execution_count": 117,
   "metadata": {},
   "outputs": [],
   "source": [
    "title_vec6k_eve = get_vectors(title_text_eve, w2v)"
   ]
  },
  {
   "cell_type": "code",
   "execution_count": 118,
   "metadata": {},
   "outputs": [
    {
     "name": "stdout",
     "output_type": "stream",
     "text": [
      "[('star wars: the last jedi (episode viii)', 0.8995548),\n",
      " ('star wars: the force awakens (episode vii)', 0.88572097),\n",
      " (\"marvel studios' captain marvel\", 0.8731832),\n",
      " (\"marvel studios' guardians of the galaxy vol. 2\", 0.86643857),\n",
      " ('rogue one: a star wars story', 0.863647),\n",
      " ('the adventures of huck finn', 0.84977454),\n",
      " ('20,000 leagues under the sea', 0.84927744),\n",
      " ('empire of dreams: the story of the star wars trilogy', 0.84775823),\n",
      " ('the incredibles', 0.84645766),\n",
      " ('one strange rock', 0.8462903)]\n"
     ]
    }
   ],
   "source": [
    "title = (\"Star Wars: The Rise of Skywalker (Episode IX)\").lower()\n",
    "sim = get_most_similar(title, title_vec6k_eve)[1:11]\n",
    "pprint(sim)"
   ]
  },
  {
   "cell_type": "code",
   "execution_count": 119,
   "metadata": {},
   "outputs": [
    {
     "name": "stdout",
     "output_type": "stream",
     "text": [
      "[('american horror story', 0.9274517),\n",
      " ('black mirror', 0.9248233),\n",
      " ('love, death & robots', 0.92430514),\n",
      " ('creeped out', 0.92122513),\n",
      " ('twin peaks', 0.9199591),\n",
      " ('waco', 0.91844386),\n",
      " ('arthur christmas', 0.9175664),\n",
      " (\"dolly parton's heartstrings\", 0.9167512),\n",
      " ('wet hot american summer', 0.9163462),\n",
      " ('walt disney animation studios short films collection', 0.91417134)]\n"
     ]
    }
   ],
   "source": [
    "title = (\"house of cards\").lower()\n",
    "sim = get_most_similar(title, title_vec6k_eve)[1:11]\n",
    "pprint(sim)"
   ]
  },
  {
   "cell_type": "code",
   "execution_count": 120,
   "metadata": {},
   "outputs": [
    {
     "name": "stdout",
     "output_type": "stream",
     "text": [
      "[('durarara!!', 0.8925926),\n",
      " ('granblue fantasy the animation', 0.8924352),\n",
      " ('b: the beginning', 0.88769287),\n",
      " ('magi: adventure of sinbad', 0.8874479),\n",
      " ('magi: the labyrinth of magic', 0.88565147),\n",
      " ('k', 0.88212115),\n",
      " ('lost song', 0.88210416),\n",
      " ('angel beats!', 0.8809499),\n",
      " ('cannon busters', 0.87996674),\n",
      " ('attack on titan', 0.87947)]\n"
     ]
    }
   ],
   "source": [
    "title = (\"ONE PIECE\").lower()\n",
    "sim = get_most_similar(title, title_vec6k_eve)[1:11]\n",
    "pprint(sim)"
   ]
  },
  {
   "cell_type": "code",
   "execution_count": 121,
   "metadata": {},
   "outputs": [
    {
     "name": "stdout",
     "output_type": "stream",
     "text": [
      "[('moving art', 0.8199095),\n",
      " ('secrets of life', 0.813776),\n",
      " ('secrets of wild india', 0.8125536),\n",
      " ('the universe: ancient mysteries solved', 0.8084961),\n",
      " ('disneynature crimson wing', 0.8030727),\n",
      " ('72 cutest animals', 0.79790276),\n",
      " ('earth live', 0.7972078),\n",
      " ('giants of the deep blue', 0.7957635),\n",
      " ('hostile planet', 0.79496723),\n",
      " ('sacred planet', 0.79335016)]\n"
     ]
    }
   ],
   "source": [
    "title = (\"our planet\").lower()\n",
    "sim = get_most_similar(title, title_vec6k_eve)[1:11]\n",
    "pprint(sim)"
   ]
  },
  {
   "cell_type": "code",
   "execution_count": 122,
   "metadata": {},
   "outputs": [
    {
     "name": "stdout",
     "output_type": "stream",
     "text": [
      "[('marvel rising: playing with fire', 0.83469415),\n",
      " ('the dragon prince', 0.83441544),\n",
      " ('bakugan: battle planet', 0.8274182),\n",
      " ('the last airbender', 0.8255279),\n",
      " ('neo yokio', 0.82417274),\n",
      " ('dreamworks kung fu panda awesome secrets', 0.8228989),\n",
      " ('another life', 0.81867677),\n",
      " ('the shannara chronicles', 0.8174548),\n",
      " ('the i-land', 0.81607234),\n",
      " ('3below: tales of arcadia', 0.8159124)]\n"
     ]
    }
   ],
   "source": [
    "title = (\"Avatar: The Last Airbender\").lower()\n",
    "sim = get_most_similar(title, title_vec6k_eve)[1:11]\n",
    "pprint(sim)"
   ]
  },
  {
   "cell_type": "code",
   "execution_count": 123,
   "metadata": {},
   "outputs": [
    {
     "name": "stdout",
     "output_type": "stream",
     "text": [
      "[('k', 0.9238441),\n",
      " ('the disastrous life of saiki k.', 0.9106667),\n",
      " ('ajin: demi-human', 0.90990305),\n",
      " ('durarara!!', 0.9078226),\n",
      " ('carole & tuesday', 0.9075865),\n",
      " ('akame ga kill!', 0.90647966),\n",
      " ('magi: adventure of sinbad', 0.904791),\n",
      " ('good morning call', 0.90460104),\n",
      " ('children of the whales', 0.90279055),\n",
      " ('the naked director', 0.90253824)]\n"
     ]
    }
   ],
   "source": [
    "title = (\"One-punch man\").lower()\n",
    "sim = get_most_similar(title, title_vec6k_eve)[1:11]\n",
    "pprint(sim)"
   ]
  },
  {
   "cell_type": "code",
   "execution_count": 124,
   "metadata": {},
   "outputs": [
    {
     "name": "stdout",
     "output_type": "stream",
     "text": [
      "[('greatest events of wwii in colour', 0.8905311),\n",
      " ('churchill’s secret agents: the new recruits', 0.81478024),\n",
      " ('age of tanks', 0.80853164),\n",
      " ('los tiempos de pablo escobar', 0.79139763),\n",
      " ('the royal house of windsor', 0.78380305),\n",
      " ('timeline', 0.77948886),\n",
      " ('club friday the series 8', 0.77656305),\n",
      " ('james acaster: repertoire', 0.7763171),\n",
      " ('secrets of great british castles', 0.7762208),\n",
      " ('murder maps', 0.7740204)]\n"
     ]
    }
   ],
   "source": [
    "title = (\"world war II in colour\").lower()\n",
    "sim = get_most_similar(title, title_vec6k_eve)[1:11]\n",
    "pprint(sim)"
   ]
  },
  {
   "cell_type": "code",
   "execution_count": 132,
   "metadata": {},
   "outputs": [
    {
     "name": "stdout",
     "output_type": "stream",
     "text": [
      "The input title name is 'chef's table'\n",
      "\n",
      "In this Emmy-nominated docuseries, find out what's inside the kitchens and minds of the international culinary stars who are redefining gourmet food. \n",
      "\n",
      "The most similiar No.1 is 'the big family cooking showdown'\n",
      "\n",
      "In this unscripted series, families passionate about food serve up their most delicious dishes for the chance to be crowned Britain's best home cooks. \n",
      "\n",
      "The most similiar No.2 is 'the chefs' line'\n",
      "\n",
      "Home cooks face off against trained chefs to see if passion can beat profession in the kitchen in this reality competition show. \n",
      "\n",
      "The most similiar No.3 is 'taco chronicles'\n",
      "\n",
      "Many of the most popular taco styles have long, rich, little-known histories. Explore some of them in this eye-opening, mouth-watering food adventure. \n",
      "\n",
      "The most similiar No.4 is 'cooking on high'\n",
      "\n",
      "In the first-ever competitive cannabis cooking show, two chefs prepare mouthwatering marijuana-infused dishes for a panel of very chill celeb judges. \n",
      "\n",
      "The most similiar No.5 is 'yummy mummies'\n",
      "\n",
      "It's drama Down Under when expectant mothers with model good looks and lavish lifestyles pull out all the stops to prepare for their new arrivals. \n",
      "\n",
      "The most similiar No.6 is 'interior design masters'\n",
      "\n",
      "Aspiring interior designers transform a variety of spaces from dowdy to delightful as they vie for a life-changing contract with a top London hotel. \n",
      "\n",
      "The most similiar No.7 is 'westside'\n",
      "\n",
      "Nine struggling musicians share the spotlight in this deeply personal reality series about the challenges and thrills of staging a Hollywood showcase. \n",
      "\n",
      "The most similiar No.8 is 'million pound menu'\n",
      "\n",
      "Next-gen restaurateurs get the chance to open their own pop-up eateries to impress the paying public – and a panel of discerning U.K. investors. \n",
      "\n",
      "The most similiar No.9 is 'the great british baking show: masterclass'\n",
      "\n",
      "Hosts Mary Berry and Paul Hollywood leave the tent and go into the kitchen to put their professional spin on baking techniques used in the show. \n",
      "\n",
      "The most similiar No.10 is 'glow up'\n",
      "\n",
      "In this competition show, aspiring makeup artists navigate colorful challenges to win a career-making opportunity in the beauty industry. \n",
      "\n",
      "None\n"
     ]
    }
   ],
   "source": [
    "title = (\"chef's table\").lower()\n",
    "print(dscp_comparison(title, data6k, title_vec6k_eve))"
   ]
  },
  {
   "cell_type": "markdown",
   "metadata": {},
   "source": [
    "# 如果用Netflix all-info 會如何？"
   ]
  },
  {
   "cell_type": "code",
   "execution_count": 137,
   "metadata": {},
   "outputs": [
    {
     "data": {
      "text/plain": [
       "Index(['title', 'type', 'release_year', 'rating', 'runtime', 'description',\n",
       "       'genres', 'cast', 'director', 'country', 'imdb_link', 'date_added',\n",
       "       'rating_value', 'votes'],\n",
       "      dtype='object')"
      ]
     },
     "execution_count": 137,
     "metadata": {},
     "output_type": "execute_result"
    }
   ],
   "source": [
    "net_originals.columns"
   ]
  },
  {
   "cell_type": "code",
   "execution_count": 142,
   "metadata": {},
   "outputs": [],
   "source": [
    "ls = list()\n",
    "for ix in range(net_originals.shape[0]):\n",
    "    content = list()\n",
    "    for e in net_originals.iloc[ix,5:9]:\n",
    "        content.append(str(e))\n",
    "    s = ','.join(content)\n",
    "    ls.append(s)\n",
    "    \n",
    "net_originals['everything'] = ls"
   ]
  },
  {
   "cell_type": "code",
   "execution_count": 144,
   "metadata": {},
   "outputs": [],
   "source": [
    "corpus_netall= net_originals.everything.values.tolist() #list of docs\n",
    "token_corpus_netall = [tokenise(doc) for doc in corpus_netall]\n",
    "title_text_netall = dict(zip(net_originals['title'].str.lower().tolist(), token_corpus_netall))\n",
    "# lower the title (easy for search)"
   ]
  },
  {
   "cell_type": "code",
   "execution_count": 145,
   "metadata": {},
   "outputs": [],
   "source": [
    "title_vec6k_netall = get_vectors(title_text_netall, w2v)"
   ]
  },
  {
   "cell_type": "code",
   "execution_count": 147,
   "metadata": {},
   "outputs": [
    {
     "name": "stdout",
     "output_type": "stream",
     "text": [
      "[(\"marvel's the defenders\", 0.9201804),\n",
      " ('skylanders academy', 0.90434873),\n",
      " ('love, death & robots', 0.9031284),\n",
      " ('the dark crystal: age of resistance', 0.8954758),\n",
      " ('kulipari: dream walker', 0.89274454),\n",
      " ('watership down', 0.8926588),\n",
      " ('trollhunters', 0.88995475),\n",
      " ('peaky blinders', 0.8897299),\n",
      " (\"marvel's the punisher\", 0.88698035),\n",
      " (\"michael bolton's big, sexy valentine's day special\", 0.885046)]\n"
     ]
    }
   ],
   "source": [
    "title = (\"marvel's daredevil\").lower()\n",
    "sim = get_most_similar(title, title_vec6k_netall)[1:11]\n",
    "pprint(sim)"
   ]
  },
  {
   "cell_type": "code",
   "execution_count": 148,
   "metadata": {},
   "outputs": [
    {
     "name": "stdout",
     "output_type": "stream",
     "text": [
      "The input title name is 'marvel's daredevil'\n",
      "\n",
      "Blinded as a young boy, Matt Murdock fights injustice by day as a lawyer and by night as the Super Hero Daredevil in Hell's Kitchen, New York City. \n",
      "\n",
      "The most similiar No.1 is 'marvel's the defenders'\n",
      "\n",
      "Daredevil, Jessica Jones, Luke Cage and Iron Fist join forces to take on common enemies as a sinister conspiracy threatens New York City. \n",
      "\n",
      "The most similiar No.2 is 'skylanders academy'\n",
      "\n",
      "Travel the vast Skylander universe in this animated series as a ragtag group of academy graduates build trust and heart in their fight against evil. \n",
      "\n",
      "The most similiar No.3 is 'love, death & robots'\n",
      "\n",
      "Terrifying creatures, wicked surprises and dark comedy converge in this NSFW anthology of animated stories presented by Tim Miller and David Fincher. \n",
      "\n",
      "The most similiar No.4 is 'the dark crystal: age of resistance'\n",
      "\n",
      "As power-hungry overlords drain life from the planet Thra, a group of brave Gelfling unite on a quest to save their world and fight off the darkness. \n",
      "\n",
      "The most similiar No.5 is 'kulipari: dream walker'\n",
      "\n",
      "Now the Blue Sky King, Darel must lead a rescue mission to save a Dream Walker – leaving the village under the protection of the Kulipari youth. \n",
      "\n",
      "The most similiar No.6 is 'watership down'\n",
      "\n",
      "A warren of rabbits battles many threats on their daring journey to find a new home in this adaptation of the classic novel by Richard Adams. \n",
      "\n",
      "The most similiar No.7 is 'trollhunters'\n",
      "\n",
      "After uncovering a mysterious amulet, an average teen assumes an unlikely destiny and sets out to save two worlds. Created by Guillermo del Toro. \n",
      "\n",
      "The most similiar No.8 is 'peaky blinders'\n",
      "\n",
      "A notorious gang in 1919 Birmingham, England, is led by the fierce Tommy Shelby, a crime boss set on moving up in the world no matter the cost. \n",
      "\n",
      "The most similiar No.9 is 'marvel's the punisher'\n",
      "\n",
      "A former Marine out to punish the criminals responsible for his family's murder finds himself ensnared in a military conspiracy. \n",
      "\n",
      "The most similiar No.10 is 'michael bolton's big, sexy valentine's day special'\n",
      "\n",
      "After Santa tells him he needs 75,000 new babies by Christmas to meet toy supply, Michael Bolton hosts a telethon to inspire the world to make love. \n",
      "\n",
      "None\n"
     ]
    }
   ],
   "source": [
    "title = (\"marvel's daredevil\").lower()\n",
    "print(dscp_comparison(title, data6k, title_vec6k_netall))"
   ]
  },
  {
   "cell_type": "markdown",
   "metadata": {},
   "source": [
    "# Test out wikipedia"
   ]
  },
  {
   "cell_type": "code",
   "execution_count": 149,
   "metadata": {},
   "outputs": [],
   "source": [
    "import wikipedia"
   ]
  },
  {
   "cell_type": "markdown",
   "metadata": {},
   "source": [
    "Not good at all Don't use"
   ]
  },
  {
   "cell_type": "markdown",
   "metadata": {},
   "source": [
    "# Display scatterplot"
   ]
  },
  {
   "cell_type": "code",
   "execution_count": 111,
   "metadata": {},
   "outputs": [],
   "source": [
    "import matplotlib.pyplot as plt\n",
    "plt.style.use('ggplot')\n",
    "from sklearn.decomposition import PCA\n",
    "\n",
    "\n",
    "def display_pca_scatterplot(titles, vec):\n",
    "    \n",
    "    title_vectors = np.array([vec[title] for title in titles])\n",
    "    twodim = PCA().fit_transform(title_vectors)[:,:2]\n",
    "    plt.figure(figsize=(12,12))\n",
    "    plt.scatter(twodim[:,0], twodim[:,1], edgecolors='k', c='r')\n",
    "    for title, (x,y) in zip(titles, twodim):\n",
    "        plt.text(x+0.05, y+0.05, title)"
   ]
  },
  {
   "cell_type": "code",
   "execution_count": 104,
   "metadata": {},
   "outputs": [],
   "source": [
    "titles = np.random.choice(data6k['title'].values, size = 10).tolist()\n",
    "titles = [title.lower() for title in titles]"
   ]
  },
  {
   "cell_type": "code",
   "execution_count": null,
   "metadata": {},
   "outputs": [],
   "source": []
  },
  {
   "cell_type": "code",
   "execution_count": 112,
   "metadata": {},
   "outputs": [
    {
     "data": {
      "image/png": "[encoded data removed]",
      "text/plain": [
       "<Figure size 864x864 with 1 Axes>"
      ]
     },
     "metadata": {},
     "output_type": "display_data"
    }
   ],
   "source": [
    "display_pca_scatterplot(titles, title_vec6k)"
   ]
  },
  {
   "cell_type": "code",
   "execution_count": null,
   "metadata": {},
   "outputs": [],
   "source": []
  }
 ],
 "metadata": {
  "kernelspec": {
   "display_name": "Python 3",
   "language": "python",
   "name": "python3"
  },
  "language_info": {
   "codemirror_mode": {
    "name": "ipython",
    "version": 3
   },
   "file_extension": ".py",
   "mimetype": "text/x-python",
   "name": "python",
   "nbconvert_exporter": "python",
   "pygments_lexer": "ipython3",
   "version": "3.8.3"
  }
 },
 "nbformat": 4,
 "nbformat_minor": 4
}
