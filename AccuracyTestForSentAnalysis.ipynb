{
 "cells": [
  {
   "cell_type": "code",
   "execution_count": 3,
   "metadata": {},
   "outputs": [],
   "source": [
    "from textblob import TextBlob\n",
    "import os\n",
    "from nltk.corpus import stopwords\n",
    "import re\n",
    "\n",
    "SPECIAL_CHARS = '[^A-Za-z0-9 ]+'\n",
    "STOP_WORDS = stopwords.words('english')\n"
   ]
  },
  {
   "cell_type": "code",
   "execution_count": 4,
   "metadata": {},
   "outputs": [],
   "source": [
    "def preprocess_text(text):\n",
    "    \"\"\"\n",
    "    Take out stopwords.\n",
    "    Take out punctuations and special characters.\n",
    "    \"\"\"\n",
    "    SPECIAL_CHARS = '[^A-Za-z0-9 ]+'\n",
    "    STOP_WORDS = stopwords.words('english')\n",
    "    text = text.lower().split(' ')\n",
    "    temp = [word for word in text if word not in STOP_WORDS]\n",
    "    text = ' '.join(temp)\n",
    "    text = re.sub(SPECIAL_CHARS, '', text)\n",
    "    text = [w for w in text.split(' ') if w not in ['im','dont','cant','wont','shouldnt','couldnt','wouldnt']]\n",
    "    return_text = ' '.join(text)\n",
    "    return return_text"
   ]
  },
  {
   "cell_type": "code",
   "execution_count": 5,
   "metadata": {},
   "outputs": [],
   "source": [
    "pos_path = \"aclImdb/test/pos/\"\n",
    "neg_path = \"aclImdb/test/neg/\"\n",
    "train_pos_path = \"aclImdb/train/pos/\"\n",
    "train_neg_path = \"aclImdb/train/neg/\""
   ]
  },
  {
   "cell_type": "code",
   "execution_count": 6,
   "metadata": {},
   "outputs": [],
   "source": [
    "listOfPos = os.listdir(pos_path)\n",
    "listOfPos.remove('.ipynb_checkpoints')\n",
    "listOfNeg = os.listdir(neg_path)\n",
    "train_listOfPos = os.listdir(train_pos_path)\n",
    "train_listOfNeg = os.listdir(train_neg_path)"
   ]
  },
  {
   "cell_type": "code",
   "execution_count": 114,
   "metadata": {},
   "outputs": [],
   "source": [
    "sep = 0"
   ]
  },
  {
   "cell_type": "code",
   "execution_count": 104,
   "metadata": {},
   "outputs": [],
   "source": [
    "pos_count = 0\n",
    "pos_neuCount = 0\n",
    "pos_negCount = 0\n",
    "\n",
    "for f in listOfPos:\n",
    "    path = pos_path + f\n",
    "    with open (path, 'r')as file:\n",
    "        texts = file.readline()\n",
    "        tb = TextBlob(preprocess_text(texts))\n",
    "        if tb.sentiment[0] > sep:\n",
    "            pos_count += 1\n",
    "        elif sep < tb.sentiment[0] < sep:\n",
    "            pos_neuCount += 1\n",
    "        else:\n",
    "            pos_negCount += 1"
   ]
  },
  {
   "cell_type": "code",
   "execution_count": 105,
   "metadata": {},
   "outputs": [
    {
     "name": "stdout",
     "output_type": "stream",
     "text": [
      "9503 0 2997\n"
     ]
    }
   ],
   "source": [
    "print(pos_count, pos_neuCount, pos_negCount)"
   ]
  },
  {
   "cell_type": "code",
   "execution_count": 115,
   "metadata": {},
   "outputs": [],
   "source": [
    "neg_count = 0\n",
    "neg_neuCount = 0\n",
    "neg_posCount = 0\n",
    "\n",
    "for f in listOfNeg:\n",
    "    path = neg_path + f\n",
    "    with open (path, 'r')as file:\n",
    "        texts = file.readline()\n",
    "        tb = TextBlob(preprocess_text(texts))\n",
    "        if tb.sentiment[0] < -sep:\n",
    "            neg_count += 1\n",
    "        elif -sep < tb.sentiment[0] < sep:\n",
    "            neg_neuCount += 1\n",
    "        else:\n",
    "            neg_posCount += 1"
   ]
  },
  {
   "cell_type": "code",
   "execution_count": 116,
   "metadata": {},
   "outputs": [
    {
     "name": "stdout",
     "output_type": "stream",
     "text": [
      "5848 0 6652\n"
     ]
    }
   ],
   "source": [
    "print(neg_count, neg_neuCount, neg_posCount)"
   ]
  },
  {
   "cell_type": "code",
   "execution_count": 117,
   "metadata": {},
   "outputs": [
    {
     "data": {
      "text/plain": [
       "0.46784"
      ]
     },
     "execution_count": 117,
     "metadata": {},
     "output_type": "execute_result"
    }
   ],
   "source": [
    "5848/12500"
   ]
  },
  {
   "cell_type": "code",
   "execution_count": 108,
   "metadata": {},
   "outputs": [],
   "source": [
    "train_pos_count = 0\n",
    "train_pos_neuCount = 0\n",
    "train_pos_negCount = 0\n",
    "sep = 0.1\n",
    "for f in train_listOfPos:\n",
    "    path = train_pos_path + f\n",
    "    with open (path, 'r')as file:\n",
    "        texts = file.readline()\n",
    "        tb = TextBlob(preprocess_text(texts))\n",
    "        if tb.sentiment[0] > sep:\n",
    "            train_pos_count += 1\n",
    "        elif sep < tb.sentiment[0] < sep:\n",
    "            train_pos_neuCount += 1\n",
    "        else:\n",
    "            train_pos_negCount += 1"
   ]
  },
  {
   "cell_type": "code",
   "execution_count": 109,
   "metadata": {},
   "outputs": [
    {
     "name": "stdout",
     "output_type": "stream",
     "text": [
      "9467 0 3033\n"
     ]
    }
   ],
   "source": [
    "print(train_pos_count, train_pos_neuCount, train_pos_negCount)"
   ]
  },
  {
   "cell_type": "code",
   "execution_count": 118,
   "metadata": {},
   "outputs": [],
   "source": [
    "train_neg_count = 0\n",
    "train_neg_neuCount = 0\n",
    "train_neg_posCount = 0\n",
    "\n",
    "for f in train_listOfNeg:\n",
    "    path = train_neg_path + f\n",
    "    with open (path, 'r')as file:\n",
    "        texts = file.readline()\n",
    "        tb = TextBlob(preprocess_text(texts))\n",
    "        if tb.sentiment[0] < -sep:\n",
    "            train_neg_count += 1\n",
    "        elif -sep < tb.sentiment[0] < sep:\n",
    "            train_neg_neuCount += 1\n",
    "        else:\n",
    "            train_neg_posCount += 1"
   ]
  },
  {
   "cell_type": "code",
   "execution_count": 119,
   "metadata": {},
   "outputs": [
    {
     "name": "stdout",
     "output_type": "stream",
     "text": [
      "5759 0 6741\n"
     ]
    }
   ],
   "source": [
    "print(train_neg_count, train_neg_neuCount, train_neg_posCount)"
   ]
  },
  {
   "cell_type": "code",
   "execution_count": 112,
   "metadata": {},
   "outputs": [],
   "source": [
    "ttl_neg = 25000 - (neg_neuCount + train_neg_neuCount)\n",
    "negAccuracy = (neg_count + train_neg_count) / 25000"
   ]
  },
  {
   "cell_type": "code",
   "execution_count": 113,
   "metadata": {},
   "outputs": [
    {
     "data": {
      "text/plain": [
       "0.21188"
      ]
     },
     "execution_count": 113,
     "metadata": {},
     "output_type": "execute_result"
    }
   ],
   "source": [
    "negAccuracy"
   ]
  },
  {
   "cell_type": "code",
   "execution_count": 96,
   "metadata": {},
   "outputs": [],
   "source": [
    "ttl_pos = 25000 - (pos_neuCount + train_pos_neuCount)\n",
    "posAccuracy = (pos_count + train_pos_count) / ttl_pos"
   ]
  },
  {
   "cell_type": "code",
   "execution_count": 97,
   "metadata": {},
   "outputs": [
    {
     "data": {
      "text/plain": [
       "0.48508"
      ]
     },
     "execution_count": 97,
     "metadata": {},
     "output_type": "execute_result"
    }
   ],
   "source": [
    "posAccuracy"
   ]
  },
  {
   "cell_type": "code",
   "execution_count": null,
   "metadata": {},
   "outputs": [],
   "source": [
    "from textblob import TextBlob \n",
    "from textblob.classifiers import NaiveBayesClassifier \n",
    "train = [ \n",
    "     ('I love this sandwich.', 'pos'), \n",
    "     ('This is an amazing place!', 'pos'), \n",
    "     ('I feel very good about these beers.', 'pos'), \n",
    "     ('I do not like this restaurant', 'neg'), \n",
    "     ('I am tired of this stuff.', 'neg'), \n",
    "     (\"I can't deal with this\", 'neg'), \n",
    "     (\"My boss is horrible.\", \"neg\") \n",
    "] \n",
    "cl = NaiveBayesClassifier(train) \n",
    "cl.classify(\"I feel amazing!\") \n",
    "blob = TextBlob(\"The beer is good. But the hangover is horrible.\", classifier=cl) \n",
    "for s in blob.sentences: \n",
    "    print(s) \n",
    "    print(s.classify())"
   ]
  },
  {
   "cell_type": "code",
   "execution_count": 7,
   "metadata": {},
   "outputs": [],
   "source": [
    "train_pos = list()\n",
    "\n",
    "for f in train_listOfPos:\n",
    "    with open(train_pos_path + f) as file:\n",
    "        texts = preprocess_text(file.readline())\n",
    "        train_pos.append(tuple((texts,'pos')))\n",
    "        \n",
    "train_neg = list()\n",
    "for f in train_listOfNeg:\n",
    "    with open(train_neg_path + f) as file:\n",
    "        texts = preprocess_text(file.readline())\n",
    "        train_neg.append(tuple((texts,'neg')))"
   ]
  },
  {
   "cell_type": "code",
   "execution_count": null,
   "metadata": {},
   "outputs": [],
   "source": [
    "from textblob.classifiers import NaiveBayesClassifier \n",
    "\n",
    "train_data = train_pos + train_neg\n",
    "cl = NaiveBayesClassifier(train_data) \n"
   ]
  },
  {
   "cell_type": "code",
   "execution_count": null,
   "metadata": {},
   "outputs": [],
   "source": [
    "blob = TextBlob(\"The beer is good. But the hangover is horrible.\", classifier=cl) \n",
    "for s in blob.sentences: \n",
    "    print(s) \n",
    "    print(s.classify())"
   ]
  }
 ],
 "metadata": {
  "kernelspec": {
   "display_name": "Python 3",
   "language": "python",
   "name": "python3"
  },
  "language_info": {
   "codemirror_mode": {
    "name": "ipython",
    "version": 3
   },
   "file_extension": ".py",
   "mimetype": "text/x-python",
   "name": "python",
   "nbconvert_exporter": "python",
   "pygments_lexer": "ipython3",
   "version": "3.8.3"
  }
 },
 "nbformat": 4,
 "nbformat_minor": 4
}
