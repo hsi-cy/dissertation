{
 "cells": [
  {
   "cell_type": "code",
   "execution_count": 65,
   "metadata": {},
   "outputs": [],
   "source": [
    "import re\n",
    "from pprint import pprint\n",
    "\n",
    "import matplotlib.pyplot as plt\n",
    "import nltk\n",
    "import numpy as np\n",
    "import pandas as pd\n",
    "import seaborn as sns\n",
    "import spacy\n",
    "from gensim.models import KeyedVectors, Word2Vec\n",
    "from nltk.corpus import stopwords\n",
    "from sklearn.cluster import KMeans\n",
    "from sklearn.decomposition import PCA\n",
    "from sklearn.metrics.pairwise import cosine_similarity\n",
    "\n",
    "\n",
    "pd.set_option('display.max_colwidth', None)\n",
    "SPECIAL_CHARS = '[^A-Za-z0-9 ]+'\n",
    "STOP_WORDS = stopwords.words('english')"
   ]
  },
  {
   "cell_type": "markdown",
   "metadata": {},
   "source": [
    "# 2. Functions"
   ]
  },
  {
   "cell_type": "code",
   "execution_count": 2,
   "metadata": {},
   "outputs": [],
   "source": [
    "def preprocess_text(text):\n",
    "    \"\"\"\n",
    "    Take out stopwords.\n",
    "    Take out punctuations and special characters.\n",
    "    \"\"\"\n",
    "    SPECIAL_CHARS = '[^A-Za-z0-9 ]+'\n",
    "    STOP_WORDS = stopwords.words('english')\n",
    "    text = text.lower().split(' ')\n",
    "    temp = [word for word in text if word not in STOP_WORDS]\n",
    "    text = ' '.join(temp)\n",
    "    text = re.sub(SPECIAL_CHARS, '', text)\n",
    "    return text"
   ]
  },
  {
   "cell_type": "code",
   "execution_count": 3,
   "metadata": {},
   "outputs": [],
   "source": [
    "def tokenise(doc):\n",
    "    return [token.text for token in nlp(doc)]"
   ]
  },
  {
   "cell_type": "code",
   "execution_count": 4,
   "metadata": {},
   "outputs": [],
   "source": [
    "def tokenise_lemma(doc):\n",
    "    \"\"\"\n",
    "    Use spacy as the nlp object to tokenise each doc\n",
    "    Lemmatise each words\n",
    "    \"\"\"\n",
    "    return ' '.join([token.lemma_ for token in nlp(doc)])"
   ]
  },
  {
   "cell_type": "code",
   "execution_count": 5,
   "metadata": {},
   "outputs": [],
   "source": [
    "# this is one way to get each title's vector representation\n",
    "# more investagtion is needed later.\n",
    "\n",
    "def get_vectors(first_map, second_map):\n",
    "    \"\"\"\n",
    "    Use tokenised words to get vectors representations from the pretrained model (i.e. second_map).\n",
    "    Average the vector representation of the description as the representation of the document \n",
    "    (i.e. each movie title's representation is the mean of vectors of each words in its description)\n",
    "    \"\"\"\n",
    "    first_vec  = dict()\n",
    "    for title, description in first_map.items():\n",
    "        temp = list()\n",
    "        for element in description: #element = tokenised words\n",
    "            try:\n",
    "                temp.append(second_map[element]) #secondmap is w2v model which should have a responding word vecotr for the tokenise word\n",
    "            except KeyError:\n",
    "                pass\n",
    "        first_vec[title] = np.mean(temp, axis=0)\n",
    "    \n",
    "    return first_vec"
   ]
  },
  {
   "cell_type": "code",
   "execution_count": 36,
   "metadata": {},
   "outputs": [],
   "source": [
    "def search(name, df):\n",
    "    return df.loc[df['title'].str.lower()==name.lower()]"
   ]
  },
  {
   "cell_type": "code",
   "execution_count": 42,
   "metadata": {},
   "outputs": [],
   "source": [
    "def get_topN_similar(lookup_id, title_vec, df, N=10):\n",
    "\n",
    "    sim = list()\n",
    "    lookup_map = title_vec\n",
    "    subject_map = title_vec \n",
    "        \n",
    "    for uid, vec in lookup_map.items():\n",
    "        thisSim = cosine_similarity(vec.reshape(1, -1), subject_map[lookup_id].reshape(1, -1))\n",
    "        org = search(uid, df).originals.values\n",
    "        gen = search(uid, df).genres.values\n",
    "        sim.append((uid, thisSim[0][0], org, gen))\n",
    "    sim = sorted(sim, key=lambda x: x[1], reverse=True)[:N+1]\n",
    "    returnDf = pd.DataFrame(columns=['title','similarity','originals','genres'],\n",
    "                           data = sim)\n",
    "    return returnDf"
   ]
  },
  {
   "cell_type": "code",
   "execution_count": 37,
   "metadata": {},
   "outputs": [],
   "source": [
    "def get_most_similar(lookup_id, title_vec, df):\n",
    "\n",
    "    sim = list()\n",
    "    lookup_map = title_vec\n",
    "    subject_map = title_vec \n",
    "        \n",
    "    for uid, vec in lookup_map.items():\n",
    "        thisSim = cosine_similarity(vec.reshape(1, -1), subject_map[lookup_id].reshape(1, -1))\n",
    "        org = search(uid, df).originals.values\n",
    "        gen = search(uid, df).genres.values\n",
    "        sim.append((uid, thisSim[0][0], org, gen))\n",
    "\n",
    "    return sorted(sim, key=lambda x: x[1], reverse=True)"
   ]
  },
  {
   "cell_type": "code",
   "execution_count": 7,
   "metadata": {},
   "outputs": [],
   "source": [
    "def filter_df(keyword):\n",
    "    \"\"\"\n",
    "    Return a dataframe with the filtered result.\n",
    "    The input value is case-insensitive. \n",
    "    \"\"\"\n",
    "    if type(keyword) == list:\n",
    "        return netflixDf.loc[netflixDf['title'].isin(keyword)]\n",
    "    else:\n",
    "        return netflixDf.loc[netflixDf['title'].str.lower().isin([keyword.lower()])]"
   ]
  },
  {
   "cell_type": "code",
   "execution_count": 8,
   "metadata": {},
   "outputs": [],
   "source": [
    "def markerX(key, values):\n",
    "    return netflixDf.loc[netflixDf[key].str.lower().isin(values)].sort_values(by='pca_2', ascending=False)\n",
    "\n",
    "def others(key, values):\n",
    "    return netflixDf.loc[~netflixDf[key].str.lower().isin(values)]"
   ]
  },
  {
   "cell_type": "markdown",
   "metadata": {},
   "source": [
    "# 3. Analyse Pipeline"
   ]
  },
  {
   "cell_type": "markdown",
   "metadata": {},
   "source": [
    "## Terms explained\n",
    "Document -> a bunch of texts <br>\n",
    "Corpus -> a bunch of documents <br>\n",
    "Vectors -> a mathematically convenience representation of a document (a bunch of textx) <br>\n",
    "Models -> an algorithm for transforming vectors from one representation to another <br>"
   ]
  },
  {
   "cell_type": "markdown",
   "metadata": {},
   "source": [
    "## Read the dataset/ Load the spacy pretrained model"
   ]
  },
  {
   "cell_type": "code",
   "execution_count": 9,
   "metadata": {},
   "outputs": [],
   "source": [
    "netflixDf = pd.read_csv('finalDataset_v2.csv', usecols=['title','type','description','genres','originals'])"
   ]
  },
  {
   "cell_type": "code",
   "execution_count": 10,
   "metadata": {},
   "outputs": [],
   "source": [
    "# use pre-trained corpus to help tokenise words\n",
    "nlp = spacy.load('en_core_web_sm')"
   ]
  },
  {
   "cell_type": "markdown",
   "metadata": {},
   "source": [
    "## Create the Corpus of tv and movie"
   ]
  },
  {
   "cell_type": "code",
   "execution_count": 24,
   "metadata": {},
   "outputs": [],
   "source": [
    "movieDf = netflixDf.loc[netflixDf['type']=='movie']\n",
    "tvshowDf = netflixDf.loc[netflixDf['type']=='tvshow']"
   ]
  },
  {
   "cell_type": "code",
   "execution_count": 25,
   "metadata": {},
   "outputs": [],
   "source": [
    "movieCorpus = movieDf.description.values.tolist() #list of docs\n",
    "tvshowCorpus = tvshowDf.description.values.tolist() #list of docs"
   ]
  },
  {
   "cell_type": "code",
   "execution_count": 26,
   "metadata": {},
   "outputs": [],
   "source": [
    "movieTkDocs = [tokenise(doc) for doc in movieCorpus] #tokenise \n",
    "tvshowTkDocs = [tokenise(doc) for doc in tvshowCorpus] #tokenise "
   ]
  },
  {
   "cell_type": "code",
   "execution_count": 27,
   "metadata": {},
   "outputs": [],
   "source": [
    "# mapping out the title and each description. so later on i can search \n",
    "movieMap = dict(zip(movieDf['title'].str.lower().tolist(), movieTkDocs))\n",
    "tvshowMap = dict(zip(tvshowDf['title'].str.lower().tolist(), tvshowTkDocs))\n",
    "# lower the title (easy for search)"
   ]
  },
  {
   "cell_type": "markdown",
   "metadata": {},
   "source": [
    "### Google news is much faster\n",
    "It might take a few seconds to train"
   ]
  },
  {
   "cell_type": "code",
   "execution_count": 15,
   "metadata": {},
   "outputs": [],
   "source": [
    "path = \"GoogleNews-vectors-negative300.bin\"\n",
    "w2v = KeyedVectors.load_word2vec_format(path, binary=True)\n",
    "# It is much faster take less than 2 minutes"
   ]
  },
  {
   "cell_type": "code",
   "execution_count": null,
   "metadata": {},
   "outputs": [],
   "source": [
    "# Use wikipedia trained model. It spends around 20 mins to load the model.\n",
    "# MODEL_FILE = \"enwiki_20180420_300d.txt\"\n",
    "# w2v = KeyedVectors.load_word2vec_format(MODEL_FILE)"
   ]
  },
  {
   "cell_type": "code",
   "execution_count": 29,
   "metadata": {},
   "outputs": [],
   "source": [
    "movieTitleVec = get_vectors(movieMap, w2v)\n",
    "tvshowTitleVec = get_vectors(tvshowMap, w2v)"
   ]
  },
  {
   "cell_type": "code",
   "execution_count": 43,
   "metadata": {},
   "outputs": [
    {
     "data": {
      "text/html": [
       "<div>\n",
       "<style scoped>\n",
       "    .dataframe tbody tr th:only-of-type {\n",
       "        vertical-align: middle;\n",
       "    }\n",
       "\n",
       "    .dataframe tbody tr th {\n",
       "        vertical-align: top;\n",
       "    }\n",
       "\n",
       "    .dataframe thead th {\n",
       "        text-align: right;\n",
       "    }\n",
       "</style>\n",
       "<table border=\"1\" class=\"dataframe\">\n",
       "  <thead>\n",
       "    <tr style=\"text-align: right;\">\n",
       "      <th></th>\n",
       "      <th>title</th>\n",
       "      <th>similarity</th>\n",
       "      <th>originals</th>\n",
       "      <th>genres</th>\n",
       "    </tr>\n",
       "  </thead>\n",
       "  <tbody>\n",
       "    <tr>\n",
       "      <th>0</th>\n",
       "      <td>house of cards</td>\n",
       "      <td>1.000000</td>\n",
       "      <td>[1]</td>\n",
       "      <td>[drama,sport,crime]</td>\n",
       "    </tr>\n",
       "    <tr>\n",
       "      <th>1</th>\n",
       "      <td>bloodline</td>\n",
       "      <td>0.946771</td>\n",
       "      <td>[1]</td>\n",
       "      <td>[drama,thriller,crime]</td>\n",
       "    </tr>\n",
       "    <tr>\n",
       "      <th>2</th>\n",
       "      <td>reign</td>\n",
       "      <td>0.946442</td>\n",
       "      <td>[0]</td>\n",
       "      <td>[drama,fantasy,history]</td>\n",
       "    </tr>\n",
       "    <tr>\n",
       "      <th>3</th>\n",
       "      <td>broadchurch</td>\n",
       "      <td>0.944031</td>\n",
       "      <td>[0]</td>\n",
       "      <td>[crime,drama,mystery,thriller]</td>\n",
       "    </tr>\n",
       "    <tr>\n",
       "      <th>4</th>\n",
       "      <td>peaky blinders</td>\n",
       "      <td>0.943539</td>\n",
       "      <td>[1]</td>\n",
       "      <td>[crime,drama]</td>\n",
       "    </tr>\n",
       "    <tr>\n",
       "      <th>5</th>\n",
       "      <td>the end of the f***ing world</td>\n",
       "      <td>0.942934</td>\n",
       "      <td>[1]</td>\n",
       "      <td>[action-and-adventure,comedy,crime,drama,romance,thriller]</td>\n",
       "    </tr>\n",
       "    <tr>\n",
       "      <th>6</th>\n",
       "      <td>hostages_2013</td>\n",
       "      <td>0.942573</td>\n",
       "      <td>[0]</td>\n",
       "      <td>[drama,thriller]</td>\n",
       "    </tr>\n",
       "    <tr>\n",
       "      <th>7</th>\n",
       "      <td>collateral</td>\n",
       "      <td>0.942508</td>\n",
       "      <td>[1]</td>\n",
       "      <td>[crime,drama,mystery,thriller]</td>\n",
       "    </tr>\n",
       "    <tr>\n",
       "      <th>8</th>\n",
       "      <td>breaking bad</td>\n",
       "      <td>0.942227</td>\n",
       "      <td>[0]</td>\n",
       "      <td>[crime,drama,thriller]</td>\n",
       "    </tr>\n",
       "    <tr>\n",
       "      <th>9</th>\n",
       "      <td>sherlock</td>\n",
       "      <td>0.942069</td>\n",
       "      <td>[0]</td>\n",
       "      <td>[action-and-adventure,crime,drama,mystery,thriller]</td>\n",
       "    </tr>\n",
       "    <tr>\n",
       "      <th>10</th>\n",
       "      <td>orange is the new black</td>\n",
       "      <td>0.941787</td>\n",
       "      <td>[1]</td>\n",
       "      <td>[comedy,lgbtq,crime,drama]</td>\n",
       "    </tr>\n",
       "  </tbody>\n",
       "</table>\n",
       "</div>"
      ],
      "text/plain": [
       "                           title  similarity originals  \\\n",
       "0                 house of cards    1.000000       [1]   \n",
       "1                      bloodline    0.946771       [1]   \n",
       "2                          reign    0.946442       [0]   \n",
       "3                    broadchurch    0.944031       [0]   \n",
       "4                 peaky blinders    0.943539       [1]   \n",
       "5   the end of the f***ing world    0.942934       [1]   \n",
       "6                  hostages_2013    0.942573       [0]   \n",
       "7                     collateral    0.942508       [1]   \n",
       "8                   breaking bad    0.942227       [0]   \n",
       "9                       sherlock    0.942069       [0]   \n",
       "10       orange is the new black    0.941787       [1]   \n",
       "\n",
       "                                                        genres  \n",
       "0                                          [drama,sport,crime]  \n",
       "1                                       [drama,thriller,crime]  \n",
       "2                                      [drama,fantasy,history]  \n",
       "3                               [crime,drama,mystery,thriller]  \n",
       "4                                                [crime,drama]  \n",
       "5   [action-and-adventure,comedy,crime,drama,romance,thriller]  \n",
       "6                                             [drama,thriller]  \n",
       "7                               [crime,drama,mystery,thriller]  \n",
       "8                                       [crime,drama,thriller]  \n",
       "9          [action-and-adventure,crime,drama,mystery,thriller]  \n",
       "10                                  [comedy,lgbtq,crime,drama]  "
      ]
     },
     "execution_count": 43,
     "metadata": {},
     "output_type": "execute_result"
    }
   ],
   "source": [
    "get_topN_similar('house of cards', tvshowTitleVec, tvshowDf)"
   ]
  },
  {
   "cell_type": "code",
   "execution_count": 39,
   "metadata": {
    "collapsed": true,
    "jupyter": {
     "outputs_hidden": true
    }
   },
   "outputs": [
    {
     "data": {
      "text/plain": [
       "[('house of cards',\n",
       "  1.0000002,\n",
       "  array([1]),\n",
       "  array(['drama,sport,crime'], dtype=object)),\n",
       " ('bloodline',\n",
       "  0.9467709,\n",
       "  array([1]),\n",
       "  array(['drama,thriller,crime'], dtype=object)),\n",
       " ('reign',\n",
       "  0.94644237,\n",
       "  array([0]),\n",
       "  array(['drama,fantasy,history'], dtype=object)),\n",
       " ('broadchurch',\n",
       "  0.9440308,\n",
       "  array([0]),\n",
       "  array(['crime,drama,mystery,thriller'], dtype=object)),\n",
       " ('peaky blinders',\n",
       "  0.9435389,\n",
       "  array([1]),\n",
       "  array(['crime,drama'], dtype=object)),\n",
       " ('the end of the f***ing world',\n",
       "  0.9429343,\n",
       "  array([1]),\n",
       "  array(['action-and-adventure,comedy,crime,drama,romance,thriller'],\n",
       "        dtype=object)),\n",
       " ('hostages_2013',\n",
       "  0.9425726,\n",
       "  array([0]),\n",
       "  array(['drama,thriller'], dtype=object)),\n",
       " ('collateral',\n",
       "  0.9425075,\n",
       "  array([1]),\n",
       "  array(['crime,drama,mystery,thriller'], dtype=object)),\n",
       " ('breaking bad',\n",
       "  0.94222677,\n",
       "  array([0]),\n",
       "  array(['crime,drama,thriller'], dtype=object)),\n",
       " ('sherlock',\n",
       "  0.94206876,\n",
       "  array([0]),\n",
       "  array(['action-and-adventure,crime,drama,mystery,thriller'], dtype=object)),\n",
       " ('orange is the new black',\n",
       "  0.9417874,\n",
       "  array([1]),\n",
       "  array(['comedy,lgbtq,crime,drama'], dtype=object)),\n",
       " ('halt and catch fire', 0.941674, array([0]), array(['drama'], dtype=object)),\n",
       " ('no tomorrow',\n",
       "  0.9409443,\n",
       "  array([0]),\n",
       "  array(['drama,comedy,romance'], dtype=object)),\n",
       " ('the stranger_2020',\n",
       "  0.94064367,\n",
       "  array([0]),\n",
       "  array(['crime,drama,mystery,thriller'], dtype=object)),\n",
       " ('troy: fall of a city',\n",
       "  0.940606,\n",
       "  array([1]),\n",
       "  array(['action-and-adventure,drama,fantasy,romance'], dtype=object))]"
      ]
     },
     "execution_count": 39,
     "metadata": {},
     "output_type": "execute_result"
    }
   ],
   "source": [
    "get_most_similar('house of cards', tvshowTitleVec, tvshowDf)[:15]"
   ]
  },
  {
   "cell_type": "markdown",
   "metadata": {},
   "source": [
    "# Let's try using our own data to train"
   ]
  },
  {
   "cell_type": "code",
   "execution_count": 44,
   "metadata": {},
   "outputs": [],
   "source": [
    "tvshowDf = netflixDf.loc[netflixDf['type']=='tvshow']\n",
    "tvshowDf.reset_index(drop=True, inplace=True)"
   ]
  },
  {
   "cell_type": "code",
   "execution_count": 53,
   "metadata": {},
   "outputs": [],
   "source": [
    "everything = tvshowDf.drop(columns=['type','originals']).apply(lambda x: ','.join(x.astype(str)), axis=1)"
   ]
  },
  {
   "cell_type": "code",
   "execution_count": 57,
   "metadata": {},
   "outputs": [
    {
     "data": {
      "text/plain": [
       "pandas.core.series.Series"
      ]
     },
     "execution_count": 57,
     "metadata": {},
     "output_type": "execute_result"
    }
   ],
   "source": [
    "type(everything)"
   ]
  },
  {
   "cell_type": "code",
   "execution_count": 56,
   "metadata": {},
   "outputs": [
    {
     "data": {
      "text/plain": [
       "(2060, 5)"
      ]
     },
     "execution_count": 56,
     "metadata": {},
     "output_type": "execute_result"
    }
   ],
   "source": [
    "tvshowDf.shape"
   ]
  },
  {
   "cell_type": "code",
   "execution_count": 58,
   "metadata": {},
   "outputs": [],
   "source": [
    "tvshowCorpus = everything.values.tolist() #list of docs"
   ]
  },
  {
   "cell_type": "code",
   "execution_count": 60,
   "metadata": {},
   "outputs": [],
   "source": [
    "tvshowTkDocs = [tokenise(doc) for doc in tvshowCorpus] #tokenise "
   ]
  },
  {
   "cell_type": "code",
   "execution_count": 61,
   "metadata": {},
   "outputs": [],
   "source": [
    "tvshowMap = dict(zip(tvshowDf['title'].str.lower().tolist(), tvshowTkDocs))"
   ]
  },
  {
   "cell_type": "code",
   "execution_count": 69,
   "metadata": {},
   "outputs": [],
   "source": [
    "self_w2v = Word2Vec(tvshowTkDocs, min_count=1,size= 300,workers=3, window =3, sg = 1)"
   ]
  },
  {
   "cell_type": "code",
   "execution_count": 70,
   "metadata": {},
   "outputs": [
    {
     "name": "stderr",
     "output_type": "stream",
     "text": [
      "<ipython-input-5-6f485b4cb4f2>:15: DeprecationWarning: Call to deprecated `__getitem__` (Method will be removed in 4.0.0, use self.wv.__getitem__() instead).\n",
      "  temp.append(second_map[element]) #secondmap is w2v model which should have a responding word vecotr for the tokenise word\n"
     ]
    }
   ],
   "source": [
    "tvshowTitleVec = get_vectors(tvshowMap, self_w2v)"
   ]
  },
  {
   "cell_type": "code",
   "execution_count": 72,
   "metadata": {},
   "outputs": [
    {
     "data": {
      "text/html": [
       "<div>\n",
       "<style scoped>\n",
       "    .dataframe tbody tr th:only-of-type {\n",
       "        vertical-align: middle;\n",
       "    }\n",
       "\n",
       "    .dataframe tbody tr th {\n",
       "        vertical-align: top;\n",
       "    }\n",
       "\n",
       "    .dataframe thead th {\n",
       "        text-align: right;\n",
       "    }\n",
       "</style>\n",
       "<table border=\"1\" class=\"dataframe\">\n",
       "  <thead>\n",
       "    <tr style=\"text-align: right;\">\n",
       "      <th></th>\n",
       "      <th>title</th>\n",
       "      <th>similarity</th>\n",
       "      <th>originals</th>\n",
       "      <th>genres</th>\n",
       "    </tr>\n",
       "  </thead>\n",
       "  <tbody>\n",
       "    <tr>\n",
       "      <th>0</th>\n",
       "      <td>our planet</td>\n",
       "      <td>1.000000</td>\n",
       "      <td>[1]</td>\n",
       "      <td>[documentary]</td>\n",
       "    </tr>\n",
       "    <tr>\n",
       "      <th>1</th>\n",
       "      <td>the confession killer</td>\n",
       "      <td>0.998883</td>\n",
       "      <td>[1]</td>\n",
       "      <td>[documentary,crime]</td>\n",
       "    </tr>\n",
       "    <tr>\n",
       "      <th>2</th>\n",
       "      <td>hollywood</td>\n",
       "      <td>0.998619</td>\n",
       "      <td>[1]</td>\n",
       "      <td>[drama,history]</td>\n",
       "    </tr>\n",
       "    <tr>\n",
       "      <th>3</th>\n",
       "      <td>seven seconds</td>\n",
       "      <td>0.998587</td>\n",
       "      <td>[1]</td>\n",
       "      <td>[crime,drama]</td>\n",
       "    </tr>\n",
       "    <tr>\n",
       "      <th>4</th>\n",
       "      <td>unbelievable</td>\n",
       "      <td>0.998535</td>\n",
       "      <td>[1]</td>\n",
       "      <td>[crime,drama]</td>\n",
       "    </tr>\n",
       "    <tr>\n",
       "      <th>5</th>\n",
       "      <td>jeffrey epstein: filthy rich</td>\n",
       "      <td>0.998476</td>\n",
       "      <td>[1]</td>\n",
       "      <td>[documentary,crime]</td>\n",
       "    </tr>\n",
       "    <tr>\n",
       "      <th>6</th>\n",
       "      <td>wild wild country</td>\n",
       "      <td>0.998460</td>\n",
       "      <td>[1]</td>\n",
       "      <td>[documentary,cult,crime]</td>\n",
       "    </tr>\n",
       "    <tr>\n",
       "      <th>7</th>\n",
       "      <td>gypsy</td>\n",
       "      <td>0.998393</td>\n",
       "      <td>[1]</td>\n",
       "      <td>[thriller,drama]</td>\n",
       "    </tr>\n",
       "    <tr>\n",
       "      <th>8</th>\n",
       "      <td>the honeymoon stand up special</td>\n",
       "      <td>0.998380</td>\n",
       "      <td>[1]</td>\n",
       "      <td>[comedy]</td>\n",
       "    </tr>\n",
       "    <tr>\n",
       "      <th>9</th>\n",
       "      <td>november 13: attack on paris</td>\n",
       "      <td>0.998354</td>\n",
       "      <td>[1]</td>\n",
       "      <td>[documentary]</td>\n",
       "    </tr>\n",
       "    <tr>\n",
       "      <th>10</th>\n",
       "      <td>the last czars</td>\n",
       "      <td>0.998278</td>\n",
       "      <td>[1]</td>\n",
       "      <td>[documentary,drama]</td>\n",
       "    </tr>\n",
       "  </tbody>\n",
       "</table>\n",
       "</div>"
      ],
      "text/plain": [
       "                             title  similarity originals  \\\n",
       "0                       our planet    1.000000       [1]   \n",
       "1            the confession killer    0.998883       [1]   \n",
       "2                        hollywood    0.998619       [1]   \n",
       "3                    seven seconds    0.998587       [1]   \n",
       "4                     unbelievable    0.998535       [1]   \n",
       "5     jeffrey epstein: filthy rich    0.998476       [1]   \n",
       "6                wild wild country    0.998460       [1]   \n",
       "7                            gypsy    0.998393       [1]   \n",
       "8   the honeymoon stand up special    0.998380       [1]   \n",
       "9     november 13: attack on paris    0.998354       [1]   \n",
       "10                  the last czars    0.998278       [1]   \n",
       "\n",
       "                      genres  \n",
       "0              [documentary]  \n",
       "1        [documentary,crime]  \n",
       "2            [drama,history]  \n",
       "3              [crime,drama]  \n",
       "4              [crime,drama]  \n",
       "5        [documentary,crime]  \n",
       "6   [documentary,cult,crime]  \n",
       "7           [thriller,drama]  \n",
       "8                   [comedy]  \n",
       "9              [documentary]  \n",
       "10       [documentary,drama]  "
      ]
     },
     "execution_count": 72,
     "metadata": {},
     "output_type": "execute_result"
    }
   ],
   "source": [
    "get_topN_similar('our planet', tvshowTitleVec, tvshowDf)"
   ]
  },
  {
   "cell_type": "code",
   "execution_count": 68,
   "metadata": {},
   "outputs": [
    {
     "data": {
      "text/html": [
       "<div>\n",
       "<style scoped>\n",
       "    .dataframe tbody tr th:only-of-type {\n",
       "        vertical-align: middle;\n",
       "    }\n",
       "\n",
       "    .dataframe tbody tr th {\n",
       "        vertical-align: top;\n",
       "    }\n",
       "\n",
       "    .dataframe thead th {\n",
       "        text-align: right;\n",
       "    }\n",
       "</style>\n",
       "<table border=\"1\" class=\"dataframe\">\n",
       "  <thead>\n",
       "    <tr style=\"text-align: right;\">\n",
       "      <th></th>\n",
       "      <th>title</th>\n",
       "      <th>similarity</th>\n",
       "      <th>originals</th>\n",
       "      <th>genres</th>\n",
       "    </tr>\n",
       "  </thead>\n",
       "  <tbody>\n",
       "    <tr>\n",
       "      <th>0</th>\n",
       "      <td>house of cards</td>\n",
       "      <td>1.000000</td>\n",
       "      <td>[1]</td>\n",
       "      <td>[drama,sport,crime]</td>\n",
       "    </tr>\n",
       "    <tr>\n",
       "      <th>1</th>\n",
       "      <td>orange is the new black</td>\n",
       "      <td>0.999537</td>\n",
       "      <td>[1]</td>\n",
       "      <td>[comedy,lgbtq,crime,drama]</td>\n",
       "    </tr>\n",
       "    <tr>\n",
       "      <th>2</th>\n",
       "      <td>breaking bad</td>\n",
       "      <td>0.999109</td>\n",
       "      <td>[0]</td>\n",
       "      <td>[crime,drama,thriller]</td>\n",
       "    </tr>\n",
       "    <tr>\n",
       "      <th>3</th>\n",
       "      <td>versailles</td>\n",
       "      <td>0.999050</td>\n",
       "      <td>[0]</td>\n",
       "      <td>[biography,drama,history,romance]</td>\n",
       "    </tr>\n",
       "    <tr>\n",
       "      <th>4</th>\n",
       "      <td>hart of dixie</td>\n",
       "      <td>0.999011</td>\n",
       "      <td>[0]</td>\n",
       "      <td>[comedy,drama,romance]</td>\n",
       "    </tr>\n",
       "    <tr>\n",
       "      <th>5</th>\n",
       "      <td>gilmore girls</td>\n",
       "      <td>0.998990</td>\n",
       "      <td>[0]</td>\n",
       "      <td>[comedy,drama]</td>\n",
       "    </tr>\n",
       "    <tr>\n",
       "      <th>6</th>\n",
       "      <td>quantico</td>\n",
       "      <td>0.998956</td>\n",
       "      <td>[0]</td>\n",
       "      <td>[drama,crime,mystery,thriller]</td>\n",
       "    </tr>\n",
       "    <tr>\n",
       "      <th>7</th>\n",
       "      <td>jane the virgin</td>\n",
       "      <td>0.998928</td>\n",
       "      <td>[0]</td>\n",
       "      <td>[drama,family,romance,comedy]</td>\n",
       "    </tr>\n",
       "    <tr>\n",
       "      <th>8</th>\n",
       "      <td>zoo_2015</td>\n",
       "      <td>0.998911</td>\n",
       "      <td>[0]</td>\n",
       "      <td>[drama,thriller,mystery,science-fiction,documentary,romance]</td>\n",
       "    </tr>\n",
       "    <tr>\n",
       "      <th>9</th>\n",
       "      <td>damnation</td>\n",
       "      <td>0.998865</td>\n",
       "      <td>[0]</td>\n",
       "      <td>[drama,crime]</td>\n",
       "    </tr>\n",
       "    <tr>\n",
       "      <th>10</th>\n",
       "      <td>haven</td>\n",
       "      <td>0.998751</td>\n",
       "      <td>[0]</td>\n",
       "      <td>[crime,drama,fantasy,science-fiction,horror,mystery,thriller]</td>\n",
       "    </tr>\n",
       "  </tbody>\n",
       "</table>\n",
       "</div>"
      ],
      "text/plain": [
       "                      title  similarity originals  \\\n",
       "0            house of cards    1.000000       [1]   \n",
       "1   orange is the new black    0.999537       [1]   \n",
       "2              breaking bad    0.999109       [0]   \n",
       "3                versailles    0.999050       [0]   \n",
       "4             hart of dixie    0.999011       [0]   \n",
       "5             gilmore girls    0.998990       [0]   \n",
       "6                  quantico    0.998956       [0]   \n",
       "7           jane the virgin    0.998928       [0]   \n",
       "8                  zoo_2015    0.998911       [0]   \n",
       "9                 damnation    0.998865       [0]   \n",
       "10                    haven    0.998751       [0]   \n",
       "\n",
       "                                                           genres  \n",
       "0                                             [drama,sport,crime]  \n",
       "1                                      [comedy,lgbtq,crime,drama]  \n",
       "2                                          [crime,drama,thriller]  \n",
       "3                               [biography,drama,history,romance]  \n",
       "4                                          [comedy,drama,romance]  \n",
       "5                                                  [comedy,drama]  \n",
       "6                                  [drama,crime,mystery,thriller]  \n",
       "7                                   [drama,family,romance,comedy]  \n",
       "8    [drama,thriller,mystery,science-fiction,documentary,romance]  \n",
       "9                                                   [drama,crime]  \n",
       "10  [crime,drama,fantasy,science-fiction,horror,mystery,thriller]  "
      ]
     },
     "execution_count": 68,
     "metadata": {},
     "output_type": "execute_result"
    }
   ],
   "source": [
    "get_topN_similar('house of cards', tvshowTitleVec, tvshowDf)"
   ]
  },
  {
   "cell_type": "code",
   "execution_count": 63,
   "metadata": {},
   "outputs": [
    {
     "data": {
      "text/html": [
       "<div>\n",
       "<style scoped>\n",
       "    .dataframe tbody tr th:only-of-type {\n",
       "        vertical-align: middle;\n",
       "    }\n",
       "\n",
       "    .dataframe tbody tr th {\n",
       "        vertical-align: top;\n",
       "    }\n",
       "\n",
       "    .dataframe thead th {\n",
       "        text-align: right;\n",
       "    }\n",
       "</style>\n",
       "<table border=\"1\" class=\"dataframe\">\n",
       "  <thead>\n",
       "    <tr style=\"text-align: right;\">\n",
       "      <th></th>\n",
       "      <th>title</th>\n",
       "      <th>similarity</th>\n",
       "      <th>originals</th>\n",
       "      <th>genres</th>\n",
       "    </tr>\n",
       "  </thead>\n",
       "  <tbody>\n",
       "    <tr>\n",
       "      <th>0</th>\n",
       "      <td>house of cards</td>\n",
       "      <td>1.000000</td>\n",
       "      <td>[1]</td>\n",
       "      <td>[drama,sport,crime]</td>\n",
       "    </tr>\n",
       "    <tr>\n",
       "      <th>1</th>\n",
       "      <td>broadchurch</td>\n",
       "      <td>0.942771</td>\n",
       "      <td>[0]</td>\n",
       "      <td>[crime,drama,mystery,thriller]</td>\n",
       "    </tr>\n",
       "    <tr>\n",
       "      <th>2</th>\n",
       "      <td>peaky blinders</td>\n",
       "      <td>0.942188</td>\n",
       "      <td>[1]</td>\n",
       "      <td>[crime,drama]</td>\n",
       "    </tr>\n",
       "    <tr>\n",
       "      <th>3</th>\n",
       "      <td>bloodline</td>\n",
       "      <td>0.941971</td>\n",
       "      <td>[1]</td>\n",
       "      <td>[drama,thriller,crime]</td>\n",
       "    </tr>\n",
       "    <tr>\n",
       "      <th>4</th>\n",
       "      <td>breaking bad</td>\n",
       "      <td>0.936305</td>\n",
       "      <td>[0]</td>\n",
       "      <td>[crime,drama,thriller]</td>\n",
       "    </tr>\n",
       "    <tr>\n",
       "      <th>5</th>\n",
       "      <td>reign</td>\n",
       "      <td>0.935107</td>\n",
       "      <td>[0]</td>\n",
       "      <td>[drama,fantasy,history]</td>\n",
       "    </tr>\n",
       "    <tr>\n",
       "      <th>6</th>\n",
       "      <td>orange is the new black</td>\n",
       "      <td>0.934063</td>\n",
       "      <td>[1]</td>\n",
       "      <td>[comedy,lgbtq,crime,drama]</td>\n",
       "    </tr>\n",
       "    <tr>\n",
       "      <th>7</th>\n",
       "      <td>hostages_2013</td>\n",
       "      <td>0.933580</td>\n",
       "      <td>[0]</td>\n",
       "      <td>[drama,thriller]</td>\n",
       "    </tr>\n",
       "    <tr>\n",
       "      <th>8</th>\n",
       "      <td>you</td>\n",
       "      <td>0.933569</td>\n",
       "      <td>[0]</td>\n",
       "      <td>[crime,drama,romance,thriller]</td>\n",
       "    </tr>\n",
       "    <tr>\n",
       "      <th>9</th>\n",
       "      <td>collateral</td>\n",
       "      <td>0.932469</td>\n",
       "      <td>[1]</td>\n",
       "      <td>[crime,drama,mystery,thriller]</td>\n",
       "    </tr>\n",
       "    <tr>\n",
       "      <th>10</th>\n",
       "      <td>london spy</td>\n",
       "      <td>0.932452</td>\n",
       "      <td>[0]</td>\n",
       "      <td>[drama,lgbtq,crime,mystery,romance,thriller]</td>\n",
       "    </tr>\n",
       "  </tbody>\n",
       "</table>\n",
       "</div>"
      ],
      "text/plain": [
       "                      title  similarity originals  \\\n",
       "0            house of cards    1.000000       [1]   \n",
       "1               broadchurch    0.942771       [0]   \n",
       "2            peaky blinders    0.942188       [1]   \n",
       "3                 bloodline    0.941971       [1]   \n",
       "4              breaking bad    0.936305       [0]   \n",
       "5                     reign    0.935107       [0]   \n",
       "6   orange is the new black    0.934063       [1]   \n",
       "7             hostages_2013    0.933580       [0]   \n",
       "8                       you    0.933569       [0]   \n",
       "9                collateral    0.932469       [1]   \n",
       "10               london spy    0.932452       [0]   \n",
       "\n",
       "                                          genres  \n",
       "0                            [drama,sport,crime]  \n",
       "1                 [crime,drama,mystery,thriller]  \n",
       "2                                  [crime,drama]  \n",
       "3                         [drama,thriller,crime]  \n",
       "4                         [crime,drama,thriller]  \n",
       "5                        [drama,fantasy,history]  \n",
       "6                     [comedy,lgbtq,crime,drama]  \n",
       "7                               [drama,thriller]  \n",
       "8                 [crime,drama,romance,thriller]  \n",
       "9                 [crime,drama,mystery,thriller]  \n",
       "10  [drama,lgbtq,crime,mystery,romance,thriller]  "
      ]
     },
     "execution_count": 63,
     "metadata": {},
     "output_type": "execute_result"
    }
   ],
   "source": [
    "get_topN_similar('house of cards', tvshowTitleVec, tvshowDf)"
   ]
  },
  {
   "cell_type": "markdown",
   "metadata": {},
   "source": [
    "# Try Doc2Vec"
   ]
  },
  {
   "cell_type": "code",
   "execution_count": 73,
   "metadata": {},
   "outputs": [],
   "source": [
    "from gensim.models.doc2vec import Doc2Vec, TaggedDocument"
   ]
  },
  {
   "cell_type": "code",
   "execution_count": 75,
   "metadata": {},
   "outputs": [],
   "source": [
    "documents = [TaggedDocument(doc, [title]) for title, doc in title_text.items()]\n",
    "model = Doc2Vec(documents, vector_size=300,  min_count=1, workers=4, epochs=40)"
   ]
  },
  {
   "cell_type": "code",
   "execution_count": 423,
   "metadata": {
    "jupyter": {
     "source_hidden": true
    }
   },
   "outputs": [],
   "source": [
    "from gensim.test.utils import get_tmpfile\n",
    "\n",
    "fname = get_tmpfile(\"my_doc2vec_model\")\n",
    "\n",
    "model.save(fname)\n",
    "model = Doc2Vec.load(fname)  # you can continue training with the loaded model!"
   ]
  },
  {
   "cell_type": "code",
   "execution_count": 440,
   "metadata": {
    "jupyter": {
     "source_hidden": true
    }
   },
   "outputs": [],
   "source": [
    "model.delete_temporary_training_data(keep_doctags_vectors=False, keep_inference=False)"
   ]
  },
  {
   "cell_type": "code",
   "execution_count": 77,
   "metadata": {},
   "outputs": [
    {
     "data": {
      "text/plain": [
       "[('rapture', 0.7993944883346558),\n",
       " ('roman empire', 0.7990072965621948),\n",
       " ('(t)error', 0.7692530155181885),\n",
       " ('babies', 0.7634181380271912),\n",
       " ('the royal house of windsor', 0.7517811059951782),\n",
       " ('abstract: the art of design', 0.7497245669364929),\n",
       " ('metro', 0.7471555471420288),\n",
       " ('flavorful origins', 0.7420789003372192),\n",
       " ('alive and kicking', 0.7419354915618896),\n",
       " ('cloroformo', 0.737167239189148)]"
      ]
     },
     "execution_count": 77,
     "metadata": {},
     "output_type": "execute_result"
    }
   ],
   "source": [
    "model.docvecs.most_similar('our planet')"
   ]
  },
  {
   "cell_type": "code",
   "execution_count": 439,
   "metadata": {},
   "outputs": [
    {
     "data": {
      "text/plain": [
       "[('the adderall diaries', 0.9996110200881958),\n",
       " ('lionheart', 0.9995298385620117),\n",
       " (\"ricardo o'farrill: abrazo genial\", 0.9994028806686401),\n",
       " ('sierra burgess is a loser', 0.9990977048873901),\n",
       " ('see you in time', 0.9990734457969666),\n",
       " ('the 2000s', 0.9990618824958801),\n",
       " ('class rank', 0.9990559220314026),\n",
       " ('ninja assassin', 0.9988771080970764),\n",
       " ('marching orders', 0.9986553192138672),\n",
       " ('chasing trane', 0.9986506700515747)]"
      ]
     },
     "execution_count": 439,
     "metadata": {},
     "output_type": "execute_result"
    }
   ],
   "source": [
    "model.docvecs.most_similar('house of cards')"
   ]
  },
  {
   "cell_type": "code",
   "execution_count": null,
   "metadata": {},
   "outputs": [],
   "source": []
  },
  {
   "cell_type": "code",
   "execution_count": null,
   "metadata": {},
   "outputs": [],
   "source": []
  }
 ],
 "metadata": {
  "kernelspec": {
   "display_name": "Python 3",
   "language": "python",
   "name": "python3"
  },
  "language_info": {
   "codemirror_mode": {
    "name": "ipython",
    "version": 3
   },
   "file_extension": ".py",
   "mimetype": "text/x-python",
   "name": "python",
   "nbconvert_exporter": "python",
   "pygments_lexer": "ipython3",
   "version": "3.8.3"
  }
 },
 "nbformat": 4,
 "nbformat_minor": 4
}
