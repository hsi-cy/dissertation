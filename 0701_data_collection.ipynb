{
 "cells": [
  {
   "cell_type": "code",
   "execution_count": 1,
   "metadata": {},
   "outputs": [],
   "source": [
    "from selenium import webdriver\n",
    "from webdriver_manager.chrome import ChromeDriverManager\n",
    "from time import sleep\n",
    "import timeit\n",
    "from bs4 import BeautifulSoup\n",
    "import pandas as pd\n",
    "import numpy as np\n",
    "import requests\n",
    "\n",
    "pd.set_option('display.max_colwidth', None)\n",
    "HEADERS = {\"User-Agent\": \"Mozilla/5.0 (Macintosh; Intel Mac OS X 10_15_4) AppleWebKit/537.36 (KHTML, like Gecko) Chrome/81.0.4044.129 Safari/537.36\"}"
   ]
  },
  {
   "cell_type": "code",
   "execution_count": 2,
   "metadata": {
    "collapsed": true,
    "jupyter": {
     "outputs_hidden": true
    }
   },
   "outputs": [
    {
     "name": "stderr",
     "output_type": "stream",
     "text": [
      "[WDM] - Current google-chrome version is 83.0.4103\n",
      "[WDM] - Get LATEST driver version for 83.0.4103\n",
      "[WDM] - Get LATEST driver version for 83.0.4103\n",
      "[WDM] - Trying to download new driver from http://chromedriver.storage.googleapis.com/83.0.4103.39/chromedriver_mac64.zip\n"
     ]
    },
    {
     "name": "stdout",
     "output_type": "stream",
     "text": [
      " \n"
     ]
    },
    {
     "name": "stderr",
     "output_type": "stream",
     "text": [
      "[WDM] - Driver has been saved in cache [/Users/hsichengyun/.wdm/drivers/chromedriver/mac64/83.0.4103.39]\n"
     ]
    }
   ],
   "source": [
    "driver =  webdriver.Chrome(ChromeDriverManager().install())"
   ]
  },
  {
   "cell_type": "code",
   "execution_count": 5,
   "metadata": {},
   "outputs": [],
   "source": [
    "url = requests.get('https://flixable.com/netflix-originals/genre/movies/', {'order':'title'}).url\n",
    "driver.get(url)"
   ]
  },
  {
   "cell_type": "code",
   "execution_count": 10,
   "metadata": {},
   "outputs": [],
   "source": [
    "# I manually scrolled down to the bottom. (it's just easier than the online code)\n",
    "soup = BeautifulSoup(driver.page_source, 'html.parser')"
   ]
  },
  {
   "cell_type": "code",
   "execution_count": 11,
   "metadata": {},
   "outputs": [],
   "source": [
    "# get all netflix org movies till July 1st 2020\n",
    "\n",
    "list_of_netflix_org_movies = list()\n",
    "for i in soup.findAll('a',{'class':'title'}):\n",
    "    if \"...\" in i.text:\n",
    "        re = requests.get('https://flixable.com'+i['href'])\n",
    "        s = BeautifulSoup(re.text, 'html.parser')\n",
    "        list_of_netflix_org_movies.append(s.find('h1',{'class':'title text-left'}).text)\n",
    "    else:\n",
    "        list_of_netflix_org_movies.append(i.text)"
   ]
  },
  {
   "cell_type": "code",
   "execution_count": 19,
   "metadata": {},
   "outputs": [
    {
     "name": "stdout",
     "output_type": "stream",
     "text": [
      "There are 853 original movies.\n",
      "\n",
      "There are 873 original tvshows.\n"
     ]
    }
   ],
   "source": [
    "print(f\"There are {len(list_of_netflix_org_movies)} original movies.\\n\")\n",
    "print(f\"There are {len(list_of_netflix_org_tvshows)} original tvshows.\")"
   ]
  },
  {
   "cell_type": "code",
   "execution_count": 15,
   "metadata": {},
   "outputs": [],
   "source": [
    "# I manually scrolled down to the bottom. (it's just easier than the online code)\n",
    "soup = BeautifulSoup(driver.page_source, 'html.parser')\n",
    "# get all netflix org tvshows till July 1st 2020\n",
    "\n",
    "list_of_netflix_org_tvshows = list()\n",
    "for i in soup.findAll('a',{'class':'title'}):\n",
    "    if \"...\" in i.text:\n",
    "        re = requests.get('https://flixable.com'+i['href'])\n",
    "        s = BeautifulSoup(re.text, 'html.parser')\n",
    "        list_of_netflix_org_tvshows.append(s.find('h1',{'class':'title text-left'}).text)\n",
    "    else:\n",
    "        list_of_netflix_org_tvshows.append(i.text)"
   ]
  },
  {
   "cell_type": "code",
   "execution_count": 20,
   "metadata": {},
   "outputs": [],
   "source": [
    "df = pd.DataFrame()\n",
    "df['title'] = list_of_netflix_org_movies\n",
    "df['type'] = 'movie'"
   ]
  },
  {
   "cell_type": "code",
   "execution_count": 22,
   "metadata": {},
   "outputs": [],
   "source": [
    "df1 = pd.DataFrame()\n",
    "df1['title'] = list_of_netflix_org_tvshows\n",
    "df1['type'] = 'tvshow'"
   ]
  },
  {
   "cell_type": "code",
   "execution_count": null,
   "metadata": {},
   "outputs": [],
   "source": [
    "df = df.append(df1, ignore_index=True)"
   ]
  }
 ],
 "metadata": {
  "kernelspec": {
   "display_name": "Python 3",
   "language": "python",
   "name": "python3"
  },
  "language_info": {
   "codemirror_mode": {
    "name": "ipython",
    "version": 3
   },
   "file_extension": ".py",
   "mimetype": "text/x-python",
   "name": "python",
   "nbconvert_exporter": "python",
   "pygments_lexer": "ipython3",
   "version": "3.8.3"
  }
 },
 "nbformat": 4,
 "nbformat_minor": 4
}
