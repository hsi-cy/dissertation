{
 "cells": [
  {
   "cell_type": "code",
   "execution_count": 1,
   "metadata": {},
   "outputs": [],
   "source": [
    "import re\n",
    "from pprint import pprint\n",
    "\n",
    "import matplotlib.pyplot as plt\n",
    "import nltk\n",
    "import numpy as np\n",
    "import pandas as pd\n",
    "import seaborn as sns\n",
    "import spacy\n",
    "from gensim.models import KeyedVectors, Word2Vec\n",
    "from nltk.corpus import stopwords\n",
    "from sklearn.cluster import KMeans\n",
    "from sklearn.decomposition import PCA\n",
    "from sklearn.metrics.pairwise import cosine_similarity\n",
    "\n",
    "\n",
    "pd.set_option('display.max_colwidth', None)\n",
    "SPECIAL_CHARS = '[^A-Za-z0-9 ]+'\n",
    "STOP_WORDS = stopwords.words('english')"
   ]
  },
  {
   "cell_type": "markdown",
   "metadata": {},
   "source": [
    "# 2. Functions"
   ]
  },
  {
   "cell_type": "code",
   "execution_count": 2,
   "metadata": {},
   "outputs": [],
   "source": [
    "def preprocess_text(text):\n",
    "    \"\"\"\n",
    "    Take out stopwords.\n",
    "    Take out punctuations and special characters.\n",
    "    \"\"\"\n",
    "    SPECIAL_CHARS = '[^A-Za-z0-9 ]+'\n",
    "    STOP_WORDS = stopwords.words('english')\n",
    "    text = text.lower().split(' ')\n",
    "    temp = [word for word in text if word not in STOP_WORDS]\n",
    "    text = ' '.join(temp)\n",
    "    text = re.sub(SPECIAL_CHARS, '', text)\n",
    "    return text"
   ]
  },
  {
   "cell_type": "code",
   "execution_count": 3,
   "metadata": {},
   "outputs": [],
   "source": [
    "def tokenise(doc):\n",
    "    return [token.text for token in nlp(doc)]"
   ]
  },
  {
   "cell_type": "code",
   "execution_count": 4,
   "metadata": {},
   "outputs": [],
   "source": [
    "def tokenise_lemma(doc):\n",
    "    \"\"\"\n",
    "    Use spacy as the nlp object to tokenise each doc\n",
    "    Lemmatise each words\n",
    "    \"\"\"\n",
    "    return ' '.join([token.lemma_ for token in nlp(doc)])"
   ]
  },
  {
   "cell_type": "code",
   "execution_count": 5,
   "metadata": {},
   "outputs": [],
   "source": [
    "# this is one way to get each title's vector representation\n",
    "# more investagtion is needed later.\n",
    "\n",
    "def get_vectors(first_map, second_map):\n",
    "    \"\"\"\n",
    "    Use tokenised words to get vectors representations from the pretrained model (i.e. second_map).\n",
    "    Average the vector representation of the description as the representation of the document \n",
    "    (i.e. each movie title's representation is the mean of vectors of each words in its description)\n",
    "    \"\"\"\n",
    "    first_vec  = dict()\n",
    "    for title, description in first_map.items():\n",
    "        temp = list()\n",
    "        for element in description: #element = tokenised words\n",
    "            try:\n",
    "                temp.append(second_map[element]) #secondmap is w2v model which should have a responding word vecotr for the tokenise word\n",
    "            except KeyError:\n",
    "                pass\n",
    "        first_vec[title] = np.mean(temp, axis=0)\n",
    "    \n",
    "    return first_vec"
   ]
  },
  {
   "cell_type": "code",
   "execution_count": 6,
   "metadata": {},
   "outputs": [],
   "source": [
    "def search(name, df):\n",
    "    return df.loc[df['title'].str.lower()==name.lower()]"
   ]
  },
  {
   "cell_type": "code",
   "execution_count": 45,
   "metadata": {},
   "outputs": [],
   "source": [
    "def get_topN_similar(lookup_id, title_vec, df, N=10):\n",
    "    lookup_id = lookup_id.lower()\n",
    "    sim = list()\n",
    "    lookup_map = title_vec\n",
    "    subject_map = title_vec \n",
    "        \n",
    "    for uid, vec in lookup_map.items():\n",
    "        thisSim = cosine_similarity(vec.reshape(1, -1), subject_map[lookup_id].reshape(1, -1))\n",
    "        org = search(uid, df).originals.values.tolist()[0]\n",
    "        gen = search(uid, df).genres.values.tolist()[0]\n",
    "        year = search(uid, df).year.values.tolist()[0]\n",
    "        sim.append((uid, thisSim[0][0], org, gen, year))\n",
    "    sim = sorted(sim, key=lambda x: x[1], reverse=True)[:N+1]\n",
    "    returnDf = pd.DataFrame(columns=['title','similarity','originals','genres', 'year'],\n",
    "                           data = sim)\n",
    "    return returnDf"
   ]
  },
  {
   "cell_type": "code",
   "execution_count": 8,
   "metadata": {},
   "outputs": [],
   "source": [
    "def get_most_similar(lookup_id, title_vec, df):\n",
    "\n",
    "    sim = list()\n",
    "    lookup_map = title_vec\n",
    "    subject_map = title_vec \n",
    "        \n",
    "    for uid, vec in lookup_map.items():\n",
    "        thisSim = cosine_similarity(vec.reshape(1, -1), subject_map[lookup_id].reshape(1, -1))\n",
    "        org = search(uid, df).originals.values\n",
    "        gen = search(uid, df).genres.values\n",
    "        sim.append((uid, thisSim[0][0], org, gen))\n",
    "\n",
    "    return sorted(sim, key=lambda x: x[1], reverse=True)"
   ]
  },
  {
   "cell_type": "code",
   "execution_count": 9,
   "metadata": {},
   "outputs": [],
   "source": [
    "def filter_df(keyword):\n",
    "    \"\"\"\n",
    "    Return a dataframe with the filtered result.\n",
    "    The input value is case-insensitive. \n",
    "    \"\"\"\n",
    "    if type(keyword) == list:\n",
    "        return netflixDf.loc[netflixDf['title'].isin(keyword)]\n",
    "    else:\n",
    "        return netflixDf.loc[netflixDf['title'].str.lower().isin([keyword.lower()])]"
   ]
  },
  {
   "cell_type": "code",
   "execution_count": 10,
   "metadata": {},
   "outputs": [],
   "source": [
    "def markerX(key, values):\n",
    "    return netflixDf.loc[netflixDf[key].str.lower().isin(values)].sort_values(by='pca_2', ascending=False)\n",
    "\n",
    "def others(key, values):\n",
    "    return netflixDf.loc[~netflixDf[key].str.lower().isin(values)]"
   ]
  },
  {
   "cell_type": "markdown",
   "metadata": {},
   "source": [
    "# 3. Analyse Pipeline"
   ]
  },
  {
   "cell_type": "markdown",
   "metadata": {},
   "source": [
    "## Terms explained\n",
    "Document -> a bunch of texts <br>\n",
    "Corpus -> a bunch of documents <br>\n",
    "Vectors -> a mathematically convenience representation of a document (a bunch of textx) <br>\n",
    "Models -> an algorithm for transforming vectors from one representation to another <br>"
   ]
  },
  {
   "cell_type": "markdown",
   "metadata": {},
   "source": [
    "## Load the spacy pretrained model"
   ]
  },
  {
   "cell_type": "code",
   "execution_count": 11,
   "metadata": {},
   "outputs": [],
   "source": [
    "# use pre-trained corpus to help tokenise words\n",
    "nlp = spacy.load('en_core_web_sm')"
   ]
  },
  {
   "cell_type": "markdown",
   "metadata": {},
   "source": [
    "## Analyse Descriptive Data"
   ]
  },
  {
   "cell_type": "code",
   "execution_count": 12,
   "metadata": {},
   "outputs": [],
   "source": [
    "movieDf = pd.read_csv('movie_dataset_july18.csv', usecols=['title','genres','year','type','originals','everything'])"
   ]
  },
  {
   "cell_type": "markdown",
   "metadata": {},
   "source": [
    "## Create Corpus and apply word embedding"
   ]
  },
  {
   "cell_type": "code",
   "execution_count": 14,
   "metadata": {},
   "outputs": [],
   "source": [
    "movieTkDocs = [tokenise(doc) for doc in movieDf.everything.values.tolist()] #tokenise "
   ]
  },
  {
   "cell_type": "code",
   "execution_count": 15,
   "metadata": {},
   "outputs": [],
   "source": [
    "# mapping out the title and each description. so later on i can search \n",
    "movieMap = dict(zip(movieDf['title'].str.lower().tolist(), movieTkDocs))\n",
    "# lower the title (easy for search)"
   ]
  },
  {
   "cell_type": "code",
   "execution_count": 16,
   "metadata": {},
   "outputs": [],
   "source": [
    "path = \"GoogleNews-vectors-negative300.bin\"\n",
    "w2v = KeyedVectors.load_word2vec_format(path, binary=True)\n",
    "# It is much faster take less than 2 minutes"
   ]
  },
  {
   "cell_type": "code",
   "execution_count": 17,
   "metadata": {},
   "outputs": [],
   "source": [
    "movieTitleVec = get_vectors(movieMap, w2v)"
   ]
  },
  {
   "cell_type": "markdown",
   "metadata": {},
   "source": [
    "## top 10 movies analysis"
   ]
  },
  {
   "cell_type": "markdown",
   "metadata": {},
   "source": [
    "top_10_movie = [\n",
    "    'Bird Box',\n",
    "    'Murder Mystery',\n",
    "    'Triple Frontier',\n",
    "    'The Perfect Date',\n",
    "    'Tall Girl',\n",
    "    'The Highwaymen',\n",
    "    'Secret Obsession',\n",
    "    'Always Be My Maybe',\n",
    "    'Otherhood',\n",
    "    'FYRE: The Greatest Party That Never Happened'\n",
    "]"
   ]
  },
  {
   "cell_type": "code",
   "execution_count": 46,
   "metadata": {},
   "outputs": [],
   "source": [
    "birdBox = get_topN_similar('bird box', movieTitleVec, movieDf)"
   ]
  },
  {
   "cell_type": "code",
   "execution_count": 47,
   "metadata": {},
   "outputs": [
    {
     "data": {
      "text/html": [
       "<div>\n",
       "<style scoped>\n",
       "    .dataframe tbody tr th:only-of-type {\n",
       "        vertical-align: middle;\n",
       "    }\n",
       "\n",
       "    .dataframe tbody tr th {\n",
       "        vertical-align: top;\n",
       "    }\n",
       "\n",
       "    .dataframe thead th {\n",
       "        text-align: right;\n",
       "    }\n",
       "</style>\n",
       "<table border=\"1\" class=\"dataframe\">\n",
       "  <thead>\n",
       "    <tr style=\"text-align: right;\">\n",
       "      <th></th>\n",
       "      <th>title</th>\n",
       "      <th>similarity</th>\n",
       "      <th>originals</th>\n",
       "      <th>genres</th>\n",
       "      <th>year</th>\n",
       "    </tr>\n",
       "  </thead>\n",
       "  <tbody>\n",
       "    <tr>\n",
       "      <th>0</th>\n",
       "      <td>bird box</td>\n",
       "      <td>1.000000</td>\n",
       "      <td>1</td>\n",
       "      <td>thriller,drama,science-fiction,mystery,horror</td>\n",
       "      <td>2018</td>\n",
       "    </tr>\n",
       "    <tr>\n",
       "      <th>1</th>\n",
       "      <td>the silence_2019</td>\n",
       "      <td>0.852333</td>\n",
       "      <td>0</td>\n",
       "      <td>horror,drama,science-fiction,thriller,mystery,fantasy,comedy</td>\n",
       "      <td>2019</td>\n",
       "    </tr>\n",
       "    <tr>\n",
       "      <th>2</th>\n",
       "      <td>dark places</td>\n",
       "      <td>0.845272</td>\n",
       "      <td>0</td>\n",
       "      <td>drama,mystery,thriller,action-and-adventure</td>\n",
       "      <td>2015</td>\n",
       "    </tr>\n",
       "    <tr>\n",
       "      <th>3</th>\n",
       "      <td>the forest of love</td>\n",
       "      <td>0.837695</td>\n",
       "      <td>1</td>\n",
       "      <td>drama,mystery,horror,thriller,crime</td>\n",
       "      <td>2019</td>\n",
       "    </tr>\n",
       "    <tr>\n",
       "      <th>4</th>\n",
       "      <td>the keeping hours</td>\n",
       "      <td>0.835456</td>\n",
       "      <td>0</td>\n",
       "      <td>thriller,drama,fantasy,horror,mystery</td>\n",
       "      <td>2017</td>\n",
       "    </tr>\n",
       "    <tr>\n",
       "      <th>5</th>\n",
       "      <td>how it ends</td>\n",
       "      <td>0.833911</td>\n",
       "      <td>1</td>\n",
       "      <td>action-and-adventure,science-fiction,thriller,mystery,drama</td>\n",
       "      <td>2018</td>\n",
       "    </tr>\n",
       "    <tr>\n",
       "      <th>6</th>\n",
       "      <td>cabin fever</td>\n",
       "      <td>0.833048</td>\n",
       "      <td>0</td>\n",
       "      <td>comedy,horror,science-fiction,thriller,mystery</td>\n",
       "      <td>2016</td>\n",
       "    </tr>\n",
       "    <tr>\n",
       "      <th>7</th>\n",
       "      <td>our house</td>\n",
       "      <td>0.832478</td>\n",
       "      <td>0</td>\n",
       "      <td>drama,horror,mystery,science-fiction,thriller</td>\n",
       "      <td>2018</td>\n",
       "    </tr>\n",
       "    <tr>\n",
       "      <th>8</th>\n",
       "      <td>mute</td>\n",
       "      <td>0.830375</td>\n",
       "      <td>1</td>\n",
       "      <td>drama,mystery,science-fiction,thriller</td>\n",
       "      <td>2017</td>\n",
       "    </tr>\n",
       "    <tr>\n",
       "      <th>9</th>\n",
       "      <td>into the forest</td>\n",
       "      <td>0.829294</td>\n",
       "      <td>0</td>\n",
       "      <td>drama,science-fiction,thriller,mystery,horror</td>\n",
       "      <td>2016</td>\n",
       "    </tr>\n",
       "    <tr>\n",
       "      <th>10</th>\n",
       "      <td>dark skies</td>\n",
       "      <td>0.828250</td>\n",
       "      <td>0</td>\n",
       "      <td>horror,science-fiction,thriller,mystery,documentary</td>\n",
       "      <td>2013</td>\n",
       "    </tr>\n",
       "  </tbody>\n",
       "</table>\n",
       "</div>"
      ],
      "text/plain": [
       "                 title  similarity  originals  \\\n",
       "0             bird box    1.000000          1   \n",
       "1     the silence_2019    0.852333          0   \n",
       "2          dark places    0.845272          0   \n",
       "3   the forest of love    0.837695          1   \n",
       "4    the keeping hours    0.835456          0   \n",
       "5          how it ends    0.833911          1   \n",
       "6          cabin fever    0.833048          0   \n",
       "7            our house    0.832478          0   \n",
       "8                 mute    0.830375          1   \n",
       "9      into the forest    0.829294          0   \n",
       "10          dark skies    0.828250          0   \n",
       "\n",
       "                                                          genres  year  \n",
       "0                  thriller,drama,science-fiction,mystery,horror  2018  \n",
       "1   horror,drama,science-fiction,thriller,mystery,fantasy,comedy  2019  \n",
       "2                    drama,mystery,thriller,action-and-adventure  2015  \n",
       "3                            drama,mystery,horror,thriller,crime  2019  \n",
       "4                          thriller,drama,fantasy,horror,mystery  2017  \n",
       "5    action-and-adventure,science-fiction,thriller,mystery,drama  2018  \n",
       "6                 comedy,horror,science-fiction,thriller,mystery  2016  \n",
       "7                  drama,horror,mystery,science-fiction,thriller  2018  \n",
       "8                         drama,mystery,science-fiction,thriller  2017  \n",
       "9                  drama,science-fiction,thriller,mystery,horror  2016  \n",
       "10           horror,science-fiction,thriller,mystery,documentary  2013  "
      ]
     },
     "execution_count": 47,
     "metadata": {},
     "output_type": "execute_result"
    }
   ],
   "source": [
    "birdBox"
   ]
  },
  {
   "cell_type": "code",
   "execution_count": 40,
   "metadata": {},
   "outputs": [],
   "source": [
    "d = dict()\n",
    "ttl = birdBox.title.tolist()\n",
    "year = birdBox.year.tolist()\n",
    "for ix in range(11):\n",
    "    d[]"
   ]
  },
  {
   "cell_type": "code",
   "execution_count": 41,
   "metadata": {},
   "outputs": [
    {
     "data": {
      "text/plain": [
       "{'bird box': ['bird box',\n",
       "  'the silence_2019',\n",
       "  'dark places',\n",
       "  'the forest of love',\n",
       "  'the keeping hours',\n",
       "  'how it ends',\n",
       "  'cabin fever',\n",
       "  'our house',\n",
       "  'mute',\n",
       "  'into the forest',\n",
       "  'dark skies']}"
      ]
     },
     "execution_count": 41,
     "metadata": {},
     "output_type": "execute_result"
    }
   ],
   "source": [
    "d"
   ]
  },
  {
   "cell_type": "code",
   "execution_count": null,
   "metadata": {},
   "outputs": [],
   "source": []
  },
  {
   "cell_type": "code",
   "execution_count": null,
   "metadata": {},
   "outputs": [],
   "source": []
  },
  {
   "cell_type": "code",
   "execution_count": null,
   "metadata": {},
   "outputs": [],
   "source": []
  },
  {
   "cell_type": "markdown",
   "metadata": {},
   "source": [
    "## It is clear that adding genres into corpus improves accuracy"
   ]
  },
  {
   "cell_type": "markdown",
   "metadata": {},
   "source": [
    "# Descriptive analysis"
   ]
  },
  {
   "cell_type": "code",
   "execution_count": null,
   "metadata": {},
   "outputs": [],
   "source": [
    "# genres count\n",
    "mv = temp.loc[temp['type']=='movie'].copy()"
   ]
  },
  {
   "cell_type": "code",
   "execution_count": null,
   "metadata": {},
   "outputs": [],
   "source": [
    "from collections import defaultdict"
   ]
  },
  {
   "cell_type": "code",
   "execution_count": null,
   "metadata": {},
   "outputs": [],
   "source": [
    "def count_genres(genre_list):\n",
    "    \"\"\"\n",
    "    genre_list is pd sereis\n",
    "    return a dataframe\n",
    "    \"\"\"\n",
    "    genres_count = defaultdict(int)\n",
    "    for movie in genre_list:\n",
    "        for genre in movie.split(','):\n",
    "            genres_count[genre] += 1\n",
    "    df = pd.DataFrame(data=[genres_count])\n",
    "    df = df.transpose().reset_index().rename(columns={'index':'genres',0:'counts'}).sort_values(by = 'counts', ascending=False).reset_index(drop=True)\n",
    "    df['percentage'] = df['counts'].apply(lambda x: round(x/df.counts.sum(),2))\n",
    "    return df"
   ]
  },
  {
   "cell_type": "code",
   "execution_count": null,
   "metadata": {},
   "outputs": [],
   "source": [
    "def show_values_on_bars(axs, h_v=\"v\", space=0.4):\n",
    "    def _show_on_single_plot(ax):\n",
    "        if h_v == \"v\":\n",
    "            for p in ax.patches:\n",
    "                _x = p.get_x() + p.get_width() / 2\n",
    "                _y = p.get_y() + p.get_height()\n",
    "                value = int(p.get_height())\n",
    "                ax.text(_x, _y, value, ha=\"center\") \n",
    "        elif h_v == \"h\":\n",
    "            for p in ax.patches:\n",
    "                _x = p.get_x() + p.get_width() + float(space)\n",
    "                _y = p.get_y() + p.get_height()\n",
    "                value = int(p.get_width())\n",
    "                ax.text(_x, _y, value, ha=\"left\", va='bottom')\n",
    "\n",
    "    if isinstance(axs, np.ndarray):\n",
    "        for idx, ax in np.ndenumerate(axs):\n",
    "            _show_on_single_plot(ax)\n",
    "    else:\n",
    "        _show_on_single_plot(axs)"
   ]
  },
  {
   "cell_type": "code",
   "execution_count": null,
   "metadata": {},
   "outputs": [],
   "source": [
    "mv_genres_count = count_genres(mv.genres.values.tolist())"
   ]
  },
  {
   "cell_type": "code",
   "execution_count": null,
   "metadata": {},
   "outputs": [],
   "source": [
    "mv_org = mv.loc[mv['originals']==1].copy()"
   ]
  },
  {
   "cell_type": "code",
   "execution_count": null,
   "metadata": {},
   "outputs": [],
   "source": [
    "mv_org_genres_count = count_genres(mv_org.genres.values.tolist())"
   ]
  },
  {
   "cell_type": "code",
   "execution_count": null,
   "metadata": {},
   "outputs": [],
   "source": [
    "fig, ax = plt.subplots(1,2,figsize=(16,8))\n",
    "bar = sns.barplot(x = 'counts',\n",
    "                  y = 'genres',\n",
    "                  data = mv_genres_count,\n",
    "                  ax = ax[0],\n",
    "                  orient = 'h')\n",
    "show_values_on_bars(bar, h_v='h', space=0.3)\n",
    "ax[0].set_title('The distribution of Netflix movies')\n",
    "\n",
    "bar = sns.barplot(x = 'counts',\n",
    "                  y = 'genres',\n",
    "                  data = mv_org_genres_count,\n",
    "                  ax = ax[1],\n",
    "                  orient = 'h')\n",
    "show_values_on_bars(bar, h_v='h', space=0.3)\n",
    "ax[1].set_title('The distribution of Netflix Originals movies')\n",
    "plt.show()"
   ]
  },
  {
   "cell_type": "markdown",
   "metadata": {},
   "source": [
    "Nomalise the data and compare"
   ]
  },
  {
   "cell_type": "code",
   "execution_count": null,
   "metadata": {},
   "outputs": [],
   "source": [
    "mv_genres_count['percentage'] = mv_genres_count['counts'].apply(lambda x: round(x/genres_df.counts.sum(),2))\n",
    "mv_org_genres_count['percentage'] = mv_org_genres_count['counts'].apply(lambda x: round(x/genres_df.counts.sum(),2))"
   ]
  },
  {
   "cell_type": "code",
   "execution_count": null,
   "metadata": {},
   "outputs": [],
   "source": [
    "fig, ax = plt.subplots(1,2,figsize=(16,8))\n",
    "bar = sns.barplot(x = 'percentage',\n",
    "                  y = 'genres',\n",
    "                  data = mv_genres_count,\n",
    "                  ax = ax[0],\n",
    "                  orient = 'h')\n",
    "# show_values_on_bars(bar, h_v='h', space=0.3)\n",
    "ax[0].set_title('The distribution of Netflix movies')\n",
    "\n",
    "bar = sns.barplot(x = 'percentage',\n",
    "                  y = 'genres',\n",
    "                  data = mv_org_genres_count,\n",
    "                  ax = ax[1],\n",
    "                  orient = 'h')\n",
    "# show_values_on_bars(bar, h_v='h', space=0.3)\n",
    "ax[1].set_title('The distribution of Netflix Originals movies')\n",
    "plt.savefig('movie%.png')\n",
    "plt.show()"
   ]
  },
  {
   "cell_type": "code",
   "execution_count": null,
   "metadata": {},
   "outputs": [],
   "source": [
    "def trend_in_yearN(df ,genre , N):\n",
    "    \"\"\"\n",
    "    return how many title's are in the given genre in the given year.\n",
    "    \"\"\"\n",
    "    x = count_genres(df.loc[df['year']== N].genres.values.tolist())\n",
    "    return x.set_index('genres').loc[genre].values.tolist()[0]"
   ]
  },
  {
   "cell_type": "code",
   "execution_count": null,
   "metadata": {},
   "outputs": [],
   "source": [
    "def ten_year_trend(df, genre, s=2010, e=2020):\n",
    "    \"\"\"\n",
    "    default setting start with 2010 end with 2019 (10 years).\n",
    "    return a dictionary\n",
    "    \"\"\"\n",
    "    trend = defaultdict(int)\n",
    "    for key in range(s, e):\n",
    "        year = str(key)\n",
    "        trend[key] = trend_in_yearN(mv, genre, year)\n",
    "    return trend"
   ]
  },
  {
   "cell_type": "code",
   "execution_count": null,
   "metadata": {},
   "outputs": [],
   "source": [
    "com = ten_year_trend(mv, 'comedy')\n",
    "sns.lineplot(x = list(com.keys()),\n",
    "            y = list(com.values()),\n",
    "            marker = 'X')"
   ]
  },
  {
   "cell_type": "code",
   "execution_count": null,
   "metadata": {},
   "outputs": [],
   "source": [
    "def create_trend_dataframe(df, cols):\n",
    "    \"\"\"\n",
    "    df = from which df to produce ten_year_trend\n",
    "    cols = list of genres you want to include\n",
    "    \"\"\"\n",
    "    trend_df = pd.DataFrame()\n",
    "    for genre in cols:\n",
    "        temp = pd.DataFrame(data=[ten_year_trend(df, genre)]).transpose().rename(columns={0:genre})\n",
    "        trend_df = pd.concat([trend_df, temp], axis=1)\n",
    "    return trend_df"
   ]
  },
  {
   "cell_type": "code",
   "execution_count": null,
   "metadata": {},
   "outputs": [],
   "source": [
    "cols = ['drama','comedy','action-and-adventure','thriller','romance',\n",
    "        'mystery', 'documentary','crime','family','fantasy']\n",
    "trend_df = pd.DataFrame()\n",
    "for genre in cols:\n",
    "    temp = pd.DataFrame(data=[ten_year_trend(mv, genre)]).transpose().rename(columns={0:genre})\n",
    "    trend_df = pd.concat([trend_df, temp], axis=1)"
   ]
  },
  {
   "cell_type": "code",
   "execution_count": null,
   "metadata": {},
   "outputs": [],
   "source": [
    "create_trend_dataframe(mv, cols)"
   ]
  },
  {
   "cell_type": "code",
   "execution_count": null,
   "metadata": {},
   "outputs": [],
   "source": [
    "genres = trend_df.columns.values.tolist()[1:6]\n",
    "for gen in genres:\n",
    "    sns.lineplot(x = 'index', y = gen, data = trend_df)"
   ]
  },
  {
   "cell_type": "markdown",
   "metadata": {},
   "source": [
    "## TVshow"
   ]
  },
  {
   "cell_type": "code",
   "execution_count": null,
   "metadata": {},
   "outputs": [],
   "source": [
    "temp = pd.read_csv('finaldataset_v3.csv', usecols=['title','genres','year','type','originals','cleaned'])\n",
    "tv = temp.loc[temp['type']=='tvshow'].copy()"
   ]
  },
  {
   "cell_type": "code",
   "execution_count": null,
   "metadata": {},
   "outputs": [],
   "source": [
    "tv_genres_count = count_genres(tv.genres.values.tolist())"
   ]
  },
  {
   "cell_type": "code",
   "execution_count": null,
   "metadata": {},
   "outputs": [],
   "source": [
    "tv_org = tv.loc[tv['originals']==1].copy()\n",
    "tv_org_genres_count = count_genres(tv_org.genres.values.tolist())"
   ]
  },
  {
   "cell_type": "code",
   "execution_count": null,
   "metadata": {},
   "outputs": [],
   "source": [
    "fig, ax = plt.subplots(1,2,figsize=(16,8))\n",
    "bar = sns.barplot(x = 'percentage',\n",
    "                  y = 'genres',\n",
    "                  data = tv_genres_count,\n",
    "                  ax = ax[0],\n",
    "                  orient = 'h')\n",
    "# show_values_on_bars(bar, h_v='h', space=0.3)\n",
    "ax[0].set_title('The distribution of Netflix Tvshow')\n",
    "\n",
    "bar = sns.barplot(x = 'percentage',\n",
    "                  y = 'genres',\n",
    "                  data = tv_org_genres_count,\n",
    "                  ax = ax[1],\n",
    "                  orient = 'h')\n",
    "# show_values_on_bars(bar, h_v='h', space=0.3)\n",
    "ax[1].set_title('The distribution of Netflix Originals Tvshow')\n",
    "plt.savefig('tvshow%.png')\n",
    "plt.show()"
   ]
  },
  {
   "cell_type": "code",
   "execution_count": null,
   "metadata": {},
   "outputs": [],
   "source": [
    "tv_trend = create_trend_dataframe(tv, cols).reset_index()"
   ]
  },
  {
   "cell_type": "code",
   "execution_count": null,
   "metadata": {},
   "outputs": [],
   "source": [
    "genres = tv_trend.columns.values.tolist()[1:10]\n",
    "for gen in genres:\n",
    "    sns.lineplot(x = 'index', y = gen, data = tv_trend)"
   ]
  },
  {
   "cell_type": "code",
   "execution_count": null,
   "metadata": {},
   "outputs": [],
   "source": []
  }
 ],
 "metadata": {
  "kernelspec": {
   "display_name": "Python 3",
   "language": "python",
   "name": "python3"
  },
  "language_info": {
   "codemirror_mode": {
    "name": "ipython",
    "version": 3
   },
   "file_extension": ".py",
   "mimetype": "text/x-python",
   "name": "python",
   "nbconvert_exporter": "python",
   "pygments_lexer": "ipython3",
   "version": "3.8.3"
  }
 },
 "nbformat": 4,
 "nbformat_minor": 4
}
