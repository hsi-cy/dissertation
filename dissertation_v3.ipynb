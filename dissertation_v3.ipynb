{
 "cells": [
  {
   "cell_type": "code",
   "execution_count": 1,
   "metadata": {},
   "outputs": [],
   "source": [
    "import re\n",
    "from pprint import pprint\n",
    "\n",
    "import matplotlib.pyplot as plt\n",
    "import nltk\n",
    "import numpy as np\n",
    "import pandas as pd\n",
    "import seaborn as sns\n",
    "import spacy\n",
    "from gensim.models import KeyedVectors, Word2Vec\n",
    "from nltk.corpus import stopwords\n",
    "from sklearn.cluster import KMeans\n",
    "from sklearn.decomposition import PCA\n",
    "from sklearn.metrics.pairwise import cosine_similarity\n",
    "\n",
    "\n",
    "pd.set_option('display.max_colwidth', None)\n",
    "SPECIAL_CHARS = '[^A-Za-z0-9 ]+'\n",
    "STOP_WORDS = stopwords.words('english')"
   ]
  },
  {
   "cell_type": "markdown",
   "metadata": {},
   "source": [
    "# 2. Functions"
   ]
  },
  {
   "cell_type": "code",
   "execution_count": 2,
   "metadata": {},
   "outputs": [],
   "source": [
    "def preprocess_text(text):\n",
    "    \"\"\"\n",
    "    Take out stopwords.\n",
    "    Take out punctuations and special characters.\n",
    "    \"\"\"\n",
    "    SPECIAL_CHARS = '[^A-Za-z0-9 ]+'\n",
    "    STOP_WORDS = stopwords.words('english')\n",
    "    text = text.lower().split(' ')\n",
    "    temp = [word for word in text if word not in STOP_WORDS]\n",
    "    text = ' '.join(temp)\n",
    "    text = re.sub(SPECIAL_CHARS, '', text)\n",
    "    return text"
   ]
  },
  {
   "cell_type": "code",
   "execution_count": 3,
   "metadata": {},
   "outputs": [],
   "source": [
    "def tokenise(doc):\n",
    "    return [token.text for token in nlp(doc)]"
   ]
  },
  {
   "cell_type": "code",
   "execution_count": 4,
   "metadata": {},
   "outputs": [],
   "source": [
    "def tokenise_lemma(doc):\n",
    "    \"\"\"\n",
    "    Use spacy as the nlp object to tokenise each doc\n",
    "    Lemmatise each words\n",
    "    \"\"\"\n",
    "    return ' '.join([token.lemma_ for token in nlp(doc)])"
   ]
  },
  {
   "cell_type": "code",
   "execution_count": 5,
   "metadata": {},
   "outputs": [],
   "source": [
    "# this is one way to get each title's vector representation\n",
    "# more investagtion is needed later.\n",
    "\n",
    "def get_vectors(first_map, second_map):\n",
    "    \"\"\"\n",
    "    Use tokenised words to get vectors representations from the pretrained model (i.e. second_map).\n",
    "    Average the vector representation of the description as the representation of the document \n",
    "    (i.e. each movie title's representation is the mean of vectors of each words in its description)\n",
    "    \"\"\"\n",
    "    first_vec  = dict()\n",
    "    for title, description in first_map.items():\n",
    "        temp = list()\n",
    "        for element in description: #element = tokenised words\n",
    "            try:\n",
    "                temp.append(second_map[element]) #secondmap is w2v model which should have a responding word vecotr for the tokenise word\n",
    "            except KeyError:\n",
    "                pass\n",
    "        first_vec[title] = np.mean(temp, axis=0)\n",
    "    \n",
    "    return first_vec"
   ]
  },
  {
   "cell_type": "code",
   "execution_count": 6,
   "metadata": {},
   "outputs": [],
   "source": [
    "def search(name, df):\n",
    "    return df.loc[df['title'].str.lower()==name.lower()]"
   ]
  },
  {
   "cell_type": "code",
   "execution_count": 7,
   "metadata": {},
   "outputs": [],
   "source": [
    "def get_topN_similar(lookup_id, title_vec, df, N=10):\n",
    "    lookup_id = lookup_id.lower()\n",
    "    sim = list()\n",
    "    lookup_map = title_vec\n",
    "    subject_map = title_vec \n",
    "        \n",
    "    for uid, vec in lookup_map.items():\n",
    "        thisSim = cosine_similarity(vec.reshape(1, -1), subject_map[lookup_id].reshape(1, -1))\n",
    "        org = search(uid, df).originals.values.tolist()[0]\n",
    "        gen = search(uid, df).genres.values.tolist()[0]\n",
    "        year = search(uid, df).year.values.tolist()[0]\n",
    "        sim.append((uid, thisSim[0][0], org, gen, year))\n",
    "    sim = sorted(sim, key=lambda x: x[1], reverse=True)[:N+1]\n",
    "    returnDf = pd.DataFrame(columns=['title','similarity','originals','genres', 'year'],\n",
    "                           data = sim)\n",
    "    return returnDf"
   ]
  },
  {
   "cell_type": "code",
   "execution_count": 8,
   "metadata": {},
   "outputs": [],
   "source": [
    "def get_most_similar(lookup_id, title_vec, df):\n",
    "\n",
    "    sim = list()\n",
    "    lookup_map = title_vec\n",
    "    subject_map = title_vec \n",
    "        \n",
    "    for uid, vec in lookup_map.items():\n",
    "        thisSim = cosine_similarity(vec.reshape(1, -1), subject_map[lookup_id].reshape(1, -1))\n",
    "        org = search(uid, df).originals.values\n",
    "        gen = search(uid, df).genres.values\n",
    "        sim.append((uid, thisSim[0][0], org, gen))\n",
    "\n",
    "    return sorted(sim, key=lambda x: x[1], reverse=True)"
   ]
  },
  {
   "cell_type": "code",
   "execution_count": 9,
   "metadata": {},
   "outputs": [],
   "source": [
    "def filter_df(keyword):\n",
    "    \"\"\"\n",
    "    Return a dataframe with the filtered result.\n",
    "    The input value is case-insensitive. \n",
    "    \"\"\"\n",
    "    if type(keyword) == list:\n",
    "        return netflixDf.loc[netflixDf['title'].isin(keyword)]\n",
    "    else:\n",
    "        return netflixDf.loc[netflixDf['title'].str.lower().isin([keyword.lower()])]"
   ]
  },
  {
   "cell_type": "code",
   "execution_count": 10,
   "metadata": {},
   "outputs": [],
   "source": [
    "def markerX(key, values):\n",
    "    return netflixDf.loc[netflixDf[key].str.lower().isin(values)].sort_values(by='pca_2', ascending=False)\n",
    "\n",
    "def others(key, values):\n",
    "    return netflixDf.loc[~netflixDf[key].str.lower().isin(values)]"
   ]
  },
  {
   "cell_type": "markdown",
   "metadata": {},
   "source": [
    "# 3. Analyse Pipeline"
   ]
  },
  {
   "cell_type": "markdown",
   "metadata": {},
   "source": [
    "## Terms explained\n",
    "Document -> a bunch of texts <br>\n",
    "Corpus -> a bunch of documents <br>\n",
    "Vectors -> a mathematically convenience representation of a document (a bunch of textx) <br>\n",
    "Models -> an algorithm for transforming vectors from one representation to another <br>"
   ]
  },
  {
   "cell_type": "markdown",
   "metadata": {},
   "source": [
    "## Load the spacy pretrained model"
   ]
  },
  {
   "cell_type": "code",
   "execution_count": 11,
   "metadata": {},
   "outputs": [],
   "source": [
    "# use pre-trained corpus to help tokenise words\n",
    "nlp = spacy.load('en_core_web_sm')"
   ]
  },
  {
   "cell_type": "markdown",
   "metadata": {},
   "source": [
    "## Analyse Descriptive Data"
   ]
  },
  {
   "cell_type": "code",
   "execution_count": 12,
   "metadata": {},
   "outputs": [],
   "source": [
    "movieDf = pd.read_csv('movie_dataset_july18.csv', usecols=['title','genres','year','type','originals','everything'])"
   ]
  },
  {
   "cell_type": "markdown",
   "metadata": {},
   "source": [
    "## Create Corpus and apply word embedding"
   ]
  },
  {
   "cell_type": "code",
   "execution_count": 13,
   "metadata": {},
   "outputs": [],
   "source": [
    "movieTkDocs = [tokenise(doc) for doc in movieDf.everything.values.tolist()] #tokenise "
   ]
  },
  {
   "cell_type": "code",
   "execution_count": 14,
   "metadata": {},
   "outputs": [],
   "source": [
    "# mapping out the title and each description. so later on i can search \n",
    "movieMap = dict(zip(movieDf['title'].str.lower().tolist(), movieTkDocs))\n",
    "# lower the title (easy for search)"
   ]
  },
  {
   "cell_type": "code",
   "execution_count": 15,
   "metadata": {},
   "outputs": [],
   "source": [
    "path = \"GoogleNews-vectors-negative300.bin\"\n",
    "w2v = KeyedVectors.load_word2vec_format(path, binary=True)\n",
    "# It is much faster take less than 2 minutes"
   ]
  },
  {
   "cell_type": "code",
   "execution_count": 16,
   "metadata": {},
   "outputs": [],
   "source": [
    "movieTitleVec = get_vectors(movieMap, w2v)"
   ]
  },
  {
   "cell_type": "markdown",
   "metadata": {},
   "source": [
    "## top 10 movies analysis"
   ]
  },
  {
   "cell_type": "code",
   "execution_count": 17,
   "metadata": {},
   "outputs": [],
   "source": [
    "top_10_movie = [\n",
    "    'Bird Box',\n",
    "    'Murder Mystery',\n",
    "    'Triple Frontier',\n",
    "    'The Perfect Date',\n",
    "    'Tall Girl',\n",
    "    'The Highwaymen',\n",
    "    'Secret Obsession',\n",
    "    'Always Be My Maybe',\n",
    "    'Otherhood',\n",
    "    'FYRE: The Greatest Party That Never Happened'\n",
    "]"
   ]
  },
  {
   "cell_type": "code",
   "execution_count": 18,
   "metadata": {},
   "outputs": [],
   "source": [
    "top10_and_10sim = pd.DataFrame()\n",
    "for movie in top_10_movie:\n",
    "    df = get_topN_similar(movie, movieTitleVec, movieDf)\n",
    "    top10_and_10sim = top10_and_10sim.append(df, ignore_index=True)"
   ]
  },
  {
   "cell_type": "code",
   "execution_count": 19,
   "metadata": {},
   "outputs": [],
   "source": [
    "# Only the silence_2019 has name issue. Handled it seperately.\n",
    "t = top10_and_10sim.title.tolist()\n",
    "t[1] = 'the silence'\n",
    "top10_and_10sim['title'] = t"
   ]
  },
  {
   "cell_type": "code",
   "execution_count": 20,
   "metadata": {},
   "outputs": [],
   "source": [
    "# top10_and_10sim.to_csv('similar.csv')"
   ]
  },
  {
   "cell_type": "code",
   "execution_count": 24,
   "metadata": {},
   "outputs": [],
   "source": [
    "import omdb\n",
    "import os\n",
    "OMDB_API_KEY = os.environ.get('OMDB_API_KEY')\n",
    "omdb.set_default('apikey', OMDB_API_KEY)"
   ]
  },
  {
   "cell_type": "code",
   "execution_count": 28,
   "metadata": {},
   "outputs": [],
   "source": [
    "titles_for_omdb = top10_and_10sim.title.tolist()\n",
    "year_for_omdb = top10_and_10sim.year.tolist()"
   ]
  },
  {
   "cell_type": "markdown",
   "metadata": {},
   "source": [
    "### Manually change incorrect information"
   ]
  },
  {
   "cell_type": "code",
   "execution_count": 29,
   "metadata": {},
   "outputs": [],
   "source": [
    "year_for_omdb[29] = 2016\n",
    "titles_for_omdb[39] = '#TemanTapiMenikah'\n",
    "titles_for_omdb[67] = 'silent hill: revelation'\n",
    "year_for_omdb[85] = 2014\n",
    "titles_for_omdb[98] = 'the meyerowitz stories'\n",
    "titles_for_omdb[99] = 'fyre'\n",
    "titles_for_omdb[100] = 'theater of life'\n",
    "titles_for_omdb[102] = 'woodstock'\n",
    "titles_for_omdb[104] = 'Cézanne et moi'\n",
    "year_for_omdb[106] = 2017\n",
    "titles_for_omdb[108] = 'Todo sobre el asado'"
   ]
  },
  {
   "cell_type": "code",
   "execution_count": 30,
   "metadata": {},
   "outputs": [],
   "source": [
    "def omdb_get(title,year):\n",
    "    movie_info = omdb.get(title=title, year = year, fullplot = True)\n",
    "    temp = pd.DataFrame(data=[movie_info])\n",
    "    return temp"
   ]
  },
  {
   "cell_type": "code",
   "execution_count": 31,
   "metadata": {},
   "outputs": [],
   "source": [
    "omdb_results = pd.DataFrame()\n",
    "for ix in range(110):\n",
    "    try:\n",
    "        omdb_results = omdb_results.append(omdb_get(titles_for_omdb[ix],year_for_omdb[ix]), ignore_index=True)\n",
    "    except:\n",
    "        print(ix)"
   ]
  },
  {
   "cell_type": "markdown",
   "metadata": {},
   "source": [
    "## 年份分析"
   ]
  },
  {
   "cell_type": "code",
   "execution_count": 32,
   "metadata": {},
   "outputs": [],
   "source": [
    "year_analysis = sorted(dict(omdb_results['year'].value_counts()).items(), key=lambda x: int(x[0]))"
   ]
  },
  {
   "cell_type": "code",
   "execution_count": 33,
   "metadata": {},
   "outputs": [],
   "source": [
    "year_graph = pd.DataFrame(data=year_analysis)\n",
    "# year_graph.rename(columns={0:'year',1:'count'}, inplace=True)"
   ]
  },
  {
   "cell_type": "code",
   "execution_count": 28,
   "metadata": {},
   "outputs": [],
   "source": [
    "def show_values_on_bars(axs, h_v=\"v\", space=0.4):\n",
    "    def _show_on_single_plot(ax):\n",
    "        if h_v == \"v\":\n",
    "            for p in ax.patches:\n",
    "                _x = p.get_x() + p.get_width() / 2\n",
    "                _y = p.get_y() + p.get_height()\n",
    "                value = int(p.get_height())\n",
    "                ax.text(_x, _y, value, ha=\"center\") \n",
    "        elif h_v == \"h\":\n",
    "            for p in ax.patches:\n",
    "                _x = p.get_x() + p.get_width() + float(space)\n",
    "                _y = p.get_y() + p.get_height()\n",
    "                value = int(p.get_width())\n",
    "                ax.text(_x, _y, value, ha=\"left\", va='bottom')\n",
    "\n",
    "    if isinstance(axs, np.ndarray):\n",
    "        for idx, ax in np.ndenumerate(axs):\n",
    "            _show_on_single_plot(ax)\n",
    "    else:\n",
    "        _show_on_single_plot(axs)"
   ]
  },
  {
   "cell_type": "code",
   "execution_count": 34,
   "metadata": {},
   "outputs": [
    {
     "data": {
      "image/png": "[encoded data removed]",
      "text/plain": [
       "<Figure size 1008x576 with 1 Axes>"
      ]
     },
     "metadata": {
      "needs_background": "light"
     },
     "output_type": "display_data"
    }
   ],
   "source": [
    "# year_graph.rename(columns={0:'year',1:'count'}, inplace=True)\n",
    "fig, ax = plt.subplots(figsize=(14,8))\n",
    "sns.barplot(x='year', y='count', data=year_graph)\n",
    "show_values_on_bars(ax)\n",
    "plt.title('Top 10 Netflix Most Watched Movies and Their Recommendations Based on Similarity')\n",
    "plt.show()"
   ]
  },
  {
   "cell_type": "code",
   "execution_count": 77,
   "metadata": {},
   "outputs": [],
   "source": [
    "# How many originals?\n",
    "sim = top10_and_10sim.title.tolist()\n",
    "sim = [i for i in sim if i not in [l.lower() for l in top_10_movie]]"
   ]
  },
  {
   "cell_type": "code",
   "execution_count": 78,
   "metadata": {},
   "outputs": [],
   "source": [
    "orgMovie = []\n",
    "for mv in sim:\n",
    "    if search(mv, movieDf).originals.values == 1:\n",
    "        orgMovie.append(mv)"
   ]
  },
  {
   "cell_type": "code",
   "execution_count": 111,
   "metadata": {},
   "outputs": [
    {
     "data": {
      "text/plain": [
       "['the silence',\n",
       " 'the forest of love',\n",
       " 'how it ends',\n",
       " 'mute',\n",
       " 'the crew',\n",
       " 'extraction',\n",
       " 'coin heist',\n",
       " 'the half of it',\n",
       " 'love is blind',\n",
       " 'extremely wicked, shockingly evil and vile',\n",
       " 'dangerous lies',\n",
       " 'how to get over a breakup',\n",
       " 'back to school',\n",
       " 'the meyerowitz stories (new and selected)']"
      ]
     },
     "execution_count": 111,
     "metadata": {},
     "output_type": "execute_result"
    }
   ],
   "source": [
    "(orgMovie)"
   ]
  },
  {
   "cell_type": "markdown",
   "metadata": {},
   "source": [
    "總共有14部電影是originals"
   ]
  },
  {
   "cell_type": "code",
   "execution_count": null,
   "metadata": {},
   "outputs": [],
   "source": [
    "### mv01_year = pd.DataFrame(data = sorted(dict(omdb_results['year'].value_counts()).items(), key=lambda x: int(x[0]))[0:11])\n",
    "mv01_year.rename(columns={0:'year',1:'count'}, inplace=True)"
   ]
  },
  {
   "cell_type": "code",
   "execution_count": 65,
   "metadata": {},
   "outputs": [
    {
     "data": {
      "image/png": "[encoded data removed]",
      "text/plain": [
       "<Figure size 1008x576 with 1 Axes>"
      ]
     },
     "metadata": {
      "needs_background": "light"
     },
     "output_type": "display_data"
    }
   ],
   "source": [
    "fig, ax = plt.subplots(figsize=(14,8))\n",
    "sns.barplot(x='year', y='count', data=mv01_year)\n",
    "show_values_on_bars(ax)\n",
    "plt.title('mv01_year')\n",
    "plt.show()"
   ]
  },
  {
   "cell_type": "code",
   "execution_count": 89,
   "metadata": {},
   "outputs": [],
   "source": [
    "mv01 = omdb_results.iloc[0:11,:].copy()"
   ]
  },
  {
   "cell_type": "code",
   "execution_count": 90,
   "metadata": {},
   "outputs": [
    {
     "data": {
      "image/png": "[encoded data removed]",
      "text/plain": [
       "<Figure size 1008x576 with 1 Axes>"
      ]
     },
     "metadata": {
      "needs_background": "light"
     },
     "output_type": "display_data"
    }
   ],
   "source": [
    "from collections import defaultdict\n",
    "count = defaultdict(int)\n",
    "for g in mv01.genre:\n",
    "    for each in g.split(','):\n",
    "        each = each.rstrip().lstrip()\n",
    "        count[each] += 1\n",
    "genre_analysis = pd.DataFrame(data=[count])\n",
    "genre_analysis = genre_analysis.transpose().reset_index().rename(columns={'index':'genre',0:'count'})\n",
    "genre_analysis = genre_analysis.sort_values(by='count', ascending=False)\n",
    "\n",
    "fig, ax = plt.subplots(figsize=(14,8))\n",
    "sns.barplot(x='genre', y='count', data=genre_analysis)\n",
    "show_values_on_bars(ax)\n",
    "plt.title('Genre Analysis of Movie 01')\n",
    "plt.show()"
   ]
  },
  {
   "cell_type": "code",
   "execution_count": 106,
   "metadata": {},
   "outputs": [],
   "source": [
    "# imdb_rating\n",
    "imdb = mv01.imdb_rating.tolist()\n",
    "imdb = [float(i) for i in imdb]\n",
    "imdb_rating = dict()\n",
    "\n",
    "imdb_rating['median_rating'] = np.median(imdb)\n",
    "imdb_rating['mean_rating'] = np.mean(imdb)\n",
    "imdb_rating['max_rating'] = np.max(imdb)\n",
    "imdb_rating['min_rating'] = np.min(imdb)\n",
    "\n",
    "imdb_ratingDf = pd.DataFrame(data=[imdb_rating])"
   ]
  },
  {
   "cell_type": "code",
   "execution_count": 110,
   "metadata": {},
   "outputs": [
    {
     "data": {
      "text/html": [
       "<div>\n",
       "<style scoped>\n",
       "    .dataframe tbody tr th:only-of-type {\n",
       "        vertical-align: middle;\n",
       "    }\n",
       "\n",
       "    .dataframe tbody tr th {\n",
       "        vertical-align: top;\n",
       "    }\n",
       "\n",
       "    .dataframe thead th {\n",
       "        text-align: right;\n",
       "    }\n",
       "</style>\n",
       "<table border=\"1\" class=\"dataframe\">\n",
       "  <thead>\n",
       "    <tr style=\"text-align: right;\">\n",
       "      <th></th>\n",
       "      <th>value</th>\n",
       "    </tr>\n",
       "  </thead>\n",
       "  <tbody>\n",
       "    <tr>\n",
       "      <th>median_rating</th>\n",
       "      <td>6.200000</td>\n",
       "    </tr>\n",
       "    <tr>\n",
       "      <th>mean_rating</th>\n",
       "      <td>5.981818</td>\n",
       "    </tr>\n",
       "    <tr>\n",
       "      <th>max_rating</th>\n",
       "      <td>9.000000</td>\n",
       "    </tr>\n",
       "    <tr>\n",
       "      <th>min_rating</th>\n",
       "      <td>3.700000</td>\n",
       "    </tr>\n",
       "  </tbody>\n",
       "</table>\n",
       "</div>"
      ],
      "text/plain": [
       "                  value\n",
       "median_rating  6.200000\n",
       "mean_rating    5.981818\n",
       "max_rating     9.000000\n",
       "min_rating     3.700000"
      ]
     },
     "execution_count": 110,
     "metadata": {},
     "output_type": "execute_result"
    }
   ],
   "source": [
    "imdb_ratingDf.transpose().rename(columns={0:'value'})"
   ]
  },
  {
   "cell_type": "code",
   "execution_count": 27,
   "metadata": {},
   "outputs": [
    {
     "ename": "NameError",
     "evalue": "name 'mv01' is not defined",
     "output_type": "error",
     "traceback": [
      "\u001b[0;31m---------------------------------------------------------------------------\u001b[0m",
      "\u001b[0;31mNameError\u001b[0m                                 Traceback (most recent call last)",
      "\u001b[0;32m<ipython-input-27-dde6f8aa668a>\u001b[0m in \u001b[0;36m<module>\u001b[0;34m\u001b[0m\n\u001b[1;32m      1\u001b[0m \u001b[0;31m# any originals in its 10 recommendations?\u001b[0m\u001b[0;34m\u001b[0m\u001b[0;34m\u001b[0m\u001b[0;34m\u001b[0m\u001b[0m\n\u001b[0;32m----> 2\u001b[0;31m \u001b[0;32mfor\u001b[0m \u001b[0mt\u001b[0m \u001b[0;32min\u001b[0m \u001b[0mmv01\u001b[0m\u001b[0;34m.\u001b[0m\u001b[0mtitle\u001b[0m\u001b[0;34m:\u001b[0m\u001b[0;34m\u001b[0m\u001b[0;34m\u001b[0m\u001b[0m\n\u001b[0m\u001b[1;32m      3\u001b[0m     \u001b[0;32mif\u001b[0m \u001b[0mt\u001b[0m\u001b[0;34m.\u001b[0m\u001b[0mlower\u001b[0m\u001b[0;34m(\u001b[0m\u001b[0;34m)\u001b[0m \u001b[0;32min\u001b[0m \u001b[0morgMovie\u001b[0m\u001b[0;34m:\u001b[0m\u001b[0;34m\u001b[0m\u001b[0;34m\u001b[0m\u001b[0m\n\u001b[1;32m      4\u001b[0m         \u001b[0mprint\u001b[0m\u001b[0;34m(\u001b[0m\u001b[0mt\u001b[0m\u001b[0;34m)\u001b[0m\u001b[0;34m\u001b[0m\u001b[0;34m\u001b[0m\u001b[0m\n\u001b[1;32m      5\u001b[0m \u001b[0;31m#         print(mv01.loc[mv01.title==t].imdb_rating)\u001b[0m\u001b[0;34m\u001b[0m\u001b[0;34m\u001b[0m\u001b[0;34m\u001b[0m\u001b[0m\n",
      "\u001b[0;31mNameError\u001b[0m: name 'mv01' is not defined"
     ]
    }
   ],
   "source": [
    "# any originals in its 10 recommendations?\n",
    "for t in mv01.title:\n",
    "    if t.lower() in orgMovie:\n",
    "        print(t)\n",
    "#         print(mv01.loc[mv01.title==t].imdb_rating)\n",
    "#         print(mv01.loc[mv01.title==t].imdb_votes)"
   ]
  },
  {
   "cell_type": "code",
   "execution_count": 134,
   "metadata": {},
   "outputs": [
    {
     "data": {
      "text/plain": [
       "Index(['title', 'year', 'rated', 'released', 'runtime', 'genre', 'director',\n",
       "       'writer', 'actors', 'plot', 'language', 'country', 'awards', 'poster',\n",
       "       'ratings', 'metascore', 'imdb_rating', 'imdb_votes', 'imdb_id', 'type',\n",
       "       'dvd', 'box_office', 'production', 'website', 'response'],\n",
       "      dtype='object')"
      ]
     },
     "execution_count": 134,
     "metadata": {},
     "output_type": "execute_result"
    }
   ],
   "source": [
    "mv01.columns"
   ]
  },
  {
   "cell_type": "markdown",
   "metadata": {},
   "source": [
    "## YouTube Analysis\n",
    "There are 4 movies are originals.\n",
    "Go to Netflix channel to grab videoID"
   ]
  },
  {
   "cell_type": "code",
   "execution_count": 26,
   "metadata": {},
   "outputs": [],
   "source": [
    "from googleapiclient.discovery import build\n",
    "\n",
    "YOUTUBE_API_KEY = os.environ.get('YOUTUBE_API_KEY')\n",
    "\n",
    "youtube = build('youtube','v3',developerKey=YOUTUBE_API_KEY)"
   ]
  },
  {
   "cell_type": "code",
   "execution_count": 26,
   "metadata": {},
   "outputs": [],
   "source": [
    "request = youtube.commentThreads().list(\n",
    "        part=\"snippet,replies\",\n",
    "        maxResults = 100,\n",
    "        videoId=\"NfpXeLVzJIw\")"
   ]
  },
  {
   "cell_type": "code",
   "execution_count": 27,
   "metadata": {},
   "outputs": [],
   "source": [
    "response = request.execute()"
   ]
  },
  {
   "cell_type": "code",
   "execution_count": 147,
   "metadata": {},
   "outputs": [
    {
     "data": {
      "text/plain": [
       "environ{'TERM_PROGRAM': 'Apple_Terminal',\n",
       "        'SHELL': '/bin/bash',\n",
       "        'TERM': 'xterm-color',\n",
       "        'TMPDIR': '/var/folders/3h/ft2syjn91dn167b4jh665dbw0000gn/T/',\n",
       "        'TERM_PROGRAM_VERSION': '433',\n",
       "        'OLDPWD': '/Users/hsichengyun/MSc/Dissertation/data',\n",
       "        'TERM_SESSION_ID': 'BB983703-47F2-40A1-82DE-73CAE8C0A10A',\n",
       "        'USER': 'hsichengyun',\n",
       "        'SSH_AUTH_SOCK': '/private/tmp/com.apple.launchd.Zh6CqZQS6x/Listeners',\n",
       "        'VIRTUAL_ENV': '/Users/hsichengyun/MSc/Dissertation/data/crawler/venv',\n",
       "        'PATH': '/Users/hsichengyun/MSc/Dissertation/data/crawler/venv/bin:/Library/Frameworks/Python.framework/Versions/3.8/bin:/opt/anaconda3/bin:/usr/local/mysql/bin:/opt/anaconda3/bin:/anaconda3/bin:/Library/Frameworks/Python.framework/Versions/3.6/bin:/Library/Frameworks/Python.framework/Versions/3.6/bin:/usr/local/bin:/usr/bin:/bin:/usr/sbin:/sbin',\n",
       "        'LaunchInstanceID': '05F3C667-11FF-4DEA-93E6-3C198C38B11D',\n",
       "        'PWD': '/Users/hsichengyun/MSc/Dissertation/data/crawler',\n",
       "        'XPC_FLAGS': '0x0',\n",
       "        'PS1': '(venv) \\\\h:\\\\W \\\\u\\\\$ ',\n",
       "        'XPC_SERVICE_NAME': '0',\n",
       "        'SHLVL': '1',\n",
       "        'HOME': '/Users/hsichengyun',\n",
       "        'LOGNAME': 'hsichengyun',\n",
       "        'LC_CTYPE': 'UTF-8',\n",
       "        'SECURITYSESSIONID': '186a7',\n",
       "        '_': '/Users/hsichengyun/MSc/Dissertation/data/crawler/venv/bin/jupyter',\n",
       "        '__CF_USER_TEXT_ENCODING': '0x1F5:0x0:0x0',\n",
       "        'KERNEL_LAUNCH_TIMEOUT': '40',\n",
       "        'JPY_PARENT_PID': '1195',\n",
       "        'CLICOLOR': '1',\n",
       "        'PAGER': 'cat',\n",
       "        'GIT_PAGER': 'cat',\n",
       "        'MPLBACKEND': 'module://ipykernel.pylab.backend_inline',\n",
       "        'KMP_DUPLICATE_LIB_OK': 'True',\n",
       "        'KMP_INIT_AT_FORK': 'FALSE'}"
      ]
     },
     "execution_count": 147,
     "metadata": {},
     "output_type": "execute_result"
    }
   ],
   "source": [
    "os.environ"
   ]
  },
  {
   "cell_type": "code",
   "execution_count": 135,
   "metadata": {},
   "outputs": [
    {
     "data": {
      "text/plain": [
       "Sentiment(polarity=-0.18727272727272726, subjectivity=0.6890909090909091)"
      ]
     },
     "execution_count": 135,
     "metadata": {},
     "output_type": "execute_result"
    }
   ],
   "source": [
    "from textblob import TextBlob\n",
    "\n",
    "tb = TextBlob(movieDf.everything[0])\n",
    "tb.sentiment"
   ]
  },
  {
   "cell_type": "code",
   "execution_count": 130,
   "metadata": {},
   "outputs": [
    {
     "data": {
      "text/plain": [
       "'About a man who wakes up one morning to discover that the day repeats, a carbon copy of the day before, trapping him in an inescapable vicious circle. This man has a dream to live for 100 years, however he is living for one day only and that day keep repeating to show him the negative and positive things in his life. comedy,drama,fantasy,thriller'"
      ]
     },
     "execution_count": 130,
     "metadata": {},
     "output_type": "execute_result"
    }
   ],
   "source": []
  },
  {
   "cell_type": "markdown",
   "metadata": {},
   "source": [
    "# Descriptive analysis"
   ]
  },
  {
   "cell_type": "code",
   "execution_count": null,
   "metadata": {},
   "outputs": [],
   "source": [
    "# genres count\n",
    "mv = temp.loc[temp['type']=='movie'].copy()"
   ]
  },
  {
   "cell_type": "code",
   "execution_count": null,
   "metadata": {},
   "outputs": [],
   "source": [
    "from collections import defaultdict"
   ]
  },
  {
   "cell_type": "code",
   "execution_count": null,
   "metadata": {},
   "outputs": [],
   "source": [
    "def count_genres(genre_list):\n",
    "    \"\"\"\n",
    "    genre_list is pd sereis\n",
    "    return a dataframe\n",
    "    \"\"\"\n",
    "    genres_count = defaultdict(int)\n",
    "    for movie in genre_list:\n",
    "        for genre in movie.split(','):\n",
    "            genres_count[genre] += 1\n",
    "    df = pd.DataFrame(data=[genres_count])\n",
    "    df = df.transpose().reset_index().rename(columns={'index':'genres',0:'counts'}).sort_values(by = 'counts', ascending=False).reset_index(drop=True)\n",
    "    df['percentage'] = df['counts'].apply(lambda x: round(x/df.counts.sum(),2))\n",
    "    return df"
   ]
  },
  {
   "cell_type": "code",
   "execution_count": null,
   "metadata": {},
   "outputs": [],
   "source": [
    "def show_values_on_bars(axs, h_v=\"v\", space=0.4):\n",
    "    def _show_on_single_plot(ax):\n",
    "        if h_v == \"v\":\n",
    "            for p in ax.patches:\n",
    "                _x = p.get_x() + p.get_width() / 2\n",
    "                _y = p.get_y() + p.get_height()\n",
    "                value = int(p.get_height())\n",
    "                ax.text(_x, _y, value, ha=\"center\") \n",
    "        elif h_v == \"h\":\n",
    "            for p in ax.patches:\n",
    "                _x = p.get_x() + p.get_width() + float(space)\n",
    "                _y = p.get_y() + p.get_height()\n",
    "                value = int(p.get_width())\n",
    "                ax.text(_x, _y, value, ha=\"left\", va='bottom')\n",
    "\n",
    "    if isinstance(axs, np.ndarray):\n",
    "        for idx, ax in np.ndenumerate(axs):\n",
    "            _show_on_single_plot(ax)\n",
    "    else:\n",
    "        _show_on_single_plot(axs)"
   ]
  },
  {
   "cell_type": "code",
   "execution_count": null,
   "metadata": {},
   "outputs": [],
   "source": [
    "mv_genres_count = count_genres(mv.genres.values.tolist())"
   ]
  },
  {
   "cell_type": "code",
   "execution_count": null,
   "metadata": {},
   "outputs": [],
   "source": [
    "mv_org = mv.loc[mv['originals']==1].copy()"
   ]
  },
  {
   "cell_type": "code",
   "execution_count": null,
   "metadata": {},
   "outputs": [],
   "source": [
    "mv_org_genres_count = count_genres(mv_org.genres.values.tolist())"
   ]
  },
  {
   "cell_type": "code",
   "execution_count": null,
   "metadata": {},
   "outputs": [],
   "source": [
    "fig, ax = plt.subplots(1,2,figsize=(16,8))\n",
    "bar = sns.barplot(x = 'counts',\n",
    "                  y = 'genres',\n",
    "                  data = mv_genres_count,\n",
    "                  ax = ax[0],\n",
    "                  orient = 'h')\n",
    "show_values_on_bars(bar, h_v='h', space=0.3)\n",
    "ax[0].set_title('The distribution of Netflix movies')\n",
    "\n",
    "bar = sns.barplot(x = 'counts',\n",
    "                  y = 'genres',\n",
    "                  data = mv_org_genres_count,\n",
    "                  ax = ax[1],\n",
    "                  orient = 'h')\n",
    "show_values_on_bars(bar, h_v='h', space=0.3)\n",
    "ax[1].set_title('The distribution of Netflix Originals movies')\n",
    "plt.show()"
   ]
  },
  {
   "cell_type": "markdown",
   "metadata": {},
   "source": [
    "Nomalise the data and compare"
   ]
  },
  {
   "cell_type": "code",
   "execution_count": null,
   "metadata": {},
   "outputs": [],
   "source": [
    "mv_genres_count['percentage'] = mv_genres_count['counts'].apply(lambda x: round(x/genres_df.counts.sum(),2))\n",
    "mv_org_genres_count['percentage'] = mv_org_genres_count['counts'].apply(lambda x: round(x/genres_df.counts.sum(),2))"
   ]
  },
  {
   "cell_type": "code",
   "execution_count": null,
   "metadata": {},
   "outputs": [],
   "source": [
    "fig, ax = plt.subplots(1,2,figsize=(16,8))\n",
    "bar = sns.barplot(x = 'percentage',\n",
    "                  y = 'genres',\n",
    "                  data = mv_genres_count,\n",
    "                  ax = ax[0],\n",
    "                  orient = 'h')\n",
    "# show_values_on_bars(bar, h_v='h', space=0.3)\n",
    "ax[0].set_title('The distribution of Netflix movies')\n",
    "\n",
    "bar = sns.barplot(x = 'percentage',\n",
    "                  y = 'genres',\n",
    "                  data = mv_org_genres_count,\n",
    "                  ax = ax[1],\n",
    "                  orient = 'h')\n",
    "# show_values_on_bars(bar, h_v='h', space=0.3)\n",
    "ax[1].set_title('The distribution of Netflix Originals movies')\n",
    "plt.savefig('movie%.png')\n",
    "plt.show()"
   ]
  },
  {
   "cell_type": "code",
   "execution_count": null,
   "metadata": {},
   "outputs": [],
   "source": [
    "def trend_in_yearN(df ,genre , N):\n",
    "    \"\"\"\n",
    "    return how many title's are in the given genre in the given year.\n",
    "    \"\"\"\n",
    "    x = count_genres(df.loc[df['year']== N].genres.values.tolist())\n",
    "    return x.set_index('genres').loc[genre].values.tolist()[0]"
   ]
  },
  {
   "cell_type": "code",
   "execution_count": null,
   "metadata": {},
   "outputs": [],
   "source": [
    "def ten_year_trend(df, genre, s=2010, e=2020):\n",
    "    \"\"\"\n",
    "    default setting start with 2010 end with 2019 (10 years).\n",
    "    return a dictionary\n",
    "    \"\"\"\n",
    "    trend = defaultdict(int)\n",
    "    for key in range(s, e):\n",
    "        year = str(key)\n",
    "        trend[key] = trend_in_yearN(mv, genre, year)\n",
    "    return trend"
   ]
  },
  {
   "cell_type": "code",
   "execution_count": null,
   "metadata": {},
   "outputs": [],
   "source": [
    "com = ten_year_trend(mv, 'comedy')\n",
    "sns.lineplot(x = list(com.keys()),\n",
    "            y = list(com.values()),\n",
    "            marker = 'X')"
   ]
  },
  {
   "cell_type": "code",
   "execution_count": null,
   "metadata": {},
   "outputs": [],
   "source": [
    "def create_trend_dataframe(df, cols):\n",
    "    \"\"\"\n",
    "    df = from which df to produce ten_year_trend\n",
    "    cols = list of genres you want to include\n",
    "    \"\"\"\n",
    "    trend_df = pd.DataFrame()\n",
    "    for genre in cols:\n",
    "        temp = pd.DataFrame(data=[ten_year_trend(df, genre)]).transpose().rename(columns={0:genre})\n",
    "        trend_df = pd.concat([trend_df, temp], axis=1)\n",
    "    return trend_df"
   ]
  },
  {
   "cell_type": "code",
   "execution_count": null,
   "metadata": {},
   "outputs": [],
   "source": [
    "cols = ['drama','comedy','action-and-adventure','thriller','romance',\n",
    "        'mystery', 'documentary','crime','family','fantasy']\n",
    "trend_df = pd.DataFrame()\n",
    "for genre in cols:\n",
    "    temp = pd.DataFrame(data=[ten_year_trend(mv, genre)]).transpose().rename(columns={0:genre})\n",
    "    trend_df = pd.concat([trend_df, temp], axis=1)"
   ]
  },
  {
   "cell_type": "code",
   "execution_count": null,
   "metadata": {},
   "outputs": [],
   "source": [
    "create_trend_dataframe(mv, cols)"
   ]
  },
  {
   "cell_type": "code",
   "execution_count": null,
   "metadata": {},
   "outputs": [],
   "source": [
    "genres = trend_df.columns.values.tolist()[1:6]\n",
    "for gen in genres:\n",
    "    sns.lineplot(x = 'index', y = gen, data = trend_df)"
   ]
  },
  {
   "cell_type": "markdown",
   "metadata": {},
   "source": [
    "## TVshow"
   ]
  },
  {
   "cell_type": "code",
   "execution_count": null,
   "metadata": {},
   "outputs": [],
   "source": [
    "temp = pd.read_csv('finaldataset_v3.csv', usecols=['title','genres','year','type','originals','cleaned'])\n",
    "tv = temp.loc[temp['type']=='tvshow'].copy()"
   ]
  },
  {
   "cell_type": "code",
   "execution_count": null,
   "metadata": {},
   "outputs": [],
   "source": [
    "tv_genres_count = count_genres(tv.genres.values.tolist())"
   ]
  },
  {
   "cell_type": "code",
   "execution_count": null,
   "metadata": {},
   "outputs": [],
   "source": [
    "tv_org = tv.loc[tv['originals']==1].copy()\n",
    "tv_org_genres_count = count_genres(tv_org.genres.values.tolist())"
   ]
  },
  {
   "cell_type": "code",
   "execution_count": null,
   "metadata": {},
   "outputs": [],
   "source": [
    "fig, ax = plt.subplots(1,2,figsize=(16,8))\n",
    "bar = sns.barplot(x = 'percentage',\n",
    "                  y = 'genres',\n",
    "                  data = tv_genres_count,\n",
    "                  ax = ax[0],\n",
    "                  orient = 'h')\n",
    "# show_values_on_bars(bar, h_v='h', space=0.3)\n",
    "ax[0].set_title('The distribution of Netflix Tvshow')\n",
    "\n",
    "bar = sns.barplot(x = 'percentage',\n",
    "                  y = 'genres',\n",
    "                  data = tv_org_genres_count,\n",
    "                  ax = ax[1],\n",
    "                  orient = 'h')\n",
    "# show_values_on_bars(bar, h_v='h', space=0.3)\n",
    "ax[1].set_title('The distribution of Netflix Originals Tvshow')\n",
    "plt.savefig('tvshow%.png')\n",
    "plt.show()"
   ]
  },
  {
   "cell_type": "code",
   "execution_count": null,
   "metadata": {},
   "outputs": [],
   "source": [
    "tv_trend = create_trend_dataframe(tv, cols).reset_index()"
   ]
  },
  {
   "cell_type": "code",
   "execution_count": null,
   "metadata": {},
   "outputs": [],
   "source": [
    "genres = tv_trend.columns.values.tolist()[1:10]\n",
    "for gen in genres:\n",
    "    sns.lineplot(x = 'index', y = gen, data = tv_trend)"
   ]
  },
  {
   "cell_type": "code",
   "execution_count": null,
   "metadata": {},
   "outputs": [],
   "source": []
  }
 ],
 "metadata": {
  "kernelspec": {
   "display_name": "Python 3",
   "language": "python",
   "name": "python3"
  },
  "language_info": {
   "codemirror_mode": {
    "name": "ipython",
    "version": 3
   },
   "file_extension": ".py",
   "mimetype": "text/x-python",
   "name": "python",
   "nbconvert_exporter": "python",
   "pygments_lexer": "ipython3",
   "version": "3.8.3"
  }
 },
 "nbformat": 4,
 "nbformat_minor": 4
}
